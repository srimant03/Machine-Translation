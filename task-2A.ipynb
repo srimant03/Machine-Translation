{
 "cells": [
  {
   "cell_type": "code",
   "execution_count": 104,
   "id": "4c8b936d-f848-4f47-84f8-d3197dbb7336",
   "metadata": {},
   "outputs": [
    {
     "name": "stdout",
     "output_type": "stream",
     "text": [
      "Defaulting to user installation because normal site-packages is not writeable\n",
      "Requirement already satisfied: datasets in /home/deb/.local/lib/python3.10/site-packages (2.18.0)\n",
      "Requirement already satisfied: filelock in /home/tools/anaconda3/lib/python3.10/site-packages (from datasets) (3.9.0)\n",
      "Requirement already satisfied: numpy>=1.17 in /home/deb/.local/lib/python3.10/site-packages (from datasets) (1.26.4)\n",
      "Requirement already satisfied: pyarrow>=12.0.0 in /home/deb/.local/lib/python3.10/site-packages (from datasets) (15.0.2)\n",
      "Requirement already satisfied: pyarrow-hotfix in /home/deb/.local/lib/python3.10/site-packages (from datasets) (0.6)\n",
      "Requirement already satisfied: dill<0.3.9,>=0.3.0 in /home/deb/.local/lib/python3.10/site-packages (from datasets) (0.3.8)\n",
      "Requirement already satisfied: pandas in /home/tools/anaconda3/lib/python3.10/site-packages (from datasets) (1.3.4)\n",
      "Requirement already satisfied: requests>=2.19.0 in /home/tools/anaconda3/lib/python3.10/site-packages (from datasets) (2.31.0)\n",
      "Requirement already satisfied: tqdm>=4.62.1 in /home/tools/anaconda3/lib/python3.10/site-packages (from datasets) (4.64.1)\n",
      "Requirement already satisfied: xxhash in /home/deb/.local/lib/python3.10/site-packages (from datasets) (3.4.1)\n",
      "Requirement already satisfied: multiprocess in /home/deb/.local/lib/python3.10/site-packages (from datasets) (0.70.16)\n",
      "Requirement already satisfied: fsspec<=2024.2.0,>=2023.1.0 in /home/deb/.local/lib/python3.10/site-packages (from fsspec[http]<=2024.2.0,>=2023.1.0->datasets) (2024.2.0)\n",
      "Requirement already satisfied: aiohttp in /home/deb/.local/lib/python3.10/site-packages (from datasets) (3.9.3)\n",
      "Requirement already satisfied: huggingface-hub>=0.19.4 in /home/deb/.local/lib/python3.10/site-packages (from datasets) (0.22.1)\n",
      "Requirement already satisfied: packaging in /home/tools/anaconda3/lib/python3.10/site-packages (from datasets) (22.0)\n",
      "Requirement already satisfied: pyyaml>=5.1 in /home/tools/anaconda3/lib/python3.10/site-packages (from datasets) (6.0)\n",
      "Requirement already satisfied: aiosignal>=1.1.2 in /home/deb/.local/lib/python3.10/site-packages (from aiohttp->datasets) (1.3.1)\n",
      "Requirement already satisfied: attrs>=17.3.0 in /home/tools/anaconda3/lib/python3.10/site-packages (from aiohttp->datasets) (22.1.0)\n",
      "Requirement already satisfied: frozenlist>=1.1.1 in /home/deb/.local/lib/python3.10/site-packages (from aiohttp->datasets) (1.4.1)\n",
      "Requirement already satisfied: multidict<7.0,>=4.5 in /home/deb/.local/lib/python3.10/site-packages (from aiohttp->datasets) (6.0.5)\n",
      "Requirement already satisfied: yarl<2.0,>=1.0 in /home/deb/.local/lib/python3.10/site-packages (from aiohttp->datasets) (1.9.4)\n",
      "Requirement already satisfied: async-timeout<5.0,>=4.0 in /home/deb/.local/lib/python3.10/site-packages (from aiohttp->datasets) (4.0.3)\n",
      "Requirement already satisfied: typing-extensions>=3.7.4.3 in /home/deb/.local/lib/python3.10/site-packages (from huggingface-hub>=0.19.4->datasets) (4.10.0)\n",
      "Requirement already satisfied: charset-normalizer<4,>=2 in /home/tools/anaconda3/lib/python3.10/site-packages (from requests>=2.19.0->datasets) (2.0.4)\n",
      "Requirement already satisfied: idna<4,>=2.5 in /home/tools/anaconda3/lib/python3.10/site-packages (from requests>=2.19.0->datasets) (3.4)\n",
      "Requirement already satisfied: urllib3<3,>=1.21.1 in /home/tools/anaconda3/lib/python3.10/site-packages (from requests>=2.19.0->datasets) (1.26.14)\n",
      "Requirement already satisfied: certifi>=2017.4.17 in /home/tools/anaconda3/lib/python3.10/site-packages (from requests>=2.19.0->datasets) (2022.12.7)\n",
      "Requirement already satisfied: python-dateutil>=2.7.3 in /home/tools/anaconda3/lib/python3.10/site-packages (from pandas->datasets) (2.8.2)\n",
      "Requirement already satisfied: pytz>=2017.3 in /home/tools/anaconda3/lib/python3.10/site-packages (from pandas->datasets) (2022.7)\n",
      "Requirement already satisfied: six>=1.5 in /home/tools/anaconda3/lib/python3.10/site-packages (from python-dateutil>=2.7.3->pandas->datasets) (1.16.0)\n",
      "Note: you may need to restart the kernel to use updated packages.\n"
     ]
    }
   ],
   "source": [
    "pip install datasets"
   ]
  },
  {
   "cell_type": "code",
   "execution_count": 105,
   "id": "d8e89721-f5b0-4fb4-95fa-4cc65e0931b2",
   "metadata": {},
   "outputs": [],
   "source": [
    "from datasets import load_dataset\n",
    "import pandas as pd"
   ]
  },
  {
   "cell_type": "code",
   "execution_count": 106,
   "id": "d2651f7d-aa96-4129-98e4-427f0de15808",
   "metadata": {},
   "outputs": [],
   "source": [
    "data_train = load_dataset(\"wmt16\",\"de-en\", split=\"train[:50000]\")"
   ]
  },
  {
   "cell_type": "code",
   "execution_count": 107,
   "id": "fee015c2-221e-49ac-8b3c-541b054e50a5",
   "metadata": {},
   "outputs": [
    {
     "name": "stdout",
     "output_type": "stream",
     "text": [
      "Dataset({\n",
      "    features: ['translation'],\n",
      "    num_rows: 50000\n",
      "})\n"
     ]
    }
   ],
   "source": [
    "print(data_train)"
   ]
  },
  {
   "cell_type": "code",
   "execution_count": 108,
   "id": "4e39bdf4-b1ef-4480-ab58-4f1ca7e05ac7",
   "metadata": {},
   "outputs": [
    {
     "name": "stdout",
     "output_type": "stream",
     "text": [
      "[('Wiederaufnahme der Sitzungsperiode', 'Resumption of the session'), ('Ich erkläre die am Freitag, dem 17. Dezember unterbrochene Sitzungsperiode des Europäischen Parlaments für wiederaufgenommen, wünsche Ihnen nochmals alles Gute zum Jahreswechsel und hoffe, daß Sie schöne Ferien hatten.', 'I declare resumed the session of the European Parliament adjourned on Friday 17 December 1999, and I would like once again to wish you a happy new year in the hope that you enjoyed a pleasant festive period.'), ('Wie Sie feststellen konnten, ist der gefürchtete \"Millenium-Bug \" nicht eingetreten. Doch sind Bürger einiger unserer Mitgliedstaaten Opfer von schrecklichen Naturkatastrophen geworden.', \"Although, as you will have seen, the dreaded 'millennium bug' failed to materialise, still the people in a number of countries suffered a series of natural disasters that truly were dreadful.\"), ('Im Parlament besteht der Wunsch nach einer Aussprache im Verlauf dieser Sitzungsperiode in den nächsten Tagen.', 'You have requested a debate on this subject in the course of the next few days, during this part-session.'), ('Heute möchte ich Sie bitten - das ist auch der Wunsch einiger Kolleginnen und Kollegen -, allen Opfern der Stürme, insbesondere in den verschiedenen Ländern der Europäischen Union, in einer Schweigeminute zu gedenken.', \"In the meantime, I should like to observe a minute' s silence, as a number of Members have requested, on behalf of all the victims concerned, particularly those of the terrible storms, in the various countries of the European Union.\"), ('Ich bitte Sie, sich zu einer Schweigeminute zu erheben.', \"Please rise, then, for this minute' s silence.\"), ('(Das Parlament erhebt sich zu einer Schweigeminute.)', \"(The House rose and observed a minute' s silence)\"), ('Frau Präsidentin, zur Geschäftsordnung.', 'Madam President, on a point of order.'), ('Wie Sie sicher aus der Presse und dem Fernsehen wissen, gab es in Sri Lanka mehrere Bombenexplosionen mit zahlreichen Toten.', 'You will be aware from the press and television that there have been a number of bomb explosions and killings in Sri Lanka.'), ('Zu den Attentatsopfern, die es in jüngster Zeit in Sri Lanka zu beklagen gab, zählt auch Herr Kumar Ponnambalam, der dem Europäischen Parlament erst vor wenigen Monaten einen Besuch abgestattet hatte.', 'One of the people assassinated very recently in Sri Lanka was Mr Kumar Ponnambalam, who had visited the European Parliament just a few months ago.')]\n"
     ]
    }
   ],
   "source": [
    "df_train = pd.DataFrame(data_train)\n",
    "train_data = []\n",
    "for i in df_train['translation']:\n",
    "    de = i['de']\n",
    "    en = i['en']\n",
    "    train_data.append((de,en))\n",
    "print(train_data[:10])"
   ]
  },
  {
   "cell_type": "code",
   "execution_count": 109,
   "id": "9dbe8952-63ee-4b9f-969e-47006ac2b9ef",
   "metadata": {},
   "outputs": [],
   "source": [
    "data_val = load_dataset(\"wmt16\",\"de-en\", split=\"validation\")"
   ]
  },
  {
   "cell_type": "code",
   "execution_count": 110,
   "id": "45e6209d-1874-4c0e-8fc3-521f1965f546",
   "metadata": {},
   "outputs": [
    {
     "name": "stdout",
     "output_type": "stream",
     "text": [
      "[('Die Premierminister Indiens und Japans trafen sich in Tokio.', 'India and Japan prime ministers meet in Tokyo'), ('Indiens neuer Premierminister Narendra Modi trifft bei seinem ersten wichtigen Auslandsbesuch seit seinem Wahlsieg im Mai seinen japanischen Amtskollegen Shinzo Abe in Toko, um wirtschaftliche und sicherheitspolitische Beziehungen zu besprechen.', \"India's new prime minister, Narendra Modi, is meeting his Japanese counterpart, Shinzo Abe, in Tokyo to discuss economic and security ties, on his first major foreign visit since winning May's election.\"), ('Herr Modi befindet sich auf einer fünftägigen Reise nach Japan, um die wirtschaftlichen Beziehungen mit der drittgrößten Wirtschaftsnation der Welt zu festigen.', 'Mr Modi is on a five-day trip to Japan to strengthen economic ties with the third largest economy in the world.'), ('Pläne für eine stärkere kerntechnische Zusammenarbeit stehen ganz oben auf der Tagesordnung.', 'High on the agenda are plans for greater nuclear co-operation.'), ('Berichten zufolge hofft Indien darüber hinaus auf einen Vertrag zur Verteidigungszusammenarbeit zwischen den beiden Nationen.', 'India is also reportedly hoping for a deal on defence collaboration between the two nations.'), ('Polizei von Karratha verhaftet 20-Jährigen nach schneller Motorradjagd', 'Karratha police arrest 20-year-old after high speed motorcycle chase'), ('Ein Motorrad wurde beschlagnahmt, nachdem der Fahrer es mit 125 km/h in einer 70 km/h-Zone und durch Buschland gefahren hatte, um der Polizei in Bilbara zu entkommen.', 'A motorcycle has been seized after it was ridden at 125km/h in a 70km/h zone and through bushland to escape police in the Pilbara.'), ('Verkehrspolizisten in Karratha versuchten heute morgen, ein blaues Motorrad zu stoppen, nachdem sie es dabei beobachtet hatten, wie es mit 125 km/h eine Tankstelle auf der Bathdate Road verließ.', 'Traffic police on patrol in Karratha this morning tried to pull over a blue motorcycle when they spotted it reaching 125km/h as it pulled out of a service station on Bathgate Road.'), ('Die Polizei berichtet, dass der Fahrer die Haltesignale dann ignorierte und weiter auf der Burgess Road fuhr, bevor er in das Buschland abbog, wo die Beamten es aus den Augen verloren.', 'Police say the rider then failed to stop and continued on to Burgess Road before turning into bushland, causing the officers to lose sight of it.'), ('Das Motorrad sowie eine Person, die der Beschreibung des Fahrers entsprach wurden später bei einem Haus im Walcott Way in Bulgarra gesehen.', 'The motorcycle and a person matching the description of the rider was then spotted at a house on Walcott Way in Bulgarra.')]\n"
     ]
    }
   ],
   "source": [
    "df_val = pd.DataFrame(data_val)\n",
    "val_data = []\n",
    "for i in df_val['translation']:\n",
    "    de = i['de']\n",
    "    en = i['en']\n",
    "    val_data.append((de,en))\n",
    "print(val_data[:10])"
   ]
  },
  {
   "cell_type": "code",
   "execution_count": 111,
   "id": "1bc27375-20a0-42c4-a1a4-79b426e2be95",
   "metadata": {},
   "outputs": [],
   "source": [
    "data_test = load_dataset(\"wmt16\",\"de-en\", split=\"test\")"
   ]
  },
  {
   "cell_type": "code",
   "execution_count": 112,
   "id": "4eee55b3-e908-4d16-8914-de004ba9a6b9",
   "metadata": {},
   "outputs": [
    {
     "name": "stdout",
     "output_type": "stream",
     "text": [
      "Defaulting to user installation because normal site-packages is not writeable\n",
      "Requirement already satisfied: torchtext in /home/deb/.local/lib/python3.10/site-packages (0.17.2)\n",
      "Requirement already satisfied: tqdm in /home/tools/anaconda3/lib/python3.10/site-packages (from torchtext) (4.64.1)\n",
      "Requirement already satisfied: requests in /home/tools/anaconda3/lib/python3.10/site-packages (from torchtext) (2.31.0)\n",
      "Requirement already satisfied: torch==2.2.2 in /home/deb/.local/lib/python3.10/site-packages (from torchtext) (2.2.2)\n",
      "Requirement already satisfied: numpy in /home/deb/.local/lib/python3.10/site-packages (from torchtext) (1.26.4)\n",
      "Requirement already satisfied: filelock in /home/tools/anaconda3/lib/python3.10/site-packages (from torch==2.2.2->torchtext) (3.9.0)\n",
      "Requirement already satisfied: typing-extensions>=4.8.0 in /home/deb/.local/lib/python3.10/site-packages (from torch==2.2.2->torchtext) (4.10.0)\n",
      "Requirement already satisfied: sympy in /home/tools/anaconda3/lib/python3.10/site-packages (from torch==2.2.2->torchtext) (1.11.1)\n",
      "Requirement already satisfied: networkx in /home/tools/anaconda3/lib/python3.10/site-packages (from torch==2.2.2->torchtext) (2.8.4)\n",
      "Requirement already satisfied: jinja2 in /home/tools/anaconda3/lib/python3.10/site-packages (from torch==2.2.2->torchtext) (3.1.2)\n",
      "Requirement already satisfied: fsspec in /home/deb/.local/lib/python3.10/site-packages (from torch==2.2.2->torchtext) (2024.2.0)\n",
      "Requirement already satisfied: nvidia-cuda-nvrtc-cu12==12.1.105 in /home/deb/.local/lib/python3.10/site-packages (from torch==2.2.2->torchtext) (12.1.105)\n",
      "Requirement already satisfied: nvidia-cuda-runtime-cu12==12.1.105 in /home/deb/.local/lib/python3.10/site-packages (from torch==2.2.2->torchtext) (12.1.105)\n",
      "Requirement already satisfied: nvidia-cuda-cupti-cu12==12.1.105 in /home/deb/.local/lib/python3.10/site-packages (from torch==2.2.2->torchtext) (12.1.105)\n",
      "Requirement already satisfied: nvidia-cudnn-cu12==8.9.2.26 in /home/deb/.local/lib/python3.10/site-packages (from torch==2.2.2->torchtext) (8.9.2.26)\n",
      "Requirement already satisfied: nvidia-cublas-cu12==12.1.3.1 in /home/deb/.local/lib/python3.10/site-packages (from torch==2.2.2->torchtext) (12.1.3.1)\n",
      "Requirement already satisfied: nvidia-cufft-cu12==11.0.2.54 in /home/deb/.local/lib/python3.10/site-packages (from torch==2.2.2->torchtext) (11.0.2.54)\n",
      "Requirement already satisfied: nvidia-curand-cu12==10.3.2.106 in /home/deb/.local/lib/python3.10/site-packages (from torch==2.2.2->torchtext) (10.3.2.106)\n",
      "Requirement already satisfied: nvidia-cusolver-cu12==11.4.5.107 in /home/deb/.local/lib/python3.10/site-packages (from torch==2.2.2->torchtext) (11.4.5.107)\n",
      "Requirement already satisfied: nvidia-cusparse-cu12==12.1.0.106 in /home/deb/.local/lib/python3.10/site-packages (from torch==2.2.2->torchtext) (12.1.0.106)\n",
      "Requirement already satisfied: nvidia-nccl-cu12==2.19.3 in /home/deb/.local/lib/python3.10/site-packages (from torch==2.2.2->torchtext) (2.19.3)\n",
      "Requirement already satisfied: nvidia-nvtx-cu12==12.1.105 in /home/deb/.local/lib/python3.10/site-packages (from torch==2.2.2->torchtext) (12.1.105)\n",
      "Requirement already satisfied: triton==2.2.0 in /home/deb/.local/lib/python3.10/site-packages (from torch==2.2.2->torchtext) (2.2.0)\n",
      "Requirement already satisfied: nvidia-nvjitlink-cu12 in /home/deb/.local/lib/python3.10/site-packages (from nvidia-cusolver-cu12==11.4.5.107->torch==2.2.2->torchtext) (12.4.99)\n",
      "Requirement already satisfied: charset-normalizer<4,>=2 in /home/tools/anaconda3/lib/python3.10/site-packages (from requests->torchtext) (2.0.4)\n",
      "Requirement already satisfied: idna<4,>=2.5 in /home/tools/anaconda3/lib/python3.10/site-packages (from requests->torchtext) (3.4)\n",
      "Requirement already satisfied: urllib3<3,>=1.21.1 in /home/tools/anaconda3/lib/python3.10/site-packages (from requests->torchtext) (1.26.14)\n",
      "Requirement already satisfied: certifi>=2017.4.17 in /home/tools/anaconda3/lib/python3.10/site-packages (from requests->torchtext) (2022.12.7)\n",
      "Requirement already satisfied: MarkupSafe>=2.0 in /home/tools/anaconda3/lib/python3.10/site-packages (from jinja2->torch==2.2.2->torchtext) (2.1.1)\n",
      "Requirement already satisfied: mpmath>=0.19 in /home/tools/anaconda3/lib/python3.10/site-packages/mpmath-1.2.1-py3.10.egg (from sympy->torch==2.2.2->torchtext) (1.2.1)\n",
      "Note: you may need to restart the kernel to use updated packages.\n"
     ]
    }
   ],
   "source": [
    "pip install torchtext"
   ]
  },
  {
   "cell_type": "code",
   "execution_count": 113,
   "id": "0f94065f-a154-487c-8702-0a7369af1c54",
   "metadata": {},
   "outputs": [],
   "source": [
    "from torchtext.data.utils import get_tokenizer\n",
    "from torchtext.vocab import build_vocab_from_iterator\n",
    "from typing import Iterable, List"
   ]
  },
  {
   "cell_type": "code",
   "execution_count": 114,
   "id": "aca28fdc-50c4-42a3-a8c0-f71da52fe880",
   "metadata": {},
   "outputs": [
    {
     "name": "stdout",
     "output_type": "stream",
     "text": [
      "[('Obama empfängt Netanyahu', 'Obama receives Netanyahu'), ('Das Verhältnis zwischen Obama und Netanyahu ist nicht gerade freundschaftlich.', 'The relationship between Obama and Netanyahu is not exactly friendly.'), ('Die beiden wollten über die Umsetzung der internationalen Vereinbarung sowie über Teherans destabilisierende Maßnahmen im Nahen Osten sprechen.', \"The two wanted to talk about the implementation of the international agreement and about Teheran's destabilising activities in the Middle East.\"), ('Bei der Begegnung soll es aber auch um den Konflikt mit den Palästinensern und die diskutierte Zwei-Staaten-Lösung gehen.', 'The meeting was also planned to cover the conflict with the Palestinians and the disputed two state solution.'), ('Das Verhältnis zwischen Obama und Netanyahu ist seit Jahren gespannt.', 'Relations between Obama and Netanyahu have been strained for years.'), ('Washington kritisiert den andauernden Siedlungsbau Israels und wirft Netanyahu mangelnden Willen beim Friedensprozess vor.', 'Washington criticises the continuous building of settlements in Israel and accuses Netanyahu of a lack of initiative in the peace process.'), ('Durch den von Obama beworbenen Deal um das iranische Atomprogramm hat sich die Beziehung der beiden weiter verschlechtert.', \"The relationship between the two has further deteriorated because of the deal that Obama negotiated on Iran's atomic programme, .\"), ('Im März hatte Netanyahu auf Einladung der Republikaner vor dem US-Kongress eine umstrittene Rede gehalten, die teils als Affront gegen Obama gewertet wurde.', 'In March, at the invitation of the Republicans, Netanyahu made a controversial speech to the US Congress, which was partly seen as an affront to Obama.'), ('Die Rede war mit Obama nicht abgesprochen, ein Treffen hatte dieser mit Hinweis auf die seinerzeit bevorstehende Wahl in Israel abgelehnt.', 'The speech had not been agreed with Obama, who had rejected a meeting with reference to the election that was at that time impending in Israel.'), ('In einem Notruf gesteht Professor, seine Freundin erschossen zu haben', 'In 911 Call, Professor Admits to Shooting Girlfriend')]\n"
     ]
    }
   ],
   "source": [
    "df_test = pd.DataFrame(data_test)\n",
    "test_data = []\n",
    "for i in df_test['translation']:\n",
    "    de = i['de']\n",
    "    en = i['en']\n",
    "    test_data.append((de,en))\n",
    "print(test_data[:10])"
   ]
  },
  {
   "cell_type": "code",
   "execution_count": 115,
   "id": "028f5895-ba06-46a1-8b97-b3a3af3f6052",
   "metadata": {},
   "outputs": [],
   "source": [
    "SRC_LANGUAGE = 'de'\n",
    "TGT_LANGUAGE = 'en'\n",
    "\n",
    "token_transform = {}\n",
    "vocab_transform = {}"
   ]
  },
  {
   "cell_type": "code",
   "execution_count": 116,
   "id": "355491a2-4640-4108-98d4-9c647968fe51",
   "metadata": {},
   "outputs": [
    {
     "name": "stdout",
     "output_type": "stream",
     "text": [
      "Defaulting to user installation because normal site-packages is not writeable\n",
      "Requirement already satisfied: torchdata in /home/deb/.local/lib/python3.10/site-packages (0.7.1)\n",
      "Requirement already satisfied: urllib3>=1.25 in /home/tools/anaconda3/lib/python3.10/site-packages (from torchdata) (1.26.14)\n",
      "Requirement already satisfied: requests in /home/tools/anaconda3/lib/python3.10/site-packages (from torchdata) (2.31.0)\n",
      "Requirement already satisfied: torch>=2 in /home/deb/.local/lib/python3.10/site-packages (from torchdata) (2.2.2)\n",
      "Requirement already satisfied: filelock in /home/tools/anaconda3/lib/python3.10/site-packages (from torch>=2->torchdata) (3.9.0)\n",
      "Requirement already satisfied: typing-extensions>=4.8.0 in /home/deb/.local/lib/python3.10/site-packages (from torch>=2->torchdata) (4.10.0)\n",
      "Requirement already satisfied: sympy in /home/tools/anaconda3/lib/python3.10/site-packages (from torch>=2->torchdata) (1.11.1)\n",
      "Requirement already satisfied: networkx in /home/tools/anaconda3/lib/python3.10/site-packages (from torch>=2->torchdata) (2.8.4)\n",
      "Requirement already satisfied: jinja2 in /home/tools/anaconda3/lib/python3.10/site-packages (from torch>=2->torchdata) (3.1.2)\n",
      "Requirement already satisfied: fsspec in /home/deb/.local/lib/python3.10/site-packages (from torch>=2->torchdata) (2024.2.0)\n",
      "Requirement already satisfied: nvidia-cuda-nvrtc-cu12==12.1.105 in /home/deb/.local/lib/python3.10/site-packages (from torch>=2->torchdata) (12.1.105)\n",
      "Requirement already satisfied: nvidia-cuda-runtime-cu12==12.1.105 in /home/deb/.local/lib/python3.10/site-packages (from torch>=2->torchdata) (12.1.105)\n",
      "Requirement already satisfied: nvidia-cuda-cupti-cu12==12.1.105 in /home/deb/.local/lib/python3.10/site-packages (from torch>=2->torchdata) (12.1.105)\n",
      "Requirement already satisfied: nvidia-cudnn-cu12==8.9.2.26 in /home/deb/.local/lib/python3.10/site-packages (from torch>=2->torchdata) (8.9.2.26)\n",
      "Requirement already satisfied: nvidia-cublas-cu12==12.1.3.1 in /home/deb/.local/lib/python3.10/site-packages (from torch>=2->torchdata) (12.1.3.1)\n",
      "Requirement already satisfied: nvidia-cufft-cu12==11.0.2.54 in /home/deb/.local/lib/python3.10/site-packages (from torch>=2->torchdata) (11.0.2.54)\n",
      "Requirement already satisfied: nvidia-curand-cu12==10.3.2.106 in /home/deb/.local/lib/python3.10/site-packages (from torch>=2->torchdata) (10.3.2.106)\n",
      "Requirement already satisfied: nvidia-cusolver-cu12==11.4.5.107 in /home/deb/.local/lib/python3.10/site-packages (from torch>=2->torchdata) (11.4.5.107)\n",
      "Requirement already satisfied: nvidia-cusparse-cu12==12.1.0.106 in /home/deb/.local/lib/python3.10/site-packages (from torch>=2->torchdata) (12.1.0.106)\n",
      "Requirement already satisfied: nvidia-nccl-cu12==2.19.3 in /home/deb/.local/lib/python3.10/site-packages (from torch>=2->torchdata) (2.19.3)\n",
      "Requirement already satisfied: nvidia-nvtx-cu12==12.1.105 in /home/deb/.local/lib/python3.10/site-packages (from torch>=2->torchdata) (12.1.105)\n",
      "Requirement already satisfied: triton==2.2.0 in /home/deb/.local/lib/python3.10/site-packages (from torch>=2->torchdata) (2.2.0)\n",
      "Requirement already satisfied: nvidia-nvjitlink-cu12 in /home/deb/.local/lib/python3.10/site-packages (from nvidia-cusolver-cu12==11.4.5.107->torch>=2->torchdata) (12.4.99)\n",
      "Requirement already satisfied: charset-normalizer<4,>=2 in /home/tools/anaconda3/lib/python3.10/site-packages (from requests->torchdata) (2.0.4)\n",
      "Requirement already satisfied: idna<4,>=2.5 in /home/tools/anaconda3/lib/python3.10/site-packages (from requests->torchdata) (3.4)\n",
      "Requirement already satisfied: certifi>=2017.4.17 in /home/tools/anaconda3/lib/python3.10/site-packages (from requests->torchdata) (2022.12.7)\n",
      "Requirement already satisfied: MarkupSafe>=2.0 in /home/tools/anaconda3/lib/python3.10/site-packages (from jinja2->torch>=2->torchdata) (2.1.1)\n",
      "Requirement already satisfied: mpmath>=0.19 in /home/tools/anaconda3/lib/python3.10/site-packages/mpmath-1.2.1-py3.10.egg (from sympy->torch>=2->torchdata) (1.2.1)\n",
      "Defaulting to user installation because normal site-packages is not writeable\n",
      "Requirement already satisfied: spacy in /home/deb/.local/lib/python3.10/site-packages (3.7.4)\n",
      "Requirement already satisfied: spacy-legacy<3.1.0,>=3.0.11 in /home/deb/.local/lib/python3.10/site-packages (from spacy) (3.0.12)\n",
      "Requirement already satisfied: spacy-loggers<2.0.0,>=1.0.0 in /home/deb/.local/lib/python3.10/site-packages (from spacy) (1.0.5)\n",
      "Requirement already satisfied: murmurhash<1.1.0,>=0.28.0 in /home/deb/.local/lib/python3.10/site-packages (from spacy) (1.0.10)\n",
      "Requirement already satisfied: cymem<2.1.0,>=2.0.2 in /home/deb/.local/lib/python3.10/site-packages (from spacy) (2.0.8)\n",
      "Requirement already satisfied: preshed<3.1.0,>=3.0.2 in /home/deb/.local/lib/python3.10/site-packages (from spacy) (3.0.9)\n",
      "Requirement already satisfied: thinc<8.3.0,>=8.2.2 in /home/deb/.local/lib/python3.10/site-packages (from spacy) (8.2.3)\n",
      "Requirement already satisfied: wasabi<1.2.0,>=0.9.1 in /home/deb/.local/lib/python3.10/site-packages (from spacy) (1.1.2)\n",
      "Requirement already satisfied: srsly<3.0.0,>=2.4.3 in /home/deb/.local/lib/python3.10/site-packages (from spacy) (2.4.8)\n",
      "Requirement already satisfied: catalogue<2.1.0,>=2.0.6 in /home/deb/.local/lib/python3.10/site-packages (from spacy) (2.0.10)\n",
      "Requirement already satisfied: weasel<0.4.0,>=0.1.0 in /home/deb/.local/lib/python3.10/site-packages (from spacy) (0.3.4)\n",
      "Requirement already satisfied: typer<0.10.0,>=0.3.0 in /home/deb/.local/lib/python3.10/site-packages (from spacy) (0.9.4)\n",
      "Requirement already satisfied: smart-open<7.0.0,>=5.2.1 in /home/tools/anaconda3/lib/python3.10/site-packages (from spacy) (5.2.1)\n",
      "Requirement already satisfied: tqdm<5.0.0,>=4.38.0 in /home/tools/anaconda3/lib/python3.10/site-packages (from spacy) (4.64.1)\n",
      "Requirement already satisfied: requests<3.0.0,>=2.13.0 in /home/tools/anaconda3/lib/python3.10/site-packages (from spacy) (2.31.0)\n",
      "Requirement already satisfied: pydantic!=1.8,!=1.8.1,<3.0.0,>=1.7.4 in /home/deb/.local/lib/python3.10/site-packages (from spacy) (2.6.4)\n",
      "Requirement already satisfied: jinja2 in /home/tools/anaconda3/lib/python3.10/site-packages (from spacy) (3.1.2)\n",
      "Requirement already satisfied: setuptools in /home/tools/anaconda3/lib/python3.10/site-packages (from spacy) (69.0.2)\n",
      "Requirement already satisfied: packaging>=20.0 in /home/tools/anaconda3/lib/python3.10/site-packages (from spacy) (22.0)\n",
      "Requirement already satisfied: langcodes<4.0.0,>=3.2.0 in /home/deb/.local/lib/python3.10/site-packages (from spacy) (3.3.0)\n",
      "Requirement already satisfied: numpy>=1.19.0 in /home/deb/.local/lib/python3.10/site-packages (from spacy) (1.26.4)\n",
      "Requirement already satisfied: annotated-types>=0.4.0 in /home/deb/.local/lib/python3.10/site-packages (from pydantic!=1.8,!=1.8.1,<3.0.0,>=1.7.4->spacy) (0.6.0)\n",
      "Requirement already satisfied: pydantic-core==2.16.3 in /home/deb/.local/lib/python3.10/site-packages (from pydantic!=1.8,!=1.8.1,<3.0.0,>=1.7.4->spacy) (2.16.3)\n",
      "Requirement already satisfied: typing-extensions>=4.6.1 in /home/deb/.local/lib/python3.10/site-packages (from pydantic!=1.8,!=1.8.1,<3.0.0,>=1.7.4->spacy) (4.10.0)\n",
      "Requirement already satisfied: charset-normalizer<4,>=2 in /home/tools/anaconda3/lib/python3.10/site-packages (from requests<3.0.0,>=2.13.0->spacy) (2.0.4)\n",
      "Requirement already satisfied: idna<4,>=2.5 in /home/tools/anaconda3/lib/python3.10/site-packages (from requests<3.0.0,>=2.13.0->spacy) (3.4)\n",
      "Requirement already satisfied: urllib3<3,>=1.21.1 in /home/tools/anaconda3/lib/python3.10/site-packages (from requests<3.0.0,>=2.13.0->spacy) (1.26.14)\n",
      "Requirement already satisfied: certifi>=2017.4.17 in /home/tools/anaconda3/lib/python3.10/site-packages (from requests<3.0.0,>=2.13.0->spacy) (2022.12.7)\n",
      "Requirement already satisfied: blis<0.8.0,>=0.7.8 in /home/deb/.local/lib/python3.10/site-packages (from thinc<8.3.0,>=8.2.2->spacy) (0.7.11)\n",
      "Requirement already satisfied: confection<1.0.0,>=0.0.1 in /home/deb/.local/lib/python3.10/site-packages (from thinc<8.3.0,>=8.2.2->spacy) (0.1.4)\n",
      "Requirement already satisfied: click<9.0.0,>=7.1.1 in /home/tools/anaconda3/lib/python3.10/site-packages (from typer<0.10.0,>=0.3.0->spacy) (8.0.4)\n",
      "Requirement already satisfied: cloudpathlib<0.17.0,>=0.7.0 in /home/deb/.local/lib/python3.10/site-packages (from weasel<0.4.0,>=0.1.0->spacy) (0.16.0)\n",
      "Requirement already satisfied: MarkupSafe>=2.0 in /home/tools/anaconda3/lib/python3.10/site-packages (from jinja2->spacy) (2.1.1)\n"
     ]
    }
   ],
   "source": [
    "!pip install -U torchdata\n",
    "!pip install -U spacy"
   ]
  },
  {
   "cell_type": "code",
   "execution_count": 117,
   "id": "c37e014c-6e39-4dea-9298-df1bb2e35752",
   "metadata": {},
   "outputs": [
    {
     "name": "stdout",
     "output_type": "stream",
     "text": [
      "Defaulting to user installation because normal site-packages is not writeable\n",
      "Collecting en-core-web-sm==3.7.1\n",
      "  Downloading https://github.com/explosion/spacy-models/releases/download/en_core_web_sm-3.7.1/en_core_web_sm-3.7.1-py3-none-any.whl (12.8 MB)\n",
      "\u001b[2K     \u001b[90m━━━━━━━━━━━━━━━━━━━━━━━━━━━━━━━━━━━━━━━━\u001b[0m \u001b[32m12.8/12.8 MB\u001b[0m \u001b[31m7.2 MB/s\u001b[0m eta \u001b[36m0:00:00\u001b[0m00:01\u001b[0m00:01\u001b[0m\n",
      "\u001b[?25hRequirement already satisfied: spacy<3.8.0,>=3.7.2 in /home/deb/.local/lib/python3.10/site-packages (from en-core-web-sm==3.7.1) (3.7.4)\n",
      "Requirement already satisfied: spacy-legacy<3.1.0,>=3.0.11 in /home/deb/.local/lib/python3.10/site-packages (from spacy<3.8.0,>=3.7.2->en-core-web-sm==3.7.1) (3.0.12)\n",
      "Requirement already satisfied: spacy-loggers<2.0.0,>=1.0.0 in /home/deb/.local/lib/python3.10/site-packages (from spacy<3.8.0,>=3.7.2->en-core-web-sm==3.7.1) (1.0.5)\n",
      "Requirement already satisfied: murmurhash<1.1.0,>=0.28.0 in /home/deb/.local/lib/python3.10/site-packages (from spacy<3.8.0,>=3.7.2->en-core-web-sm==3.7.1) (1.0.10)\n",
      "Requirement already satisfied: cymem<2.1.0,>=2.0.2 in /home/deb/.local/lib/python3.10/site-packages (from spacy<3.8.0,>=3.7.2->en-core-web-sm==3.7.1) (2.0.8)\n",
      "Requirement already satisfied: preshed<3.1.0,>=3.0.2 in /home/deb/.local/lib/python3.10/site-packages (from spacy<3.8.0,>=3.7.2->en-core-web-sm==3.7.1) (3.0.9)\n",
      "Requirement already satisfied: thinc<8.3.0,>=8.2.2 in /home/deb/.local/lib/python3.10/site-packages (from spacy<3.8.0,>=3.7.2->en-core-web-sm==3.7.1) (8.2.3)\n",
      "Requirement already satisfied: wasabi<1.2.0,>=0.9.1 in /home/deb/.local/lib/python3.10/site-packages (from spacy<3.8.0,>=3.7.2->en-core-web-sm==3.7.1) (1.1.2)\n",
      "Requirement already satisfied: srsly<3.0.0,>=2.4.3 in /home/deb/.local/lib/python3.10/site-packages (from spacy<3.8.0,>=3.7.2->en-core-web-sm==3.7.1) (2.4.8)\n",
      "Requirement already satisfied: catalogue<2.1.0,>=2.0.6 in /home/deb/.local/lib/python3.10/site-packages (from spacy<3.8.0,>=3.7.2->en-core-web-sm==3.7.1) (2.0.10)\n",
      "Requirement already satisfied: weasel<0.4.0,>=0.1.0 in /home/deb/.local/lib/python3.10/site-packages (from spacy<3.8.0,>=3.7.2->en-core-web-sm==3.7.1) (0.3.4)\n",
      "Requirement already satisfied: typer<0.10.0,>=0.3.0 in /home/deb/.local/lib/python3.10/site-packages (from spacy<3.8.0,>=3.7.2->en-core-web-sm==3.7.1) (0.9.4)\n",
      "Requirement already satisfied: smart-open<7.0.0,>=5.2.1 in /home/tools/anaconda3/lib/python3.10/site-packages (from spacy<3.8.0,>=3.7.2->en-core-web-sm==3.7.1) (5.2.1)\n",
      "Requirement already satisfied: tqdm<5.0.0,>=4.38.0 in /home/tools/anaconda3/lib/python3.10/site-packages (from spacy<3.8.0,>=3.7.2->en-core-web-sm==3.7.1) (4.64.1)\n",
      "Requirement already satisfied: requests<3.0.0,>=2.13.0 in /home/tools/anaconda3/lib/python3.10/site-packages (from spacy<3.8.0,>=3.7.2->en-core-web-sm==3.7.1) (2.31.0)\n",
      "Requirement already satisfied: pydantic!=1.8,!=1.8.1,<3.0.0,>=1.7.4 in /home/deb/.local/lib/python3.10/site-packages (from spacy<3.8.0,>=3.7.2->en-core-web-sm==3.7.1) (2.6.4)\n",
      "Requirement already satisfied: jinja2 in /home/tools/anaconda3/lib/python3.10/site-packages (from spacy<3.8.0,>=3.7.2->en-core-web-sm==3.7.1) (3.1.2)\n",
      "Requirement already satisfied: setuptools in /home/tools/anaconda3/lib/python3.10/site-packages (from spacy<3.8.0,>=3.7.2->en-core-web-sm==3.7.1) (69.0.2)\n",
      "Requirement already satisfied: packaging>=20.0 in /home/tools/anaconda3/lib/python3.10/site-packages (from spacy<3.8.0,>=3.7.2->en-core-web-sm==3.7.1) (22.0)\n",
      "Requirement already satisfied: langcodes<4.0.0,>=3.2.0 in /home/deb/.local/lib/python3.10/site-packages (from spacy<3.8.0,>=3.7.2->en-core-web-sm==3.7.1) (3.3.0)\n",
      "Requirement already satisfied: numpy>=1.19.0 in /home/deb/.local/lib/python3.10/site-packages (from spacy<3.8.0,>=3.7.2->en-core-web-sm==3.7.1) (1.26.4)\n",
      "Requirement already satisfied: annotated-types>=0.4.0 in /home/deb/.local/lib/python3.10/site-packages (from pydantic!=1.8,!=1.8.1,<3.0.0,>=1.7.4->spacy<3.8.0,>=3.7.2->en-core-web-sm==3.7.1) (0.6.0)\n",
      "Requirement already satisfied: pydantic-core==2.16.3 in /home/deb/.local/lib/python3.10/site-packages (from pydantic!=1.8,!=1.8.1,<3.0.0,>=1.7.4->spacy<3.8.0,>=3.7.2->en-core-web-sm==3.7.1) (2.16.3)\n",
      "Requirement already satisfied: typing-extensions>=4.6.1 in /home/deb/.local/lib/python3.10/site-packages (from pydantic!=1.8,!=1.8.1,<3.0.0,>=1.7.4->spacy<3.8.0,>=3.7.2->en-core-web-sm==3.7.1) (4.10.0)\n",
      "Requirement already satisfied: charset-normalizer<4,>=2 in /home/tools/anaconda3/lib/python3.10/site-packages (from requests<3.0.0,>=2.13.0->spacy<3.8.0,>=3.7.2->en-core-web-sm==3.7.1) (2.0.4)\n",
      "Requirement already satisfied: idna<4,>=2.5 in /home/tools/anaconda3/lib/python3.10/site-packages (from requests<3.0.0,>=2.13.0->spacy<3.8.0,>=3.7.2->en-core-web-sm==3.7.1) (3.4)\n",
      "Requirement already satisfied: urllib3<3,>=1.21.1 in /home/tools/anaconda3/lib/python3.10/site-packages (from requests<3.0.0,>=2.13.0->spacy<3.8.0,>=3.7.2->en-core-web-sm==3.7.1) (1.26.14)\n",
      "Requirement already satisfied: certifi>=2017.4.17 in /home/tools/anaconda3/lib/python3.10/site-packages (from requests<3.0.0,>=2.13.0->spacy<3.8.0,>=3.7.2->en-core-web-sm==3.7.1) (2022.12.7)\n",
      "Requirement already satisfied: blis<0.8.0,>=0.7.8 in /home/deb/.local/lib/python3.10/site-packages (from thinc<8.3.0,>=8.2.2->spacy<3.8.0,>=3.7.2->en-core-web-sm==3.7.1) (0.7.11)\n",
      "Requirement already satisfied: confection<1.0.0,>=0.0.1 in /home/deb/.local/lib/python3.10/site-packages (from thinc<8.3.0,>=8.2.2->spacy<3.8.0,>=3.7.2->en-core-web-sm==3.7.1) (0.1.4)\n",
      "Requirement already satisfied: click<9.0.0,>=7.1.1 in /home/tools/anaconda3/lib/python3.10/site-packages (from typer<0.10.0,>=0.3.0->spacy<3.8.0,>=3.7.2->en-core-web-sm==3.7.1) (8.0.4)\n",
      "Requirement already satisfied: cloudpathlib<0.17.0,>=0.7.0 in /home/deb/.local/lib/python3.10/site-packages (from weasel<0.4.0,>=0.1.0->spacy<3.8.0,>=3.7.2->en-core-web-sm==3.7.1) (0.16.0)\n",
      "Requirement already satisfied: MarkupSafe>=2.0 in /home/tools/anaconda3/lib/python3.10/site-packages (from jinja2->spacy<3.8.0,>=3.7.2->en-core-web-sm==3.7.1) (2.1.1)\n",
      "\u001b[38;5;2m✔ Download and installation successful\u001b[0m\n",
      "You can now load the package via spacy.load('en_core_web_sm')\n",
      "Defaulting to user installation because normal site-packages is not writeable\n",
      "Collecting de-core-news-sm==3.7.0\n",
      "  Downloading https://github.com/explosion/spacy-models/releases/download/de_core_news_sm-3.7.0/de_core_news_sm-3.7.0-py3-none-any.whl (14.6 MB)\n",
      "\u001b[2K     \u001b[90m━━━━━━━━━━━━━━━━━━━━━━━━━━━━━━━━━━━━━━━━\u001b[0m \u001b[32m14.6/14.6 MB\u001b[0m \u001b[31m7.6 MB/s\u001b[0m eta \u001b[36m0:00:00\u001b[0m00:01\u001b[0m00:01\u001b[0m\n",
      "\u001b[?25hRequirement already satisfied: spacy<3.8.0,>=3.7.0 in /home/deb/.local/lib/python3.10/site-packages (from de-core-news-sm==3.7.0) (3.7.4)\n",
      "Requirement already satisfied: spacy-legacy<3.1.0,>=3.0.11 in /home/deb/.local/lib/python3.10/site-packages (from spacy<3.8.0,>=3.7.0->de-core-news-sm==3.7.0) (3.0.12)\n",
      "Requirement already satisfied: spacy-loggers<2.0.0,>=1.0.0 in /home/deb/.local/lib/python3.10/site-packages (from spacy<3.8.0,>=3.7.0->de-core-news-sm==3.7.0) (1.0.5)\n",
      "Requirement already satisfied: murmurhash<1.1.0,>=0.28.0 in /home/deb/.local/lib/python3.10/site-packages (from spacy<3.8.0,>=3.7.0->de-core-news-sm==3.7.0) (1.0.10)\n",
      "Requirement already satisfied: cymem<2.1.0,>=2.0.2 in /home/deb/.local/lib/python3.10/site-packages (from spacy<3.8.0,>=3.7.0->de-core-news-sm==3.7.0) (2.0.8)\n",
      "Requirement already satisfied: preshed<3.1.0,>=3.0.2 in /home/deb/.local/lib/python3.10/site-packages (from spacy<3.8.0,>=3.7.0->de-core-news-sm==3.7.0) (3.0.9)\n",
      "Requirement already satisfied: thinc<8.3.0,>=8.2.2 in /home/deb/.local/lib/python3.10/site-packages (from spacy<3.8.0,>=3.7.0->de-core-news-sm==3.7.0) (8.2.3)\n",
      "Requirement already satisfied: wasabi<1.2.0,>=0.9.1 in /home/deb/.local/lib/python3.10/site-packages (from spacy<3.8.0,>=3.7.0->de-core-news-sm==3.7.0) (1.1.2)\n",
      "Requirement already satisfied: srsly<3.0.0,>=2.4.3 in /home/deb/.local/lib/python3.10/site-packages (from spacy<3.8.0,>=3.7.0->de-core-news-sm==3.7.0) (2.4.8)\n",
      "Requirement already satisfied: catalogue<2.1.0,>=2.0.6 in /home/deb/.local/lib/python3.10/site-packages (from spacy<3.8.0,>=3.7.0->de-core-news-sm==3.7.0) (2.0.10)\n",
      "Requirement already satisfied: weasel<0.4.0,>=0.1.0 in /home/deb/.local/lib/python3.10/site-packages (from spacy<3.8.0,>=3.7.0->de-core-news-sm==3.7.0) (0.3.4)\n",
      "Requirement already satisfied: typer<0.10.0,>=0.3.0 in /home/deb/.local/lib/python3.10/site-packages (from spacy<3.8.0,>=3.7.0->de-core-news-sm==3.7.0) (0.9.4)\n",
      "Requirement already satisfied: smart-open<7.0.0,>=5.2.1 in /home/tools/anaconda3/lib/python3.10/site-packages (from spacy<3.8.0,>=3.7.0->de-core-news-sm==3.7.0) (5.2.1)\n",
      "Requirement already satisfied: tqdm<5.0.0,>=4.38.0 in /home/tools/anaconda3/lib/python3.10/site-packages (from spacy<3.8.0,>=3.7.0->de-core-news-sm==3.7.0) (4.64.1)\n",
      "Requirement already satisfied: requests<3.0.0,>=2.13.0 in /home/tools/anaconda3/lib/python3.10/site-packages (from spacy<3.8.0,>=3.7.0->de-core-news-sm==3.7.0) (2.31.0)\n",
      "Requirement already satisfied: pydantic!=1.8,!=1.8.1,<3.0.0,>=1.7.4 in /home/deb/.local/lib/python3.10/site-packages (from spacy<3.8.0,>=3.7.0->de-core-news-sm==3.7.0) (2.6.4)\n",
      "Requirement already satisfied: jinja2 in /home/tools/anaconda3/lib/python3.10/site-packages (from spacy<3.8.0,>=3.7.0->de-core-news-sm==3.7.0) (3.1.2)\n",
      "Requirement already satisfied: setuptools in /home/tools/anaconda3/lib/python3.10/site-packages (from spacy<3.8.0,>=3.7.0->de-core-news-sm==3.7.0) (69.0.2)\n",
      "Requirement already satisfied: packaging>=20.0 in /home/tools/anaconda3/lib/python3.10/site-packages (from spacy<3.8.0,>=3.7.0->de-core-news-sm==3.7.0) (22.0)\n",
      "Requirement already satisfied: langcodes<4.0.0,>=3.2.0 in /home/deb/.local/lib/python3.10/site-packages (from spacy<3.8.0,>=3.7.0->de-core-news-sm==3.7.0) (3.3.0)\n",
      "Requirement already satisfied: numpy>=1.19.0 in /home/deb/.local/lib/python3.10/site-packages (from spacy<3.8.0,>=3.7.0->de-core-news-sm==3.7.0) (1.26.4)\n",
      "Requirement already satisfied: annotated-types>=0.4.0 in /home/deb/.local/lib/python3.10/site-packages (from pydantic!=1.8,!=1.8.1,<3.0.0,>=1.7.4->spacy<3.8.0,>=3.7.0->de-core-news-sm==3.7.0) (0.6.0)\n",
      "Requirement already satisfied: pydantic-core==2.16.3 in /home/deb/.local/lib/python3.10/site-packages (from pydantic!=1.8,!=1.8.1,<3.0.0,>=1.7.4->spacy<3.8.0,>=3.7.0->de-core-news-sm==3.7.0) (2.16.3)\n",
      "Requirement already satisfied: typing-extensions>=4.6.1 in /home/deb/.local/lib/python3.10/site-packages (from pydantic!=1.8,!=1.8.1,<3.0.0,>=1.7.4->spacy<3.8.0,>=3.7.0->de-core-news-sm==3.7.0) (4.10.0)\n",
      "Requirement already satisfied: charset-normalizer<4,>=2 in /home/tools/anaconda3/lib/python3.10/site-packages (from requests<3.0.0,>=2.13.0->spacy<3.8.0,>=3.7.0->de-core-news-sm==3.7.0) (2.0.4)\n",
      "Requirement already satisfied: idna<4,>=2.5 in /home/tools/anaconda3/lib/python3.10/site-packages (from requests<3.0.0,>=2.13.0->spacy<3.8.0,>=3.7.0->de-core-news-sm==3.7.0) (3.4)\n",
      "Requirement already satisfied: urllib3<3,>=1.21.1 in /home/tools/anaconda3/lib/python3.10/site-packages (from requests<3.0.0,>=2.13.0->spacy<3.8.0,>=3.7.0->de-core-news-sm==3.7.0) (1.26.14)\n",
      "Requirement already satisfied: certifi>=2017.4.17 in /home/tools/anaconda3/lib/python3.10/site-packages (from requests<3.0.0,>=2.13.0->spacy<3.8.0,>=3.7.0->de-core-news-sm==3.7.0) (2022.12.7)\n",
      "Requirement already satisfied: blis<0.8.0,>=0.7.8 in /home/deb/.local/lib/python3.10/site-packages (from thinc<8.3.0,>=8.2.2->spacy<3.8.0,>=3.7.0->de-core-news-sm==3.7.0) (0.7.11)\n",
      "Requirement already satisfied: confection<1.0.0,>=0.0.1 in /home/deb/.local/lib/python3.10/site-packages (from thinc<8.3.0,>=8.2.2->spacy<3.8.0,>=3.7.0->de-core-news-sm==3.7.0) (0.1.4)\n",
      "Requirement already satisfied: click<9.0.0,>=7.1.1 in /home/tools/anaconda3/lib/python3.10/site-packages (from typer<0.10.0,>=0.3.0->spacy<3.8.0,>=3.7.0->de-core-news-sm==3.7.0) (8.0.4)\n",
      "Requirement already satisfied: cloudpathlib<0.17.0,>=0.7.0 in /home/deb/.local/lib/python3.10/site-packages (from weasel<0.4.0,>=0.1.0->spacy<3.8.0,>=3.7.0->de-core-news-sm==3.7.0) (0.16.0)\n",
      "Requirement already satisfied: MarkupSafe>=2.0 in /home/tools/anaconda3/lib/python3.10/site-packages (from jinja2->spacy<3.8.0,>=3.7.0->de-core-news-sm==3.7.0) (2.1.1)\n",
      "\u001b[38;5;2m✔ Download and installation successful\u001b[0m\n",
      "You can now load the package via spacy.load('de_core_news_sm')\n"
     ]
    }
   ],
   "source": [
    "!python -m spacy download en_core_web_sm\n",
    "!python -m spacy download de_core_news_sm"
   ]
  },
  {
   "cell_type": "code",
   "execution_count": 118,
   "id": "b28e9d06-c9d6-41a0-88a4-ba613a148535",
   "metadata": {},
   "outputs": [],
   "source": [
    "token_transform[SRC_LANGUAGE] = get_tokenizer('spacy', language='de_core_news_sm')\n",
    "token_transform[TGT_LANGUAGE] = get_tokenizer('spacy', language='en_core_web_sm')\n",
    "\n",
    "\n",
    "# helper function to yield list of tokens\n",
    "def yield_tokens(data_iter: Iterable, language: str) -> List[str]:\n",
    "    language_index = {SRC_LANGUAGE: 0, TGT_LANGUAGE: 1}\n",
    "\n",
    "    for data_sample in data_iter:\n",
    "        yield token_transform[language](data_sample[language_index[language]])\n",
    "\n",
    "# Define special symbols and indices\n",
    "UNK_IDX, PAD_IDX, BOS_IDX, EOS_IDX = 0, 1, 2, 3\n",
    "# Make sure the tokens are in order of their indices to properly insert them in vocab\n",
    "special_symbols = ['<unk>', '<pad>', '<bos>', '<eos>']\n",
    "\n",
    "for ln in [SRC_LANGUAGE, TGT_LANGUAGE]:\n",
    "    # Training data Iterator\n",
    "    train_iter = train_data\n",
    "    # Create torchtext's Vocab object\n",
    "    vocab_transform[ln] = build_vocab_from_iterator(yield_tokens(train_iter, ln),\n",
    "                                                    min_freq=1,\n",
    "                                                    specials=special_symbols,\n",
    "                                                    special_first=True)\n",
    "\n",
    "# Set ``UNK_IDX`` as the default index. This index is returned when the token is not found.\n",
    "# If not set, it throws ``RuntimeError`` when the queried token is not found in the Vocabulary.\n",
    "for ln in [SRC_LANGUAGE, TGT_LANGUAGE]:\n",
    "  vocab_transform[ln].set_default_index(UNK_IDX)"
   ]
  },
  {
   "cell_type": "code",
   "execution_count": 119,
   "id": "1bee616e-39a2-408b-a2bd-da6abf7f38f6",
   "metadata": {},
   "outputs": [],
   "source": [
    "from torch import Tensor\n",
    "import torch\n",
    "import torch.nn as nn\n",
    "from torch.nn import Transformer\n",
    "import math\n",
    "DEVICE = torch.device('cuda' if torch.cuda.is_available() else 'cpu')\n",
    "\n",
    "# helper Module that adds positional encoding to the token embedding to introduce a notion of word order.\n",
    "class PositionalEncoding(nn.Module):\n",
    "    def __init__(self,\n",
    "                 emb_size: int,\n",
    "                 dropout: float,\n",
    "                 maxlen: int = 5000):\n",
    "        super(PositionalEncoding, self).__init__()\n",
    "        den = torch.exp(- torch.arange(0, emb_size, 2)* math.log(10000) / emb_size)\n",
    "        pos = torch.arange(0, maxlen).reshape(maxlen, 1)\n",
    "        pos_embedding = torch.zeros((maxlen, emb_size))\n",
    "        pos_embedding[:, 0::2] = torch.sin(pos * den)\n",
    "        pos_embedding[:, 1::2] = torch.cos(pos * den)\n",
    "        pos_embedding = pos_embedding.unsqueeze(-2)\n",
    "\n",
    "        self.dropout = nn.Dropout(dropout)\n",
    "        self.register_buffer('pos_embedding', pos_embedding)\n",
    "\n",
    "    def forward(self, token_embedding: Tensor):\n",
    "        return self.dropout(token_embedding + self.pos_embedding[:token_embedding.size(0), :])\n",
    "\n",
    "# helper Module to convert tensor of input indices into corresponding tensor of token embeddings\n",
    "class TokenEmbedding(nn.Module):\n",
    "    def __init__(self, vocab_size: int, emb_size):\n",
    "        super(TokenEmbedding, self).__init__()\n",
    "        self.embedding = nn.Embedding(vocab_size, emb_size)\n",
    "        self.emb_size = emb_size\n",
    "\n",
    "    def forward(self, tokens: Tensor):\n",
    "        return self.embedding(tokens.long()) * math.sqrt(self.emb_size)\n",
    "\n",
    "# Seq2Seq Network\n",
    "class Seq2SeqTransformer(nn.Module):\n",
    "    def __init__(self,\n",
    "                 num_encoder_layers: int,\n",
    "                 num_decoder_layers: int,\n",
    "                 emb_size: int,\n",
    "                 nhead: int,\n",
    "                 src_vocab_size: int,\n",
    "                 tgt_vocab_size: int,\n",
    "                 dim_feedforward: int = 512,\n",
    "                 dropout: float = 0.1):\n",
    "        super(Seq2SeqTransformer, self).__init__()\n",
    "        self.transformer = Transformer(d_model=emb_size,\n",
    "                                       nhead=nhead,\n",
    "                                       num_encoder_layers=num_encoder_layers,\n",
    "                                       num_decoder_layers=num_decoder_layers,\n",
    "                                       dim_feedforward=dim_feedforward,\n",
    "                                       dropout=dropout)\n",
    "        self.generator = nn.Linear(emb_size, tgt_vocab_size)\n",
    "        self.src_tok_emb = TokenEmbedding(src_vocab_size, emb_size)\n",
    "        self.tgt_tok_emb = TokenEmbedding(tgt_vocab_size, emb_size)\n",
    "        self.positional_encoding = PositionalEncoding(\n",
    "            emb_size, dropout=dropout)\n",
    "\n",
    "    def forward(self,\n",
    "                src: Tensor,\n",
    "                trg: Tensor,\n",
    "                src_mask: Tensor,\n",
    "                tgt_mask: Tensor,\n",
    "                src_padding_mask: Tensor,\n",
    "                tgt_padding_mask: Tensor,\n",
    "                memory_key_padding_mask: Tensor):\n",
    "        src_emb = self.positional_encoding(self.src_tok_emb(src))\n",
    "        tgt_emb = self.positional_encoding(self.tgt_tok_emb(trg))\n",
    "        outs = self.transformer(src_emb, tgt_emb, src_mask, tgt_mask, None,\n",
    "                                src_padding_mask, tgt_padding_mask, memory_key_padding_mask)\n",
    "        return self.generator(outs)\n",
    "\n",
    "    def encode(self, src: Tensor, src_mask: Tensor):\n",
    "        return self.transformer.encoder(self.positional_encoding(\n",
    "                            self.src_tok_emb(src)), src_mask)\n",
    "\n",
    "    def decode(self, tgt: Tensor, memory: Tensor, tgt_mask: Tensor):\n",
    "        return self.transformer.decoder(self.positional_encoding(\n",
    "                          self.tgt_tok_emb(tgt)), memory,\n",
    "                          tgt_mask)"
   ]
  },
  {
   "cell_type": "code",
   "execution_count": 120,
   "id": "c73c0660-5789-487a-8931-130221fa22f4",
   "metadata": {},
   "outputs": [],
   "source": [
    "def generate_square_subsequent_mask(sz):\n",
    "    mask = (torch.triu(torch.ones((sz, sz), device=DEVICE)) == 1).transpose(0, 1)\n",
    "    mask = mask.float().masked_fill(mask == 0, float('-inf')).masked_fill(mask == 1, float(0.0))\n",
    "    return mask\n",
    "\n",
    "\n",
    "def create_mask(src, tgt):\n",
    "    src_seq_len = src.shape[0]\n",
    "    tgt_seq_len = tgt.shape[0]\n",
    "\n",
    "    tgt_mask = generate_square_subsequent_mask(tgt_seq_len)\n",
    "    src_mask = torch.zeros((src_seq_len, src_seq_len),device=DEVICE).type(torch.bool)\n",
    "\n",
    "    src_padding_mask = (src == PAD_IDX).transpose(0, 1)\n",
    "    tgt_padding_mask = (tgt == PAD_IDX).transpose(0, 1)\n",
    "    return src_mask, tgt_mask, src_padding_mask, tgt_padding_mask"
   ]
  },
  {
   "cell_type": "code",
   "execution_count": 124,
   "id": "e41613af-d120-4705-9faf-1bc4e9acb7e4",
   "metadata": {},
   "outputs": [],
   "source": [
    "torch.manual_seed(0)\n",
    "\n",
    "SRC_VOCAB_SIZE = len(vocab_transform[SRC_LANGUAGE])\n",
    "TGT_VOCAB_SIZE = len(vocab_transform[TGT_LANGUAGE])\n",
    "EMB_SIZE = 512\n",
    "NHEAD = 8\n",
    "FFN_HID_DIM = 512\n",
    "BATCH_SIZE = 128\n",
    "NUM_ENCODER_LAYERS = 3\n",
    "NUM_DECODER_LAYERS = 3\n",
    "\n",
    "transformer = Seq2SeqTransformer(NUM_ENCODER_LAYERS, NUM_DECODER_LAYERS, EMB_SIZE,\n",
    "                                 NHEAD, SRC_VOCAB_SIZE, TGT_VOCAB_SIZE, FFN_HID_DIM)\n",
    "\n",
    "for p in transformer.parameters():\n",
    "    if p.dim() > 1:\n",
    "        nn.init.xavier_uniform_(p)\n",
    "\n",
    "transformer = transformer.to(DEVICE)\n",
    "\n",
    "loss_fn = torch.nn.CrossEntropyLoss(ignore_index=PAD_IDX)\n",
    "\n",
    "optimizer = torch.optim.Adam(transformer.parameters(), lr=0.0001, betas=(0.9, 0.98), eps=1e-9)"
   ]
  },
  {
   "cell_type": "code",
   "execution_count": 125,
   "id": "1fea1d9b-393a-422e-83f2-6f19aef20a07",
   "metadata": {},
   "outputs": [],
   "source": [
    "from torch.nn.utils.rnn import pad_sequence\n",
    "\n",
    "# helper function to club together sequential operations\n",
    "def sequential_transforms(*transforms):\n",
    "    def func(txt_input):\n",
    "        for transform in transforms:\n",
    "            txt_input = transform(txt_input)\n",
    "        return txt_input\n",
    "    return func\n",
    "\n",
    "# function to add BOS/EOS and create tensor for input sequence indices\n",
    "def tensor_transform(token_ids: List[int]):\n",
    "    return torch.cat((torch.tensor([BOS_IDX]),\n",
    "                      torch.tensor(token_ids),\n",
    "                      torch.tensor([EOS_IDX])))\n",
    "\n",
    "# ``src`` and ``tgt`` language text transforms to convert raw strings into tensors indices\n",
    "text_transform = {}\n",
    "for ln in [SRC_LANGUAGE, TGT_LANGUAGE]:\n",
    "    text_transform[ln] = sequential_transforms(token_transform[ln], #Tokenization\n",
    "                                               vocab_transform[ln], #Numericalization\n",
    "                                               tensor_transform) # Add BOS/EOS and create tensor\n",
    "\n",
    "\n",
    "# function to collate data samples into batch tensors\n",
    "def collate_fn(batch):\n",
    "    src_batch, tgt_batch = [], []\n",
    "    for src_sample, tgt_sample in batch:\n",
    "        src_batch.append(text_transform[SRC_LANGUAGE](src_sample.rstrip(\"\\n\")))\n",
    "        tgt_batch.append(text_transform[TGT_LANGUAGE](tgt_sample.rstrip(\"\\n\")))\n",
    "\n",
    "    src_batch = pad_sequence(src_batch, padding_value=PAD_IDX)\n",
    "    tgt_batch = pad_sequence(tgt_batch, padding_value=PAD_IDX)\n",
    "    return src_batch, tgt_batch"
   ]
  },
  {
   "cell_type": "code",
   "execution_count": 126,
   "id": "f0edbed5-7b8d-41b3-a67a-e1860eb231b4",
   "metadata": {},
   "outputs": [],
   "source": [
    "from torch.utils.data import DataLoader\n",
    "\n",
    "def train_epoch(model, optimizer):\n",
    "    model.train()\n",
    "    losses = 0\n",
    "    train_iter = train_data\n",
    "    train_dataloader = DataLoader(train_iter, batch_size=BATCH_SIZE, collate_fn=collate_fn)\n",
    "\n",
    "    for src, tgt in train_dataloader:\n",
    "        src = src.to(DEVICE)\n",
    "        tgt = tgt.to(DEVICE)\n",
    "\n",
    "        tgt_input = tgt[:-1, :]\n",
    "\n",
    "        src_mask, tgt_mask, src_padding_mask, tgt_padding_mask = create_mask(src, tgt_input)\n",
    "\n",
    "        logits = model(src, tgt_input, src_mask, tgt_mask,src_padding_mask, tgt_padding_mask, src_padding_mask)\n",
    "\n",
    "        optimizer.zero_grad()\n",
    "\n",
    "        tgt_out = tgt[1:, :]\n",
    "        loss = loss_fn(logits.reshape(-1, logits.shape[-1]), tgt_out.reshape(-1))\n",
    "        loss.backward()\n",
    "\n",
    "        optimizer.step()\n",
    "        losses += loss.item()\n",
    "\n",
    "    return losses / len(list(train_dataloader))\n",
    "\n",
    "\n",
    "def evaluate(model):\n",
    "    model.eval()\n",
    "    losses = 0\n",
    "\n",
    "    val_iter = val_data\n",
    "    val_dataloader = DataLoader(val_iter, batch_size=BATCH_SIZE, collate_fn=collate_fn)\n",
    "\n",
    "    for src, tgt in val_dataloader:\n",
    "        src = src.to(DEVICE)\n",
    "        tgt = tgt.to(DEVICE)\n",
    "\n",
    "        tgt_input = tgt[:-1, :]\n",
    "\n",
    "        src_mask, tgt_mask, src_padding_mask, tgt_padding_mask = create_mask(src, tgt_input)\n",
    "\n",
    "        logits = model(src, tgt_input, src_mask, tgt_mask,src_padding_mask, tgt_padding_mask, src_padding_mask)\n",
    "\n",
    "        tgt_out = tgt[1:, :]\n",
    "        loss = loss_fn(logits.reshape(-1, logits.shape[-1]), tgt_out.reshape(-1))\n",
    "        losses += loss.item()\n",
    "\n",
    "    return losses / len(list(val_dataloader))"
   ]
  },
  {
   "cell_type": "code",
   "execution_count": 127,
   "id": "938d3c75-5f5a-4986-9b0b-b3909c59651a",
   "metadata": {},
   "outputs": [
    {
     "name": "stderr",
     "output_type": "stream",
     "text": [
      "/home/deb/.local/lib/python3.10/site-packages/torch/nn/functional.py:5109: UserWarning: Support for mismatched key_padding_mask and attn_mask is deprecated. Use same type for both instead.\n",
      "  warnings.warn(\n"
     ]
    },
    {
     "name": "stdout",
     "output_type": "stream",
     "text": [
      "Epoch: 1, Train loss: 6.211, Val loss: 6.752, Epoch time = 70.457s\n",
      "Epoch: 2, Train loss: 5.000, Val loss: 6.670, Epoch time = 70.545s\n",
      "Epoch: 3, Train loss: 4.600, Val loss: 6.482, Epoch time = 70.695s\n",
      "Epoch: 4, Train loss: 4.290, Val loss: 6.374, Epoch time = 70.763s\n",
      "Epoch: 5, Train loss: 4.024, Val loss: 6.267, Epoch time = 70.855s\n",
      "Epoch: 6, Train loss: 3.794, Val loss: 6.188, Epoch time = 70.803s\n",
      "Epoch: 7, Train loss: 3.589, Val loss: 6.117, Epoch time = 70.773s\n",
      "Epoch: 8, Train loss: 3.400, Val loss: 6.057, Epoch time = 70.754s\n",
      "Epoch: 9, Train loss: 3.218, Val loss: 5.994, Epoch time = 70.741s\n",
      "Epoch: 10, Train loss: 3.053, Val loss: 5.954, Epoch time = 70.772s\n",
      "Epoch: 11, Train loss: 2.908, Val loss: 5.910, Epoch time = 70.786s\n",
      "Epoch: 12, Train loss: 2.775, Val loss: 5.999, Epoch time = 70.686s\n",
      "Epoch: 13, Train loss: 2.647, Val loss: 5.960, Epoch time = 70.721s\n",
      "Epoch: 14, Train loss: 2.523, Val loss: 5.957, Epoch time = 70.752s\n",
      "Epoch: 15, Train loss: 2.413, Val loss: 6.007, Epoch time = 70.705s\n",
      "Epoch: 16, Train loss: 2.315, Val loss: 6.078, Epoch time = 70.738s\n",
      "Epoch: 17, Train loss: 2.219, Val loss: 6.101, Epoch time = 70.832s\n",
      "Epoch: 18, Train loss: 2.121, Val loss: 6.165, Epoch time = 70.860s\n"
     ]
    },
    {
     "data": {
      "image/png": "[encoded data removed]",
      "text/plain": [
       "<Figure size 640x480 with 1 Axes>"
      ]
     },
     "metadata": {},
     "output_type": "display_data"
    }
   ],
   "source": [
    "from timeit import default_timer as timer\n",
    "import matplotlib.pyplot as plt\n",
    "\n",
    "train_losses = []\n",
    "val_losses = []\n",
    "\n",
    "NUM_EPOCHS = 18\n",
    "\n",
    "\n",
    "for epoch in range(1, NUM_EPOCHS+1):\n",
    "    start_time = timer()\n",
    "    train_loss = train_epoch(transformer, optimizer)\n",
    "    end_time = timer()\n",
    "    val_loss = evaluate(transformer)\n",
    "    train_losses.append(train_loss)\n",
    "    val_losses.append(val_loss)\n",
    "    print((f\"Epoch: {epoch}, Train loss: {train_loss:.3f}, Val loss: {val_loss:.3f}, \"f\"Epoch time = {(end_time - start_time):.3f}s\"))\n",
    "    \n",
    "plt.plot(range(1, NUM_EPOCHS+1), train_losses, label='Training Loss')\n",
    "plt.plot(range(1, NUM_EPOCHS+1), val_losses, label='Validation Loss')\n",
    "plt.xlabel('Epochs')\n",
    "plt.ylabel('Loss')\n",
    "plt.title('Training and Validation Losses')\n",
    "plt.legend()\n",
    "plt.show()"
   ]
  },
  {
   "cell_type": "code",
   "execution_count": 134,
   "id": "a34c706f-309e-4cc4-973c-8067f9e695e0",
   "metadata": {},
   "outputs": [
    {
     "name": "stdout",
     "output_type": "stream",
     "text": [
      "Model saved at task2A.pt\n"
     ]
    }
   ],
   "source": [
    "import torch\n",
    "\n",
    "# Specify the file path where you want to save the model\n",
    "model_save_path = \"task2A.pt\"\n",
    "\n",
    "# Save the model\n",
    "torch.save(transformer.state_dict(), model_save_path)\n",
    "\n",
    "print(f\"Model saved at {model_save_path}\")"
   ]
  },
  {
   "cell_type": "code",
   "execution_count": 135,
   "id": "2affb978-1cd2-4ea9-a364-d9ce95b92098",
   "metadata": {},
   "outputs": [],
   "source": [
    "# function to generate output sequence using greedy algorithm\n",
    "def greedy_decode(model, src, src_mask, max_len, start_symbol):\n",
    "    src = src.to(DEVICE)\n",
    "    src_mask = src_mask.to(DEVICE)\n",
    "\n",
    "    memory = model.encode(src, src_mask)\n",
    "    ys = torch.ones(1, 1).fill_(start_symbol).type(torch.long).to(DEVICE)\n",
    "    for i in range(max_len-1):\n",
    "        memory = memory.to(DEVICE)\n",
    "        tgt_mask = (generate_square_subsequent_mask(ys.size(0))\n",
    "                    .type(torch.bool)).to(DEVICE)\n",
    "        out = model.decode(ys, memory, tgt_mask)\n",
    "        out = out.transpose(0, 1)\n",
    "        prob = model.generator(out[:, -1])\n",
    "        _, next_word = torch.max(prob, dim=1)\n",
    "        next_word = next_word.item()\n",
    "\n",
    "        ys = torch.cat([ys,\n",
    "                        torch.ones(1, 1).type_as(src.data).fill_(next_word)], dim=0)\n",
    "        if next_word == EOS_IDX:\n",
    "            break\n",
    "    return ys\n",
    "\n",
    "\n",
    "# Modified translate function to ensure all tensors are on the same device\n",
    "def translate(model: torch.nn.Module, src_sentence: str):\n",
    "    model.eval()\n",
    "    src = text_transform[SRC_LANGUAGE](src_sentence).view(-1, 1).to(DEVICE)  # Move src to DEVICE\n",
    "    num_tokens = src.shape[0]\n",
    "    src_mask = torch.zeros(num_tokens, num_tokens).type(torch.bool).to(DEVICE)  # Move src_mask to DEVICE\n",
    "    tgt_tokens = greedy_decode(\n",
    "        model,  src, src_mask, max_len=num_tokens + 5, start_symbol=BOS_IDX).flatten().to(DEVICE)  # Move tgt_tokens to DEVICE\n",
    "    return \" \".join(vocab_transform[TGT_LANGUAGE].lookup_tokens(list(tgt_tokens.cpu().numpy()))).replace(\"<bos>\", \"\").replace(\"<eos>\", \"\")"
   ]
  },
  {
   "cell_type": "code",
   "execution_count": 169,
   "id": "5c710d3b-ec05-4d31-befd-49daf1da1343",
   "metadata": {},
   "outputs": [
    {
     "name": "stdout",
     "output_type": "stream",
     "text": [
      " A misunderstanding on the basis of consultation . \n"
     ]
    }
   ],
   "source": [
    "print(translate(transformer, \"Eine Katze sitzt auf der Matte.\"))"
   ]
  },
  {
   "cell_type": "code",
   "execution_count": 131,
   "id": "b25999fd-774d-437c-9b4f-b36e602072e1",
   "metadata": {},
   "outputs": [
    {
     "name": "stdout",
     "output_type": "stream",
     "text": [
      "Defaulting to user installation because normal site-packages is not writeable\n",
      "Requirement already satisfied: bert_score in /home/deb/.local/lib/python3.10/site-packages (0.3.13)\n",
      "Requirement already satisfied: torch>=1.0.0 in /home/deb/.local/lib/python3.10/site-packages (from bert_score) (2.2.2)\n",
      "Requirement already satisfied: pandas>=1.0.1 in /home/tools/anaconda3/lib/python3.10/site-packages (from bert_score) (1.3.4)\n",
      "Requirement already satisfied: transformers>=3.0.0 in /home/tools/anaconda3/lib/python3.10/site-packages (from bert_score) (4.24.0)\n",
      "Requirement already satisfied: numpy in /home/deb/.local/lib/python3.10/site-packages (from bert_score) (1.26.4)\n",
      "Requirement already satisfied: requests in /home/tools/anaconda3/lib/python3.10/site-packages (from bert_score) (2.31.0)\n",
      "Requirement already satisfied: tqdm>=4.31.1 in /home/tools/anaconda3/lib/python3.10/site-packages (from bert_score) (4.64.1)\n",
      "Requirement already satisfied: matplotlib in /home/tools/anaconda3/lib/python3.10/site-packages (from bert_score) (3.7.0)\n",
      "Requirement already satisfied: packaging>=20.9 in /home/tools/anaconda3/lib/python3.10/site-packages (from bert_score) (22.0)\n",
      "Requirement already satisfied: python-dateutil>=2.7.3 in /home/tools/anaconda3/lib/python3.10/site-packages (from pandas>=1.0.1->bert_score) (2.8.2)\n",
      "Requirement already satisfied: pytz>=2017.3 in /home/tools/anaconda3/lib/python3.10/site-packages (from pandas>=1.0.1->bert_score) (2022.7)\n",
      "Requirement already satisfied: filelock in /home/tools/anaconda3/lib/python3.10/site-packages (from torch>=1.0.0->bert_score) (3.9.0)\n",
      "Requirement already satisfied: typing-extensions>=4.8.0 in /home/deb/.local/lib/python3.10/site-packages (from torch>=1.0.0->bert_score) (4.10.0)\n",
      "Requirement already satisfied: sympy in /home/tools/anaconda3/lib/python3.10/site-packages (from torch>=1.0.0->bert_score) (1.11.1)\n",
      "Requirement already satisfied: networkx in /home/tools/anaconda3/lib/python3.10/site-packages (from torch>=1.0.0->bert_score) (2.8.4)\n",
      "Requirement already satisfied: jinja2 in /home/tools/anaconda3/lib/python3.10/site-packages (from torch>=1.0.0->bert_score) (3.1.2)\n",
      "Requirement already satisfied: fsspec in /home/deb/.local/lib/python3.10/site-packages (from torch>=1.0.0->bert_score) (2024.2.0)\n",
      "Requirement already satisfied: nvidia-cuda-nvrtc-cu12==12.1.105 in /home/deb/.local/lib/python3.10/site-packages (from torch>=1.0.0->bert_score) (12.1.105)\n",
      "Requirement already satisfied: nvidia-cuda-runtime-cu12==12.1.105 in /home/deb/.local/lib/python3.10/site-packages (from torch>=1.0.0->bert_score) (12.1.105)\n",
      "Requirement already satisfied: nvidia-cuda-cupti-cu12==12.1.105 in /home/deb/.local/lib/python3.10/site-packages (from torch>=1.0.0->bert_score) (12.1.105)\n",
      "Requirement already satisfied: nvidia-cudnn-cu12==8.9.2.26 in /home/deb/.local/lib/python3.10/site-packages (from torch>=1.0.0->bert_score) (8.9.2.26)\n",
      "Requirement already satisfied: nvidia-cublas-cu12==12.1.3.1 in /home/deb/.local/lib/python3.10/site-packages (from torch>=1.0.0->bert_score) (12.1.3.1)\n",
      "Requirement already satisfied: nvidia-cufft-cu12==11.0.2.54 in /home/deb/.local/lib/python3.10/site-packages (from torch>=1.0.0->bert_score) (11.0.2.54)\n",
      "Requirement already satisfied: nvidia-curand-cu12==10.3.2.106 in /home/deb/.local/lib/python3.10/site-packages (from torch>=1.0.0->bert_score) (10.3.2.106)\n",
      "Requirement already satisfied: nvidia-cusolver-cu12==11.4.5.107 in /home/deb/.local/lib/python3.10/site-packages (from torch>=1.0.0->bert_score) (11.4.5.107)\n",
      "Requirement already satisfied: nvidia-cusparse-cu12==12.1.0.106 in /home/deb/.local/lib/python3.10/site-packages (from torch>=1.0.0->bert_score) (12.1.0.106)\n",
      "Requirement already satisfied: nvidia-nccl-cu12==2.19.3 in /home/deb/.local/lib/python3.10/site-packages (from torch>=1.0.0->bert_score) (2.19.3)\n",
      "Requirement already satisfied: nvidia-nvtx-cu12==12.1.105 in /home/deb/.local/lib/python3.10/site-packages (from torch>=1.0.0->bert_score) (12.1.105)\n",
      "Requirement already satisfied: triton==2.2.0 in /home/deb/.local/lib/python3.10/site-packages (from torch>=1.0.0->bert_score) (2.2.0)\n",
      "Requirement already satisfied: nvidia-nvjitlink-cu12 in /home/deb/.local/lib/python3.10/site-packages (from nvidia-cusolver-cu12==11.4.5.107->torch>=1.0.0->bert_score) (12.4.99)\n",
      "Requirement already satisfied: huggingface-hub<1.0,>=0.10.0 in /home/deb/.local/lib/python3.10/site-packages (from transformers>=3.0.0->bert_score) (0.22.1)\n",
      "Requirement already satisfied: pyyaml>=5.1 in /home/tools/anaconda3/lib/python3.10/site-packages (from transformers>=3.0.0->bert_score) (6.0)\n",
      "Requirement already satisfied: regex!=2019.12.17 in /home/tools/anaconda3/lib/python3.10/site-packages (from transformers>=3.0.0->bert_score) (2022.7.9)\n",
      "Requirement already satisfied: tokenizers!=0.11.3,<0.14,>=0.11.1 in /home/tools/anaconda3/lib/python3.10/site-packages (from transformers>=3.0.0->bert_score) (0.11.4)\n",
      "Requirement already satisfied: contourpy>=1.0.1 in /home/tools/anaconda3/lib/python3.10/site-packages (from matplotlib->bert_score) (1.0.5)\n",
      "Requirement already satisfied: cycler>=0.10 in /home/tools/anaconda3/lib/python3.10/site-packages (from matplotlib->bert_score) (0.11.0)\n",
      "Requirement already satisfied: fonttools>=4.22.0 in /home/tools/anaconda3/lib/python3.10/site-packages (from matplotlib->bert_score) (4.25.0)\n",
      "Requirement already satisfied: kiwisolver>=1.0.1 in /home/tools/anaconda3/lib/python3.10/site-packages (from matplotlib->bert_score) (1.4.4)\n",
      "Requirement already satisfied: pillow>=6.2.0 in /home/tools/anaconda3/lib/python3.10/site-packages (from matplotlib->bert_score) (9.4.0)\n",
      "Requirement already satisfied: pyparsing>=2.3.1 in /home/tools/anaconda3/lib/python3.10/site-packages (from matplotlib->bert_score) (3.0.9)\n",
      "Requirement already satisfied: charset-normalizer<4,>=2 in /home/tools/anaconda3/lib/python3.10/site-packages (from requests->bert_score) (2.0.4)\n",
      "Requirement already satisfied: idna<4,>=2.5 in /home/tools/anaconda3/lib/python3.10/site-packages (from requests->bert_score) (3.4)\n",
      "Requirement already satisfied: urllib3<3,>=1.21.1 in /home/tools/anaconda3/lib/python3.10/site-packages (from requests->bert_score) (1.26.14)\n",
      "Requirement already satisfied: certifi>=2017.4.17 in /home/tools/anaconda3/lib/python3.10/site-packages (from requests->bert_score) (2022.12.7)\n",
      "Requirement already satisfied: six>=1.5 in /home/tools/anaconda3/lib/python3.10/site-packages (from python-dateutil>=2.7.3->pandas>=1.0.1->bert_score) (1.16.0)\n",
      "Requirement already satisfied: MarkupSafe>=2.0 in /home/tools/anaconda3/lib/python3.10/site-packages (from jinja2->torch>=1.0.0->bert_score) (2.1.1)\n",
      "Requirement already satisfied: mpmath>=0.19 in /home/tools/anaconda3/lib/python3.10/site-packages/mpmath-1.2.1-py3.10.egg (from sympy->torch>=1.0.0->bert_score) (1.2.1)\n",
      "Note: you may need to restart the kernel to use updated packages.\n"
     ]
    }
   ],
   "source": [
    "pip install bert_score"
   ]
  },
  {
   "cell_type": "code",
   "execution_count": 137,
   "id": "dbb558dd-e180-4ea2-8cea-070588c074c4",
   "metadata": {},
   "outputs": [
    {
     "name": "stderr",
     "output_type": "stream",
     "text": [
      "/home/deb/.local/lib/python3.10/site-packages/torch/nn/modules/transformer.py:286: UserWarning: enable_nested_tensor is True, but self.use_nested_tensor is False because encoder_layer.self_attn.batch_first was not True(use batch_first for better inference performance)\n",
      "  warnings.warn(f\"enable_nested_tensor is True, but self.use_nested_tensor is False because {why_not_sparsity_fast_path}\")\n"
     ]
    }
   ],
   "source": [
    "transformer = Seq2SeqTransformer(NUM_ENCODER_LAYERS, NUM_DECODER_LAYERS, EMB_SIZE,\n",
    "                                    NHEAD, SRC_VOCAB_SIZE, TGT_VOCAB_SIZE, FFN_HID_DIM)\n",
    "transformer.load_state_dict(torch.load('task2A.pt'))\n",
    "transformer = transformer.to(DEVICE)"
   ]
  },
  {
   "cell_type": "code",
   "execution_count": 138,
   "id": "094d2991-193d-4f9d-aa80-a2ac7e05279d",
   "metadata": {},
   "outputs": [],
   "source": [
    "# compute the metrics\n",
    "results = []\n",
    "for i in range(len(val_data)):\n",
    "    src = val_data[i][0]\n",
    "    tgt = val_data[i][1]\n",
    "    pred = translate(transformer, src)\n",
    "    results.append((src, tgt, pred))\n",
    "\n",
    "hypotheses_val = [[sentence] for sentence in [x[2] for x in results]]\n",
    "references_val = [[sentence] for sentence in [x[1] for x in results]]\n",
    "\n",
    "results = []\n",
    "for i in range(len(test_data)):\n",
    "    src = test_data[i][0]\n",
    "    tgt = test_data[i][1]\n",
    "    pred = translate(transformer, src)\n",
    "    results.append((src, tgt, pred))\n",
    "    \n",
    "hypotheses_test = [[sentence] for sentence in [x[2] for x in results]]\n",
    "references_test = [[sentence] for sentence in [x[1] for x in results]]"
   ]
  },
  {
   "cell_type": "code",
   "execution_count": 147,
   "id": "8bee4247-f782-4222-85c6-8c4da6e14bcf",
   "metadata": {},
   "outputs": [
    {
     "name": "stdout",
     "output_type": "stream",
     "text": [
      "[[' The Prime Minister of Independent Experts and Energy is in the event of Enschede . '], [' He has been able to discuss new posts in its first important discussions with its predecessors in May its Finnish television , whereas in May its first pillar , economic and diplomatic relations . '], [' Mr Perry is a step towards the Finnish television channel , to the economic relations with the forthcoming world and foremost discussions . '], [' Both work for greater cooperation are quite different for cooperation . '], [' According to reports , India would also be able to prepare a Treaty for manoeuvre between two nations . ']]\n",
      "[['India and Japan prime ministers meet in Tokyo'], [\"India's new prime minister, Narendra Modi, is meeting his Japanese counterpart, Shinzo Abe, in Tokyo to discuss economic and security ties, on his first major foreign visit since winning May's election.\"], ['Mr Modi is on a five-day trip to Japan to strengthen economic ties with the third largest economy in the world.'], ['High on the agenda are plans for greater nuclear co-operation.'], ['India is also reportedly hoping for a deal on defence collaboration between the two nations.']]\n"
     ]
    }
   ],
   "source": [
    "print(hypotheses_val[:5])\n",
    "print(references_val[:5])"
   ]
  },
  {
   "cell_type": "code",
   "execution_count": 159,
   "id": "8989442a-ffca-4148-8bb6-5785d8f05bff",
   "metadata": {},
   "outputs": [
    {
     "name": "stdout",
     "output_type": "stream",
     "text": [
      "[' The Prime Minister of Independent Experts and Energy is in the event of Enschede . ', ' He has been able to discuss new posts in its first important discussions with its predecessors in May its Finnish television , whereas in May its first pillar , economic and diplomatic relations . ', ' Mr Perry is a step towards the Finnish television channel , to the economic relations with the forthcoming world and foremost discussions . ', ' Both work for greater cooperation are quite different for cooperation . ', ' According to reports , India would also be able to prepare a Treaty for manoeuvre between two nations . ']\n"
     ]
    }
   ],
   "source": [
    "temp_hypo_val = [x[0] for x in hypotheses_val]\n",
    "print(temp_hypo_val[:5])"
   ]
  },
  {
   "cell_type": "code",
   "execution_count": 162,
   "id": "e040bc82-ea8f-488c-a654-71b1c4f5bc7c",
   "metadata": {},
   "outputs": [
    {
     "name": "stdout",
     "output_type": "stream",
     "text": [
      "[' Relating to Community insurance ', ' The relationship between Swissair and gentlemen , is not just an informal basis . ', ' The two wanted to discuss the implementation of the international agreement and for resolutions , together with an interim action programmes . ', ' However , we should also take the conflict with the Seattle - and the German versions to discuss discussions . ', ' The relationship between appointments and gentlemen , has been very curious for years . ']\n"
     ]
    }
   ],
   "source": [
    "temp_hypo_test = [x[0] for x in hypotheses_test]\n",
    "print(temp_hypo_test[:5])"
   ]
  },
  {
   "cell_type": "code",
   "execution_count": 167,
   "id": "a474dae6-51f1-4baa-bb9c-aaf44172b416",
   "metadata": {},
   "outputs": [
    {
     "name": "stdout",
     "output_type": "stream",
     "text": [
      "Validation BLEU-1 Score: {'bleu': 0.31581628494579833, 'precisions': [0.31581628494579833], 'brevity_penalty': 1.0, 'length_ratio': 1.0566931507439226, 'translation_length': 49076, 'reference_length': 46443}\n",
      "Validation BLEU-2 Score: {'bleu': 0.15169960866671464, 'precisions': [0.31581628494579833, 0.07286758905920225], 'brevity_penalty': 1.0, 'length_ratio': 1.0566931507439226, 'translation_length': 49076, 'reference_length': 46443}\n",
      "Validation BLEU-3 Score: {'bleu': 0.08174647886948301, 'precisions': [0.31581628494579833, 0.07286758905920225, 0.023737678535505933], 'brevity_penalty': 1.0, 'length_ratio': 1.0566931507439226, 'translation_length': 49076, 'reference_length': 46443}\n",
      "Validation BLEU-4 Score: {'bleu': 0.046390844376141084, 'precisions': [0.31581628494579833, 0.07286758905920225, 0.023737678535505933, 0.008478557001268261], 'brevity_penalty': 1.0, 'length_ratio': 1.0566931507439226, 'translation_length': 49076, 'reference_length': 46443}\n",
      "Test BLEU-1 Score: {'bleu': 0.3209426733174293, 'precisions': [0.3209426733174293], 'brevity_penalty': 1.0, 'length_ratio': 1.0786974219810042, 'translation_length': 69165, 'reference_length': 64119}\n",
      "Test BLEU-2 Score: {'bleu': 0.16163278911713322, 'precisions': [0.3209426733174293, 0.08140132394281051], 'brevity_penalty': 1.0, 'length_ratio': 1.0786974219810042, 'translation_length': 69165, 'reference_length': 64119}\n",
      "Test BLEU-3 Score: {'bleu': 0.08968195242082655, 'precisions': [0.3209426733174293, 0.08140132394281051, 0.02760935298494467], 'brevity_penalty': 1.0, 'length_ratio': 1.0786974219810042, 'translation_length': 69165, 'reference_length': 64119}\n",
      "Test BLEU-4 Score: {'bleu': 0.05231745082641526, 'precisions': [0.3209426733174293, 0.08140132394281051, 0.02760935298494467, 0.010386545684182538], 'brevity_penalty': 1.0, 'length_ratio': 1.0786974219810042, 'translation_length': 69165, 'reference_length': 64119}\n"
     ]
    }
   ],
   "source": [
    "'''from datasets import load_metric\n",
    "metric = load_metric(\"sacrebleu\")'''\n",
    "import evaluate\n",
    "bleu = evaluate.load('bleu')\n",
    "\n",
    "bleu_score = bleu.compute(predictions=temp_hypo_val, references=references_val, max_order=1)\n",
    "print(\"Validation BLEU-1 Score:\", bleu_score)\n",
    "bleu_score = bleu.compute(predictions=temp_hypo_val, references=references_val, max_order=2)\n",
    "print(\"Validation BLEU-2 Score:\", bleu_score)\n",
    "bleu_score = bleu.compute(predictions=temp_hypo_val, references=references_val, max_order=3)\n",
    "print(\"Validation BLEU-3 Score:\", bleu_score)\n",
    "bleu_score = bleu.compute(predictions=temp_hypo_val, references=references_val, max_order=4)\n",
    "print(\"Validation BLEU-4 Score:\", bleu_score)\n",
    "\n",
    "bleu_score = bleu.compute(predictions=temp_hypo_test, references=references_test, max_order = 1)\n",
    "print(\"Test BLEU-1 Score:\", bleu_score)\n",
    "bleu_score = bleu.compute(predictions=temp_hypo_test, references=references_test, max_order = 2)\n",
    "print(\"Test BLEU-2 Score:\", bleu_score)\n",
    "bleu_score = bleu.compute(predictions=temp_hypo_test, references=references_test, max_order = 3)\n",
    "print(\"Test BLEU-3 Score:\", bleu_score)\n",
    "bleu_score = bleu.compute(predictions=temp_hypo_test, references=references_test, max_order = 4)\n",
    "print(\"Test BLEU-4 Score:\", bleu_score)"
   ]
  },
  {
   "cell_type": "code",
   "execution_count": 139,
   "id": "ae29bce5-87f0-4adf-9aa3-5df6aecba7f9",
   "metadata": {},
   "outputs": [
    {
     "name": "stderr",
     "output_type": "stream",
     "text": [
      "/home/deb/.local/lib/python3.10/site-packages/datasets/load.py:756: FutureWarning: The repository for meteor contains custom code which must be executed to correctly load the metric. You can inspect the repository content at https://raw.githubusercontent.com/huggingface/datasets/2.18.0/metrics/meteor/meteor.py\n",
      "You can avoid this message in future by passing the argument `trust_remote_code=True`.\n",
      "Passing `trust_remote_code=True` will be mandatory to load this metric from the next major release of `datasets`.\n",
      "  warnings.warn(\n",
      "[nltk_data] Downloading package wordnet to /home/deb/nltk_data...\n",
      "[nltk_data]   Package wordnet is already up-to-date!\n",
      "[nltk_data] Downloading package punkt to /home/deb/nltk_data...\n",
      "[nltk_data]   Package punkt is already up-to-date!\n",
      "[nltk_data] Downloading package omw-1.4 to /home/deb/nltk_data...\n",
      "[nltk_data]   Package omw-1.4 is already up-to-date!\n"
     ]
    },
    {
     "name": "stdout",
     "output_type": "stream",
     "text": [
      "Validation METEOR Score: {'meteor': 0.3516015046228352}\n",
      "Test METEOR Score: {'meteor': 0.3558839072684144}\n"
     ]
    }
   ],
   "source": [
    "from datasets import load_metric\n",
    "# Load the METEOR metric\n",
    "metric = load_metric(\"meteor\")\n",
    "meteor_score = metric.compute(predictions=hypotheses_val, references=references_val)\n",
    "print(\"Validation METEOR Score:\", meteor_score)\n",
    "\n",
    "meteor_score = metric.compute(predictions=hypotheses_test, references=references_test)\n",
    "print(\"Test METEOR Score:\", meteor_score)"
   ]
  },
  {
   "cell_type": "code",
   "execution_count": 140,
   "id": "869b8340-fc12-46d2-acca-1f47eb9be94a",
   "metadata": {},
   "outputs": [
    {
     "name": "stderr",
     "output_type": "stream",
     "text": [
      "/home/deb/.local/lib/python3.10/site-packages/datasets/load.py:756: FutureWarning: The repository for bertscore contains custom code which must be executed to correctly load the metric. You can inspect the repository content at https://raw.githubusercontent.com/huggingface/datasets/2.18.0/metrics/bertscore/bertscore.py\n",
      "You can avoid this message in future by passing the argument `trust_remote_code=True`.\n",
      "Passing `trust_remote_code=True` will be mandatory to load this metric from the next major release of `datasets`.\n",
      "  warnings.warn(\n"
     ]
    },
    {
     "name": "stdout",
     "output_type": "stream",
     "text": [
      "Average Validation BERTScore Precision: 0.8219276331382284\n",
      "Average Test BERTScore Precision: 0.8229262863210377\n"
     ]
    }
   ],
   "source": [
    "from datasets import load_metric\n",
    "\n",
    "# Load the BERTScore metric\n",
    "metric = load_metric(\"bertscore\")\n",
    "\n",
    "# Compute the BERTScore for validation data\n",
    "bertscore_score_val = metric.compute(predictions=hypotheses_val, references=references_val, lang=\"en\")\n",
    "\n",
    "# Compute the BERTScore for test data\n",
    "bertscore_score_test = metric.compute(predictions=hypotheses_test, references=references_test, lang=\"en\")\n",
    "\n",
    "# Extract the precision scores\n",
    "val_precision = bertscore_score_val[\"precision\"]\n",
    "test_precision = bertscore_score_test[\"precision\"]\n",
    "\n",
    "# Calculate the average precision score for validation and test sets\n",
    "avg_val_precision = sum(val_precision) / len(val_precision)\n",
    "avg_test_precision = sum(test_precision) / len(test_precision)\n",
    "\n",
    "print(\"Average Validation BERTScore Precision:\", avg_val_precision)\n",
    "print(\"Average Test BERTScore Precision:\", avg_test_precision)"
   ]
  },
  {
   "cell_type": "code",
   "execution_count": 168,
   "id": "c6b2af74-f0cc-4fb8-9f3f-32a3a066e7ae",
   "metadata": {},
   "outputs": [
    {
     "name": "stdout",
     "output_type": "stream",
     "text": [
      "Output CSV saved as output2A.csv\n"
     ]
    }
   ],
   "source": [
    "import pandas as pd\n",
    "df = pd.read_csv('input_2A.csv')\n",
    "df['en'] = df['de'].apply(lambda x: translate(transformer, x))\n",
    "df.to_csv('output2A.csv', index=False)\n",
    "print(\"Output CSV saved as output2A.csv\")"
   ]
  },
  {
   "cell_type": "code",
   "execution_count": null,
   "id": "284c0700-b8f1-4f01-b2df-924bbf6a8c49",
   "metadata": {},
   "outputs": [],
   "source": []
  }
 ],
 "metadata": {
  "kernelspec": {
   "display_name": "Python 3 (ipykernel)",
   "language": "python",
   "name": "python3"
  },
  "language_info": {
   "codemirror_mode": {
    "name": "ipython",
    "version": 3
   },
   "file_extension": ".py",
   "mimetype": "text/x-python",
   "name": "python",
   "nbconvert_exporter": "python",
   "pygments_lexer": "ipython3",
   "version": "3.10.9"
  }
 },
 "nbformat": 4,
 "nbformat_minor": 5
}
