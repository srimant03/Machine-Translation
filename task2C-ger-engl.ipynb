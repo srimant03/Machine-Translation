{
 "cells": [
  {
   "cell_type": "code",
   "execution_count": 75,
   "id": "32976d46-65d7-408c-a7e7-3c1e071667d0",
   "metadata": {},
   "outputs": [],
   "source": [
    "import torch\n",
    "from transformers import T5ForConditionalGeneration, T5Tokenizer, T5Config\n",
    "from datasets import load_dataset\n",
    "from torch.utils.data import Dataset, DataLoader\n",
    "import torch.nn.functional as F\n",
    "import matplotlib.pyplot as plt"
   ]
  },
  {
   "cell_type": "code",
   "execution_count": 76,
   "id": "6845c64b-94f4-4275-b972-cd94b2b27575",
   "metadata": {},
   "outputs": [],
   "source": [
    "data_train = load_dataset(\"wmt16\", \"de-en\", split=\"train[:50000]\")\n",
    "data_val = load_dataset(\"wmt16\", \"de-en\", split=\"validation\")"
   ]
  },
  {
   "cell_type": "code",
   "execution_count": 78,
   "id": "8c9669d7-ca8a-4838-b299-4d7d2854ad7a",
   "metadata": {},
   "outputs": [
    {
     "name": "stderr",
     "output_type": "stream",
     "text": [
      "Special tokens have been added in the vocabulary, make sure the associated word embeddings are fine-tuned or trained.\n",
      "Special tokens have been added in the vocabulary, make sure the associated word embeddings are fine-tuned or trained.\n"
     ]
    }
   ],
   "source": [
    "class TranslationDataset(Dataset):\n",
    "    def __init__(self, data):\n",
    "        self.data = data\n",
    "        self.tokenizer = T5Tokenizer.from_pretrained(\"google-t5/t5-small\")\n",
    "\n",
    "    def __len__(self):\n",
    "        return len(self.data)\n",
    "\n",
    "    def __getitem__(self, idx):\n",
    "        item = self.data[idx]\n",
    "        input_text = item[\"translation\"][\"de\"]\n",
    "        target_text = item[\"translation\"][\"en\"]\n",
    "\n",
    "        input_ids = self.tokenizer.encode(input_text, padding='max_length', max_length=128, return_tensors='pt', truncation=True)\n",
    "        target_ids = self.tokenizer.encode(target_text, padding='max_length', max_length=128, return_tensors='pt', truncation=True)\n",
    "\n",
    "        return {\"input_ids\": input_ids, \"labels\": target_ids}\n",
    "    \n",
    "    def evaluate(self, model, dataloader):\n",
    "        model.eval()\n",
    "        references = []\n",
    "        translations = []\n",
    "        for batch in dataloader:\n",
    "            input_ids = batch[\"input_ids\"].squeeze(1).to(device)\n",
    "            labels = batch[\"labels\"].squeeze(1).to(device)\n",
    "            outputs = model.generate(input_ids=input_ids, max_length=128, num_beams=4, early_stopping=True)\n",
    "            translated_sentences = [self.tokenizer.decode(output, skip_special_tokens=True) for output in outputs]\n",
    "            references.extend([self.tokenizer.decode(label, skip_special_tokens=True) for label in labels])\n",
    "            translations.extend(translated_sentences)\n",
    "        return references, translations\n",
    "\n",
    "train_dataset = TranslationDataset(data_train)\n",
    "val_dataset = TranslationDataset(data_val)\n"
   ]
  },
  {
   "cell_type": "code",
   "execution_count": 79,
   "id": "08fc5888-3391-4386-9a13-411f9d4002de",
   "metadata": {},
   "outputs": [],
   "source": [
    "train_loader = DataLoader(train_dataset, batch_size=8, shuffle=True)\n",
    "val_loader = DataLoader(val_dataset, batch_size=8, shuffle=False)"
   ]
  },
  {
   "cell_type": "code",
   "execution_count": 80,
   "id": "2ca93a30-123f-4414-a199-db0562792cb9",
   "metadata": {},
   "outputs": [],
   "source": [
    "config = T5Config.from_pretrained(\"google-t5/t5-small\")\n",
    "model = T5ForConditionalGeneration.from_pretrained(\"google-t5/t5-small\", config=config)"
   ]
  },
  {
   "cell_type": "code",
   "execution_count": 81,
   "id": "f03cc99a-d141-4253-8225-2359c7742849",
   "metadata": {},
   "outputs": [
    {
     "data": {
      "text/plain": [
       "T5ForConditionalGeneration(\n",
       "  (shared): Embedding(32128, 512)\n",
       "  (encoder): T5Stack(\n",
       "    (embed_tokens): Embedding(32128, 512)\n",
       "    (block): ModuleList(\n",
       "      (0): T5Block(\n",
       "        (layer): ModuleList(\n",
       "          (0): T5LayerSelfAttention(\n",
       "            (SelfAttention): T5Attention(\n",
       "              (q): Linear(in_features=512, out_features=512, bias=False)\n",
       "              (k): Linear(in_features=512, out_features=512, bias=False)\n",
       "              (v): Linear(in_features=512, out_features=512, bias=False)\n",
       "              (o): Linear(in_features=512, out_features=512, bias=False)\n",
       "              (relative_attention_bias): Embedding(32, 8)\n",
       "            )\n",
       "            (layer_norm): T5LayerNorm()\n",
       "            (dropout): Dropout(p=0.1, inplace=False)\n",
       "          )\n",
       "          (1): T5LayerFF(\n",
       "            (DenseReluDense): T5DenseActDense(\n",
       "              (wi): Linear(in_features=512, out_features=2048, bias=False)\n",
       "              (wo): Linear(in_features=2048, out_features=512, bias=False)\n",
       "              (dropout): Dropout(p=0.1, inplace=False)\n",
       "              (act): ReLU()\n",
       "            )\n",
       "            (layer_norm): T5LayerNorm()\n",
       "            (dropout): Dropout(p=0.1, inplace=False)\n",
       "          )\n",
       "        )\n",
       "      )\n",
       "      (1-5): 5 x T5Block(\n",
       "        (layer): ModuleList(\n",
       "          (0): T5LayerSelfAttention(\n",
       "            (SelfAttention): T5Attention(\n",
       "              (q): Linear(in_features=512, out_features=512, bias=False)\n",
       "              (k): Linear(in_features=512, out_features=512, bias=False)\n",
       "              (v): Linear(in_features=512, out_features=512, bias=False)\n",
       "              (o): Linear(in_features=512, out_features=512, bias=False)\n",
       "            )\n",
       "            (layer_norm): T5LayerNorm()\n",
       "            (dropout): Dropout(p=0.1, inplace=False)\n",
       "          )\n",
       "          (1): T5LayerFF(\n",
       "            (DenseReluDense): T5DenseActDense(\n",
       "              (wi): Linear(in_features=512, out_features=2048, bias=False)\n",
       "              (wo): Linear(in_features=2048, out_features=512, bias=False)\n",
       "              (dropout): Dropout(p=0.1, inplace=False)\n",
       "              (act): ReLU()\n",
       "            )\n",
       "            (layer_norm): T5LayerNorm()\n",
       "            (dropout): Dropout(p=0.1, inplace=False)\n",
       "          )\n",
       "        )\n",
       "      )\n",
       "    )\n",
       "    (final_layer_norm): T5LayerNorm()\n",
       "    (dropout): Dropout(p=0.1, inplace=False)\n",
       "  )\n",
       "  (decoder): T5Stack(\n",
       "    (embed_tokens): Embedding(32128, 512)\n",
       "    (block): ModuleList(\n",
       "      (0): T5Block(\n",
       "        (layer): ModuleList(\n",
       "          (0): T5LayerSelfAttention(\n",
       "            (SelfAttention): T5Attention(\n",
       "              (q): Linear(in_features=512, out_features=512, bias=False)\n",
       "              (k): Linear(in_features=512, out_features=512, bias=False)\n",
       "              (v): Linear(in_features=512, out_features=512, bias=False)\n",
       "              (o): Linear(in_features=512, out_features=512, bias=False)\n",
       "              (relative_attention_bias): Embedding(32, 8)\n",
       "            )\n",
       "            (layer_norm): T5LayerNorm()\n",
       "            (dropout): Dropout(p=0.1, inplace=False)\n",
       "          )\n",
       "          (1): T5LayerCrossAttention(\n",
       "            (EncDecAttention): T5Attention(\n",
       "              (q): Linear(in_features=512, out_features=512, bias=False)\n",
       "              (k): Linear(in_features=512, out_features=512, bias=False)\n",
       "              (v): Linear(in_features=512, out_features=512, bias=False)\n",
       "              (o): Linear(in_features=512, out_features=512, bias=False)\n",
       "            )\n",
       "            (layer_norm): T5LayerNorm()\n",
       "            (dropout): Dropout(p=0.1, inplace=False)\n",
       "          )\n",
       "          (2): T5LayerFF(\n",
       "            (DenseReluDense): T5DenseActDense(\n",
       "              (wi): Linear(in_features=512, out_features=2048, bias=False)\n",
       "              (wo): Linear(in_features=2048, out_features=512, bias=False)\n",
       "              (dropout): Dropout(p=0.1, inplace=False)\n",
       "              (act): ReLU()\n",
       "            )\n",
       "            (layer_norm): T5LayerNorm()\n",
       "            (dropout): Dropout(p=0.1, inplace=False)\n",
       "          )\n",
       "        )\n",
       "      )\n",
       "      (1-5): 5 x T5Block(\n",
       "        (layer): ModuleList(\n",
       "          (0): T5LayerSelfAttention(\n",
       "            (SelfAttention): T5Attention(\n",
       "              (q): Linear(in_features=512, out_features=512, bias=False)\n",
       "              (k): Linear(in_features=512, out_features=512, bias=False)\n",
       "              (v): Linear(in_features=512, out_features=512, bias=False)\n",
       "              (o): Linear(in_features=512, out_features=512, bias=False)\n",
       "            )\n",
       "            (layer_norm): T5LayerNorm()\n",
       "            (dropout): Dropout(p=0.1, inplace=False)\n",
       "          )\n",
       "          (1): T5LayerCrossAttention(\n",
       "            (EncDecAttention): T5Attention(\n",
       "              (q): Linear(in_features=512, out_features=512, bias=False)\n",
       "              (k): Linear(in_features=512, out_features=512, bias=False)\n",
       "              (v): Linear(in_features=512, out_features=512, bias=False)\n",
       "              (o): Linear(in_features=512, out_features=512, bias=False)\n",
       "            )\n",
       "            (layer_norm): T5LayerNorm()\n",
       "            (dropout): Dropout(p=0.1, inplace=False)\n",
       "          )\n",
       "          (2): T5LayerFF(\n",
       "            (DenseReluDense): T5DenseActDense(\n",
       "              (wi): Linear(in_features=512, out_features=2048, bias=False)\n",
       "              (wo): Linear(in_features=2048, out_features=512, bias=False)\n",
       "              (dropout): Dropout(p=0.1, inplace=False)\n",
       "              (act): ReLU()\n",
       "            )\n",
       "            (layer_norm): T5LayerNorm()\n",
       "            (dropout): Dropout(p=0.1, inplace=False)\n",
       "          )\n",
       "        )\n",
       "      )\n",
       "    )\n",
       "    (final_layer_norm): T5LayerNorm()\n",
       "    (dropout): Dropout(p=0.1, inplace=False)\n",
       "  )\n",
       "  (lm_head): Linear(in_features=512, out_features=32128, bias=False)\n",
       ")"
      ]
     },
     "execution_count": 81,
     "metadata": {},
     "output_type": "execute_result"
    }
   ],
   "source": [
    "device = torch.device(\"cuda\" if torch.cuda.is_available() else \"cpu\")\n",
    "model.to(device)"
   ]
  },
  {
   "cell_type": "code",
   "execution_count": 82,
   "id": "4f5838f7-6027-49bf-9a52-b001560fd313",
   "metadata": {},
   "outputs": [],
   "source": [
    "def train(model, optimizer, train_loader, val_loader, num_epochs=2):\n",
    "    train_losses = []\n",
    "    val_losses = []\n",
    "\n",
    "    for epoch in range(num_epochs):\n",
    "        model.train()\n",
    "        train_loss = 0.0\n",
    "        for batch in train_loader:\n",
    "            input_ids = batch[\"input_ids\"].squeeze(1).to(device)\n",
    "            labels = batch[\"labels\"].squeeze(1).to(device)\n",
    "\n",
    "            optimizer.zero_grad()\n",
    "            outputs = model(input_ids=input_ids, labels=labels)\n",
    "            loss = outputs.loss\n",
    "            loss.backward()\n",
    "            optimizer.step()\n",
    "\n",
    "            train_loss += loss.item()\n",
    "\n",
    "        train_loss /= len(train_loader)\n",
    "        train_losses.append(train_loss)\n",
    "\n",
    "        # Validation\n",
    "        model.eval()\n",
    "        val_loss = 0.0\n",
    "        with torch.no_grad():\n",
    "            for batch in val_loader:\n",
    "                input_ids = batch[\"input_ids\"].squeeze(1).to(device)\n",
    "                labels = batch[\"labels\"].squeeze(1).to(device)\n",
    "\n",
    "                outputs = model(input_ids=input_ids, labels=labels)\n",
    "                loss = outputs.loss\n",
    "\n",
    "                val_loss += loss.item()\n",
    "\n",
    "            val_loss /= len(val_loader)\n",
    "            val_losses.append(val_loss)\n",
    "\n",
    "        print(f\"Epoch {epoch+1}/{num_epochs}, Train Loss: {train_loss}, Val Loss: {val_loss}\")\n",
    "\n",
    "    return train_losses, val_losses\n"
   ]
  },
  {
   "cell_type": "code",
   "execution_count": 83,
   "id": "c6de2322-3df7-4178-8058-6df94fea499a",
   "metadata": {},
   "outputs": [],
   "source": [
    "optimizer = torch.optim.Adam(filter(lambda p: p.requires_grad, model.parameters()), lr=0.001)"
   ]
  },
  {
   "cell_type": "code",
   "execution_count": 84,
   "id": "260e5fa3-95ae-416c-8578-41444e5e63fe",
   "metadata": {},
   "outputs": [
    {
     "name": "stdout",
     "output_type": "stream",
     "text": [
      "Epoch 1/5, Train Loss: 0.5484682945108413, Val Loss: 0.45786750141312094\n",
      "Epoch 2/5, Train Loss: 0.4693308516407013, Val Loss: 0.45879064461983304\n",
      "Epoch 3/5, Train Loss: 0.43309318811774256, Val Loss: 0.4659148371394943\n",
      "Epoch 4/5, Train Loss: 0.40687132927298547, Val Loss: 0.46678939905455885\n",
      "Epoch 5/5, Train Loss: 0.386150750439167, Val Loss: 0.47581008279367404\n"
     ]
    }
   ],
   "source": [
    "train_losses, val_losses = train(model, optimizer, train_loader, val_loader, num_epochs=5)"
   ]
  },
  {
   "cell_type": "code",
   "execution_count": 86,
   "id": "726d0a36-910e-4997-bfcc-aed199d2c382",
   "metadata": {},
   "outputs": [
    {
     "data": {
      "image/png": "[encoded data removed]",
      "text/plain": [
       "<Figure size 640x480 with 1 Axes>"
      ]
     },
     "metadata": {},
     "output_type": "display_data"
    }
   ],
   "source": [
    "plt.plot(train_losses, label='Train Loss')\n",
    "plt.plot(val_losses, label='Val Loss')\n",
    "plt.xlabel('Epochs')\n",
    "plt.ylabel('Loss')\n",
    "plt.title('Training and Validation Loss')\n",
    "plt.legend()\n",
    "plt.show()"
   ]
  },
  {
   "cell_type": "code",
   "execution_count": 87,
   "id": "e5320ee6-b7d6-4a42-890b-c52a70d3d681",
   "metadata": {},
   "outputs": [],
   "source": [
    "# Save the trained model\n",
    "torch.save(model.state_dict(), 'model_2C_ger-eng.pt')"
   ]
  },
  {
   "cell_type": "code",
   "execution_count": 88,
   "id": "590145d7-fde5-44e2-b2c9-6a43c31adfeb",
   "metadata": {},
   "outputs": [
    {
     "data": {
      "text/plain": [
       "T5ForConditionalGeneration(\n",
       "  (shared): Embedding(32128, 512)\n",
       "  (encoder): T5Stack(\n",
       "    (embed_tokens): Embedding(32128, 512)\n",
       "    (block): ModuleList(\n",
       "      (0): T5Block(\n",
       "        (layer): ModuleList(\n",
       "          (0): T5LayerSelfAttention(\n",
       "            (SelfAttention): T5Attention(\n",
       "              (q): Linear(in_features=512, out_features=512, bias=False)\n",
       "              (k): Linear(in_features=512, out_features=512, bias=False)\n",
       "              (v): Linear(in_features=512, out_features=512, bias=False)\n",
       "              (o): Linear(in_features=512, out_features=512, bias=False)\n",
       "              (relative_attention_bias): Embedding(32, 8)\n",
       "            )\n",
       "            (layer_norm): T5LayerNorm()\n",
       "            (dropout): Dropout(p=0.1, inplace=False)\n",
       "          )\n",
       "          (1): T5LayerFF(\n",
       "            (DenseReluDense): T5DenseActDense(\n",
       "              (wi): Linear(in_features=512, out_features=2048, bias=False)\n",
       "              (wo): Linear(in_features=2048, out_features=512, bias=False)\n",
       "              (dropout): Dropout(p=0.1, inplace=False)\n",
       "              (act): ReLU()\n",
       "            )\n",
       "            (layer_norm): T5LayerNorm()\n",
       "            (dropout): Dropout(p=0.1, inplace=False)\n",
       "          )\n",
       "        )\n",
       "      )\n",
       "      (1-5): 5 x T5Block(\n",
       "        (layer): ModuleList(\n",
       "          (0): T5LayerSelfAttention(\n",
       "            (SelfAttention): T5Attention(\n",
       "              (q): Linear(in_features=512, out_features=512, bias=False)\n",
       "              (k): Linear(in_features=512, out_features=512, bias=False)\n",
       "              (v): Linear(in_features=512, out_features=512, bias=False)\n",
       "              (o): Linear(in_features=512, out_features=512, bias=False)\n",
       "            )\n",
       "            (layer_norm): T5LayerNorm()\n",
       "            (dropout): Dropout(p=0.1, inplace=False)\n",
       "          )\n",
       "          (1): T5LayerFF(\n",
       "            (DenseReluDense): T5DenseActDense(\n",
       "              (wi): Linear(in_features=512, out_features=2048, bias=False)\n",
       "              (wo): Linear(in_features=2048, out_features=512, bias=False)\n",
       "              (dropout): Dropout(p=0.1, inplace=False)\n",
       "              (act): ReLU()\n",
       "            )\n",
       "            (layer_norm): T5LayerNorm()\n",
       "            (dropout): Dropout(p=0.1, inplace=False)\n",
       "          )\n",
       "        )\n",
       "      )\n",
       "    )\n",
       "    (final_layer_norm): T5LayerNorm()\n",
       "    (dropout): Dropout(p=0.1, inplace=False)\n",
       "  )\n",
       "  (decoder): T5Stack(\n",
       "    (embed_tokens): Embedding(32128, 512)\n",
       "    (block): ModuleList(\n",
       "      (0): T5Block(\n",
       "        (layer): ModuleList(\n",
       "          (0): T5LayerSelfAttention(\n",
       "            (SelfAttention): T5Attention(\n",
       "              (q): Linear(in_features=512, out_features=512, bias=False)\n",
       "              (k): Linear(in_features=512, out_features=512, bias=False)\n",
       "              (v): Linear(in_features=512, out_features=512, bias=False)\n",
       "              (o): Linear(in_features=512, out_features=512, bias=False)\n",
       "              (relative_attention_bias): Embedding(32, 8)\n",
       "            )\n",
       "            (layer_norm): T5LayerNorm()\n",
       "            (dropout): Dropout(p=0.1, inplace=False)\n",
       "          )\n",
       "          (1): T5LayerCrossAttention(\n",
       "            (EncDecAttention): T5Attention(\n",
       "              (q): Linear(in_features=512, out_features=512, bias=False)\n",
       "              (k): Linear(in_features=512, out_features=512, bias=False)\n",
       "              (v): Linear(in_features=512, out_features=512, bias=False)\n",
       "              (o): Linear(in_features=512, out_features=512, bias=False)\n",
       "            )\n",
       "            (layer_norm): T5LayerNorm()\n",
       "            (dropout): Dropout(p=0.1, inplace=False)\n",
       "          )\n",
       "          (2): T5LayerFF(\n",
       "            (DenseReluDense): T5DenseActDense(\n",
       "              (wi): Linear(in_features=512, out_features=2048, bias=False)\n",
       "              (wo): Linear(in_features=2048, out_features=512, bias=False)\n",
       "              (dropout): Dropout(p=0.1, inplace=False)\n",
       "              (act): ReLU()\n",
       "            )\n",
       "            (layer_norm): T5LayerNorm()\n",
       "            (dropout): Dropout(p=0.1, inplace=False)\n",
       "          )\n",
       "        )\n",
       "      )\n",
       "      (1-5): 5 x T5Block(\n",
       "        (layer): ModuleList(\n",
       "          (0): T5LayerSelfAttention(\n",
       "            (SelfAttention): T5Attention(\n",
       "              (q): Linear(in_features=512, out_features=512, bias=False)\n",
       "              (k): Linear(in_features=512, out_features=512, bias=False)\n",
       "              (v): Linear(in_features=512, out_features=512, bias=False)\n",
       "              (o): Linear(in_features=512, out_features=512, bias=False)\n",
       "            )\n",
       "            (layer_norm): T5LayerNorm()\n",
       "            (dropout): Dropout(p=0.1, inplace=False)\n",
       "          )\n",
       "          (1): T5LayerCrossAttention(\n",
       "            (EncDecAttention): T5Attention(\n",
       "              (q): Linear(in_features=512, out_features=512, bias=False)\n",
       "              (k): Linear(in_features=512, out_features=512, bias=False)\n",
       "              (v): Linear(in_features=512, out_features=512, bias=False)\n",
       "              (o): Linear(in_features=512, out_features=512, bias=False)\n",
       "            )\n",
       "            (layer_norm): T5LayerNorm()\n",
       "            (dropout): Dropout(p=0.1, inplace=False)\n",
       "          )\n",
       "          (2): T5LayerFF(\n",
       "            (DenseReluDense): T5DenseActDense(\n",
       "              (wi): Linear(in_features=512, out_features=2048, bias=False)\n",
       "              (wo): Linear(in_features=2048, out_features=512, bias=False)\n",
       "              (dropout): Dropout(p=0.1, inplace=False)\n",
       "              (act): ReLU()\n",
       "            )\n",
       "            (layer_norm): T5LayerNorm()\n",
       "            (dropout): Dropout(p=0.1, inplace=False)\n",
       "          )\n",
       "        )\n",
       "      )\n",
       "    )\n",
       "    (final_layer_norm): T5LayerNorm()\n",
       "    (dropout): Dropout(p=0.1, inplace=False)\n",
       "  )\n",
       "  (lm_head): Linear(in_features=512, out_features=32128, bias=False)\n",
       ")"
      ]
     },
     "execution_count": 88,
     "metadata": {},
     "output_type": "execute_result"
    }
   ],
   "source": [
    "# Load the saved model\n",
    "loaded_model = T5ForConditionalGeneration.from_pretrained(\"google-t5/t5-small\")\n",
    "loaded_model.load_state_dict(torch.load('model_2C_ger-eng.pt'))\n",
    "loaded_model.to(device)"
   ]
  },
  {
   "cell_type": "code",
   "execution_count": 89,
   "id": "dfc419a0-da0e-4d77-9a29-95e166110bd8",
   "metadata": {},
   "outputs": [
    {
     "name": "stderr",
     "output_type": "stream",
     "text": [
      "/home/deb/.local/lib/python3.10/site-packages/datasets/load.py:756: FutureWarning: The repository for sacrebleu contains custom code which must be executed to correctly load the metric. You can inspect the repository content at https://raw.githubusercontent.com/huggingface/datasets/2.18.0/metrics/sacrebleu/sacrebleu.py\n",
      "You can avoid this message in future by passing the argument `trust_remote_code=True`.\n",
      "Passing `trust_remote_code=True` will be mandatory to load this metric from the next major release of `datasets`.\n",
      "  warnings.warn(\n",
      "/home/deb/.local/lib/python3.10/site-packages/datasets/load.py:756: FutureWarning: The repository for meteor contains custom code which must be executed to correctly load the metric. You can inspect the repository content at https://raw.githubusercontent.com/huggingface/datasets/2.18.0/metrics/meteor/meteor.py\n",
      "You can avoid this message in future by passing the argument `trust_remote_code=True`.\n",
      "Passing `trust_remote_code=True` will be mandatory to load this metric from the next major release of `datasets`.\n",
      "  warnings.warn(\n",
      "[nltk_data] Downloading package wordnet to /home/deb/nltk_data...\n",
      "[nltk_data]   Package wordnet is already up-to-date!\n",
      "[nltk_data] Downloading package punkt to /home/deb/nltk_data...\n",
      "[nltk_data]   Package punkt is already up-to-date!\n",
      "[nltk_data] Downloading package omw-1.4 to /home/deb/nltk_data...\n",
      "[nltk_data]   Package omw-1.4 is already up-to-date!\n",
      "/home/deb/.local/lib/python3.10/site-packages/datasets/load.py:756: FutureWarning: The repository for bertscore contains custom code which must be executed to correctly load the metric. You can inspect the repository content at https://raw.githubusercontent.com/huggingface/datasets/2.18.0/metrics/bertscore/bertscore.py\n",
      "You can avoid this message in future by passing the argument `trust_remote_code=True`.\n",
      "Passing `trust_remote_code=True` will be mandatory to load this metric from the next major release of `datasets`.\n",
      "  warnings.warn(\n"
     ]
    }
   ],
   "source": [
    "from datasets import load_metric\n",
    "\n",
    "# Load evaluation metrics\n",
    "bleu_metric = load_metric(\"sacrebleu\")\n",
    "meteor_metric = load_metric(\"meteor\")\n",
    "bert_metric = load_metric(\"bertscore\")\n",
    "\n",
    "# Define a function to compute evaluation metrics\n",
    "def compute_metrics(references, translations):\n",
    "    #bleu_score = bleu_metric.compute(predictions=translations, references=references)\n",
    "    meteor_score = meteor_metric.compute(predictions=translations, references=references)\n",
    "    bert_score = bert_metric.compute(predictions=translations, references=references, lang=\"de\" )\n",
    "    precision = bert_score[\"f1\"]\n",
    "    avg = sum(precision) / len(precision)\n",
    "    \n",
    "    #bert_score_mean = sum(score['f1'] for score in bert_score) / len(bert_score)\n",
    "    \n",
    "    return {\"meteor\": meteor_score['meteor'], \"bert_score\": avg}"
   ]
  },
  {
   "cell_type": "code",
   "execution_count": 90,
   "id": "c6aedd08-60ad-408c-95f4-a3ea161fbcc0",
   "metadata": {},
   "outputs": [
    {
     "name": "stderr",
     "output_type": "stream",
     "text": [
      "Special tokens have been added in the vocabulary, make sure the associated word embeddings are fine-tuned or trained.\n"
     ]
    }
   ],
   "source": [
    "val_references, val_translations = val_dataset.evaluate(loaded_model, val_loader)\n",
    "data_test = load_dataset(\"wmt16\",\"de-en\", split=\"test\")\n",
    "test_dataset = TranslationDataset(data_test)\n",
    "test_loader = DataLoader(test_dataset, batch_size=8, shuffle=False)\n",
    "test_references, test_translations = test_dataset.evaluate(loaded_model, test_loader)"
   ]
  },
  {
   "cell_type": "code",
   "execution_count": 91,
   "id": "6af664b6-6f9b-4b06-aaad-27bddbc95bfb",
   "metadata": {},
   "outputs": [
    {
     "name": "stdout",
     "output_type": "stream",
     "text": [
      "['The Prime Minister of India and Japan met in Tokio.', \"India' s new Prime Minister Narendra Modi returns to his first important visit to foreign affairs since his election victory in May in his Japanese counterpart, Shinzo Abe, in Toko to discuss economic and security relations.\", \"Mr Modi is on a five-month trip to Japan to consolidate economic relations with the world' s third largest economic position.\", 'Plans for closer cooperation on nuclear technology are top of the agenda.', 'According to reports, India also hopes for a Treaty for the defence cooperation between the two nations.']\n",
      "['India and Japan prime ministers meet in Tokyo', \"India's new prime minister, Narendra Modi, is meeting his Japanese counterpart, Shinzo Abe, in Tokyo to discuss economic and security ties, on his first major foreign visit since winning May's election.\", 'Mr Modi is on a five-day trip to Japan to strengthen economic ties with the third largest economy in the world.', 'High on the agenda are plans for greater nuclear co-operation.', 'India is also reportedly hoping for a deal on defence collaboration between the two nations.']\n"
     ]
    }
   ],
   "source": [
    "print(val_translations[:5])\n",
    "print(val_references[:5])"
   ]
  },
  {
   "cell_type": "code",
   "execution_count": 92,
   "id": "977a412a-d0c6-442f-abb6-72de8c0a3976",
   "metadata": {},
   "outputs": [],
   "source": [
    "val_metrics = compute_metrics(val_references, val_translations)\n",
    "test_metrics = compute_metrics(test_references, test_translations)"
   ]
  },
  {
   "cell_type": "code",
   "execution_count": 93,
   "id": "5e1e505e-25cb-4134-b78a-86bd4f366143",
   "metadata": {},
   "outputs": [
    {
     "name": "stdout",
     "output_type": "stream",
     "text": [
      "Validation METEOR Score: 0.491024051765557\n",
      "Validation BERT Score: 0.8323953468137867\n",
      "Test METEOR Score: 0.5330110965482197\n",
      "Test BERT Score: 0.8418207255829648\n"
     ]
    }
   ],
   "source": [
    "#print(\"Validation BLEU Score:\", val_metrics['bleu'])\n",
    "print(\"Validation METEOR Score:\", val_metrics['meteor'])\n",
    "print(\"Validation BERT Score:\", val_metrics['bert_score'])\n",
    "\n",
    "#print(\"Test BLEU Score:\", test_metrics['bleu'])\n",
    "print(\"Test METEOR Score:\", test_metrics['meteor'])\n",
    "print(\"Test BERT Score:\", test_metrics['bert_score'])"
   ]
  },
  {
   "cell_type": "code",
   "execution_count": 94,
   "id": "6035da1b-4f19-442f-87e3-42b1051188d8",
   "metadata": {},
   "outputs": [],
   "source": [
    "bleu_val_ref = [[x] for x in val_references]\n",
    "bleu_test_ref = [[x] for x in test_references]"
   ]
  },
  {
   "cell_type": "code",
   "execution_count": 95,
   "id": "560bace3-6e96-4bb9-95a0-e9f5ad872927",
   "metadata": {},
   "outputs": [],
   "source": [
    "import evaluate\n",
    "bleu = evaluate.load('bleu')"
   ]
  },
  {
   "cell_type": "code",
   "execution_count": 96,
   "id": "a7fb6fc5-2193-4b3f-bf0e-56cb6baa3376",
   "metadata": {},
   "outputs": [
    {
     "name": "stdout",
     "output_type": "stream",
     "text": [
      "Validation BLEU-1 Score: {'bleu': 0.5091697164237083, 'precisions': [0.5091697164237083], 'brevity_penalty': 1.0, 'length_ratio': 1.0532991644413816, 'translation_length': 48911, 'reference_length': 46436}\n",
      "Validation BLEU-2 Score: {'bleu': 0.34968001494288803, 'precisions': [0.5091697164237083, 0.24014804672457318], 'brevity_penalty': 1.0, 'length_ratio': 1.0532991644413816, 'translation_length': 48911, 'reference_length': 46436}\n",
      "Validation BLEU-3 Score: {'bleu': 0.2509853305258818, 'precisions': [0.5091697164237083, 0.24014804672457318, 0.12930144914531833], 'brevity_penalty': 1.0, 'length_ratio': 1.0532991644413816, 'translation_length': 48911, 'reference_length': 46436}\n",
      "Validation BLEU-4 Score: {'bleu': 0.18499194218302978, 'precisions': [0.5091697164237083, 0.24014804672457318, 0.12930144914531833, 0.07407407407407407], 'brevity_penalty': 1.0, 'length_ratio': 1.0532991644413816, 'translation_length': 48911, 'reference_length': 46436}\n",
      "\n",
      "\n",
      "Test BLEU-1 Score: {'bleu': 0.5317757144301165, 'precisions': [0.5317757144301165], 'brevity_penalty': 1.0, 'length_ratio': 1.0799376218323586, 'translation_length': 69251, 'reference_length': 64125}\n",
      "Test BLEU-2 Score: {'bleu': 0.37567408847489747, 'precisions': [0.5317757144301165, 0.26539576163738454], 'brevity_penalty': 1.0, 'length_ratio': 1.0799376218323586, 'translation_length': 69251, 'reference_length': 64125}\n",
      "Test BLEU-3 Score: {'bleu': 0.27517667662363815, 'precisions': [0.5317757144301165, 0.26539576163738454, 0.147642836816644], 'brevity_penalty': 1.0, 'length_ratio': 1.0799376218323586, 'translation_length': 69251, 'reference_length': 64125}\n",
      "Test BLEU-4 Score: {'bleu': 0.2053460030493892, 'precisions': [0.5317757144301165, 0.26539576163738454, 0.147642836816644, 0.08533165170347998], 'brevity_penalty': 1.0, 'length_ratio': 1.0799376218323586, 'translation_length': 69251, 'reference_length': 64125}\n"
     ]
    }
   ],
   "source": [
    "bleu_score = bleu.compute(predictions=val_translations, references=bleu_val_ref, max_order=1)\n",
    "print(\"Validation BLEU-1 Score:\", bleu_score)\n",
    "bleu_score = bleu.compute(predictions=val_translations, references=bleu_val_ref, max_order=2)\n",
    "print(\"Validation BLEU-2 Score:\", bleu_score)\n",
    "bleu_score = bleu.compute(predictions=val_translations, references=bleu_val_ref, max_order=3)\n",
    "print(\"Validation BLEU-3 Score:\", bleu_score)\n",
    "bleu_score = bleu.compute(predictions=val_translations, references=bleu_val_ref, max_order=4)\n",
    "print(\"Validation BLEU-4 Score:\", bleu_score)\n",
    "print(\"\\n\")\n",
    "bleu_score = bleu.compute(predictions=test_translations, references=bleu_test_ref, max_order = 1)\n",
    "print(\"Test BLEU-1 Score:\", bleu_score)\n",
    "bleu_score = bleu.compute(predictions=test_translations, references=bleu_test_ref, max_order = 2)\n",
    "print(\"Test BLEU-2 Score:\", bleu_score)\n",
    "bleu_score = bleu.compute(predictions=test_translations, references=bleu_test_ref, max_order = 3)\n",
    "print(\"Test BLEU-3 Score:\", bleu_score)\n",
    "bleu_score = bleu.compute(predictions=test_translations, references=bleu_test_ref, max_order = 4)\n",
    "print(\"Test BLEU-4 Score:\", bleu_score)"
   ]
  },
  {
   "cell_type": "code",
   "execution_count": null,
   "id": "37ceadfb-9e0a-4a97-a34d-88064e731c50",
   "metadata": {},
   "outputs": [],
   "source": [
    "tokenizer = T5Tokenizer.from_pretrained(\"google-t5/t5-small\")\n",
    "import pandas as pd\n",
    "sentences = pd.read_csv(\"input_2B.csv\")\n",
    "sentences['de'] = \"\"\n",
    "for i in range(len(sentences)):\n",
    "    input_text = \"translate German to English: \" + sentences['en'][i]\n",
    "    input_ids = tokenizer.encode(input_text, return_tensors=\"pt\").to(device)\n",
    "    outputs = model.generate(input_ids, max_length=128, num_beams=4, early_stopping=True)\n",
    "    translated = tokenizer.decode(outputs[0], skip_special_tokens=True)\n",
    "    sentences['de'][i] = translated\n",
    "sentences.to_csv(\"task2C.csv\", index=False)"
   ]
  }
 ],
 "metadata": {
  "kernelspec": {
   "display_name": "Python 3 (ipykernel)",
   "language": "python",
   "name": "python3"
  },
  "language_info": {
   "codemirror_mode": {
    "name": "ipython",
    "version": 3
   },
   "file_extension": ".py",
   "mimetype": "text/x-python",
   "name": "python",
   "nbconvert_exporter": "python",
   "pygments_lexer": "ipython3",
   "version": "3.10.9"
  }
 },
 "nbformat": 4,
 "nbformat_minor": 5
}
