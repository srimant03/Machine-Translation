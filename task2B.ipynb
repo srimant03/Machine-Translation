{
 "cells": [
  {
   "cell_type": "code",
   "execution_count": 1,
   "id": "8ee3cb10-44c9-46b9-b308-ce916d6ee76c",
   "metadata": {},
   "outputs": [
    {
     "name": "stdout",
     "output_type": "stream",
     "text": [
      "Defaulting to user installation because normal site-packages is not writeable\n",
      "Requirement already satisfied: datasets in /home/deb/.local/lib/python3.10/site-packages (2.18.0)\n",
      "Requirement already satisfied: filelock in /home/tools/anaconda3/lib/python3.10/site-packages (from datasets) (3.9.0)\n",
      "Requirement already satisfied: numpy>=1.17 in /home/deb/.local/lib/python3.10/site-packages (from datasets) (1.26.4)\n",
      "Requirement already satisfied: pyarrow>=12.0.0 in /home/deb/.local/lib/python3.10/site-packages (from datasets) (15.0.2)\n",
      "Requirement already satisfied: pyarrow-hotfix in /home/deb/.local/lib/python3.10/site-packages (from datasets) (0.6)\n",
      "Requirement already satisfied: dill<0.3.9,>=0.3.0 in /home/deb/.local/lib/python3.10/site-packages (from datasets) (0.3.8)\n",
      "Requirement already satisfied: pandas in /home/tools/anaconda3/lib/python3.10/site-packages (from datasets) (1.3.4)\n",
      "Requirement already satisfied: requests>=2.19.0 in /home/tools/anaconda3/lib/python3.10/site-packages (from datasets) (2.31.0)\n",
      "Requirement already satisfied: tqdm>=4.62.1 in /home/tools/anaconda3/lib/python3.10/site-packages (from datasets) (4.64.1)\n",
      "Requirement already satisfied: xxhash in /home/deb/.local/lib/python3.10/site-packages (from datasets) (3.4.1)\n",
      "Requirement already satisfied: multiprocess in /home/deb/.local/lib/python3.10/site-packages (from datasets) (0.70.16)\n",
      "Requirement already satisfied: fsspec<=2024.2.0,>=2023.1.0 in /home/deb/.local/lib/python3.10/site-packages (from fsspec[http]<=2024.2.0,>=2023.1.0->datasets) (2024.2.0)\n",
      "Requirement already satisfied: aiohttp in /home/deb/.local/lib/python3.10/site-packages (from datasets) (3.9.3)\n",
      "Requirement already satisfied: huggingface-hub>=0.19.4 in /home/deb/.local/lib/python3.10/site-packages (from datasets) (0.22.1)\n",
      "Requirement already satisfied: packaging in /home/tools/anaconda3/lib/python3.10/site-packages (from datasets) (22.0)\n",
      "Requirement already satisfied: pyyaml>=5.1 in /home/tools/anaconda3/lib/python3.10/site-packages (from datasets) (6.0)\n",
      "Requirement already satisfied: aiosignal>=1.1.2 in /home/deb/.local/lib/python3.10/site-packages (from aiohttp->datasets) (1.3.1)\n",
      "Requirement already satisfied: attrs>=17.3.0 in /home/tools/anaconda3/lib/python3.10/site-packages (from aiohttp->datasets) (22.1.0)\n",
      "Requirement already satisfied: frozenlist>=1.1.1 in /home/deb/.local/lib/python3.10/site-packages (from aiohttp->datasets) (1.4.1)\n",
      "Requirement already satisfied: multidict<7.0,>=4.5 in /home/deb/.local/lib/python3.10/site-packages (from aiohttp->datasets) (6.0.5)\n",
      "Requirement already satisfied: yarl<2.0,>=1.0 in /home/deb/.local/lib/python3.10/site-packages (from aiohttp->datasets) (1.9.4)\n",
      "Requirement already satisfied: async-timeout<5.0,>=4.0 in /home/deb/.local/lib/python3.10/site-packages (from aiohttp->datasets) (4.0.3)\n",
      "Requirement already satisfied: typing-extensions>=3.7.4.3 in /home/deb/.local/lib/python3.10/site-packages (from huggingface-hub>=0.19.4->datasets) (4.10.0)\n",
      "Requirement already satisfied: charset-normalizer<4,>=2 in /home/tools/anaconda3/lib/python3.10/site-packages (from requests>=2.19.0->datasets) (2.0.4)\n",
      "Requirement already satisfied: idna<4,>=2.5 in /home/tools/anaconda3/lib/python3.10/site-packages (from requests>=2.19.0->datasets) (3.4)\n",
      "Requirement already satisfied: urllib3<3,>=1.21.1 in /home/tools/anaconda3/lib/python3.10/site-packages (from requests>=2.19.0->datasets) (1.26.14)\n",
      "Requirement already satisfied: certifi>=2017.4.17 in /home/tools/anaconda3/lib/python3.10/site-packages (from requests>=2.19.0->datasets) (2022.12.7)\n",
      "Requirement already satisfied: python-dateutil>=2.7.3 in /home/tools/anaconda3/lib/python3.10/site-packages (from pandas->datasets) (2.8.2)\n",
      "Requirement already satisfied: pytz>=2017.3 in /home/tools/anaconda3/lib/python3.10/site-packages (from pandas->datasets) (2022.7)\n",
      "Requirement already satisfied: six>=1.5 in /home/tools/anaconda3/lib/python3.10/site-packages (from python-dateutil>=2.7.3->pandas->datasets) (1.16.0)\n",
      "Note: you may need to restart the kernel to use updated packages.\n"
     ]
    }
   ],
   "source": [
    "pip install datasets"
   ]
  },
  {
   "cell_type": "code",
   "execution_count": 2,
   "id": "56319408-4643-4ede-9a33-3ca74032581d",
   "metadata": {},
   "outputs": [],
   "source": [
    "from datasets import load_dataset\n",
    "import pandas as pd"
   ]
  },
  {
   "cell_type": "code",
   "execution_count": 3,
   "id": "5fdb55ab-f772-43bb-bf99-41ac472c47c5",
   "metadata": {},
   "outputs": [],
   "source": [
    "data_train = load_dataset(\"wmt16\",\"de-en\", split=\"train[:50000]\")"
   ]
  },
  {
   "cell_type": "code",
   "execution_count": 4,
   "id": "40d7dc60-547e-415f-bb11-708d9762c05f",
   "metadata": {},
   "outputs": [
    {
     "name": "stdout",
     "output_type": "stream",
     "text": [
      "Dataset({\n",
      "    features: ['translation'],\n",
      "    num_rows: 50000\n",
      "})\n"
     ]
    }
   ],
   "source": [
    "print(data_train)"
   ]
  },
  {
   "cell_type": "code",
   "execution_count": 5,
   "id": "1a21fc55-f692-40a2-9ac2-5493f330a75e",
   "metadata": {},
   "outputs": [
    {
     "name": "stdout",
     "output_type": "stream",
     "text": [
      "[('Wiederaufnahme der Sitzungsperiode', 'Resumption of the session'), ('Ich erkläre die am Freitag, dem 17. Dezember unterbrochene Sitzungsperiode des Europäischen Parlaments für wiederaufgenommen, wünsche Ihnen nochmals alles Gute zum Jahreswechsel und hoffe, daß Sie schöne Ferien hatten.', 'I declare resumed the session of the European Parliament adjourned on Friday 17 December 1999, and I would like once again to wish you a happy new year in the hope that you enjoyed a pleasant festive period.'), ('Wie Sie feststellen konnten, ist der gefürchtete \"Millenium-Bug \" nicht eingetreten. Doch sind Bürger einiger unserer Mitgliedstaaten Opfer von schrecklichen Naturkatastrophen geworden.', \"Although, as you will have seen, the dreaded 'millennium bug' failed to materialise, still the people in a number of countries suffered a series of natural disasters that truly were dreadful.\"), ('Im Parlament besteht der Wunsch nach einer Aussprache im Verlauf dieser Sitzungsperiode in den nächsten Tagen.', 'You have requested a debate on this subject in the course of the next few days, during this part-session.'), ('Heute möchte ich Sie bitten - das ist auch der Wunsch einiger Kolleginnen und Kollegen -, allen Opfern der Stürme, insbesondere in den verschiedenen Ländern der Europäischen Union, in einer Schweigeminute zu gedenken.', \"In the meantime, I should like to observe a minute' s silence, as a number of Members have requested, on behalf of all the victims concerned, particularly those of the terrible storms, in the various countries of the European Union.\"), ('Ich bitte Sie, sich zu einer Schweigeminute zu erheben.', \"Please rise, then, for this minute' s silence.\"), ('(Das Parlament erhebt sich zu einer Schweigeminute.)', \"(The House rose and observed a minute' s silence)\"), ('Frau Präsidentin, zur Geschäftsordnung.', 'Madam President, on a point of order.'), ('Wie Sie sicher aus der Presse und dem Fernsehen wissen, gab es in Sri Lanka mehrere Bombenexplosionen mit zahlreichen Toten.', 'You will be aware from the press and television that there have been a number of bomb explosions and killings in Sri Lanka.'), ('Zu den Attentatsopfern, die es in jüngster Zeit in Sri Lanka zu beklagen gab, zählt auch Herr Kumar Ponnambalam, der dem Europäischen Parlament erst vor wenigen Monaten einen Besuch abgestattet hatte.', 'One of the people assassinated very recently in Sri Lanka was Mr Kumar Ponnambalam, who had visited the European Parliament just a few months ago.')]\n"
     ]
    }
   ],
   "source": [
    "df_train = pd.DataFrame(data_train)\n",
    "train_data = []\n",
    "for i in df_train['translation']:\n",
    "    de = i['de']\n",
    "    en = i['en']\n",
    "    train_data.append((de,en))\n",
    "print(train_data[:10])"
   ]
  },
  {
   "cell_type": "code",
   "execution_count": 6,
   "id": "32f94abb-18f9-4dab-8832-9107597e13a7",
   "metadata": {},
   "outputs": [],
   "source": [
    "data_val = load_dataset(\"wmt16\",\"de-en\", split=\"validation\")"
   ]
  },
  {
   "cell_type": "code",
   "execution_count": 7,
   "id": "384b1a17-4eee-482b-8e1e-3df620f3256a",
   "metadata": {},
   "outputs": [
    {
     "name": "stdout",
     "output_type": "stream",
     "text": [
      "[('Die Premierminister Indiens und Japans trafen sich in Tokio.', 'India and Japan prime ministers meet in Tokyo'), ('Indiens neuer Premierminister Narendra Modi trifft bei seinem ersten wichtigen Auslandsbesuch seit seinem Wahlsieg im Mai seinen japanischen Amtskollegen Shinzo Abe in Toko, um wirtschaftliche und sicherheitspolitische Beziehungen zu besprechen.', \"India's new prime minister, Narendra Modi, is meeting his Japanese counterpart, Shinzo Abe, in Tokyo to discuss economic and security ties, on his first major foreign visit since winning May's election.\"), ('Herr Modi befindet sich auf einer fünftägigen Reise nach Japan, um die wirtschaftlichen Beziehungen mit der drittgrößten Wirtschaftsnation der Welt zu festigen.', 'Mr Modi is on a five-day trip to Japan to strengthen economic ties with the third largest economy in the world.'), ('Pläne für eine stärkere kerntechnische Zusammenarbeit stehen ganz oben auf der Tagesordnung.', 'High on the agenda are plans for greater nuclear co-operation.'), ('Berichten zufolge hofft Indien darüber hinaus auf einen Vertrag zur Verteidigungszusammenarbeit zwischen den beiden Nationen.', 'India is also reportedly hoping for a deal on defence collaboration between the two nations.'), ('Polizei von Karratha verhaftet 20-Jährigen nach schneller Motorradjagd', 'Karratha police arrest 20-year-old after high speed motorcycle chase'), ('Ein Motorrad wurde beschlagnahmt, nachdem der Fahrer es mit 125 km/h in einer 70 km/h-Zone und durch Buschland gefahren hatte, um der Polizei in Bilbara zu entkommen.', 'A motorcycle has been seized after it was ridden at 125km/h in a 70km/h zone and through bushland to escape police in the Pilbara.'), ('Verkehrspolizisten in Karratha versuchten heute morgen, ein blaues Motorrad zu stoppen, nachdem sie es dabei beobachtet hatten, wie es mit 125 km/h eine Tankstelle auf der Bathdate Road verließ.', 'Traffic police on patrol in Karratha this morning tried to pull over a blue motorcycle when they spotted it reaching 125km/h as it pulled out of a service station on Bathgate Road.'), ('Die Polizei berichtet, dass der Fahrer die Haltesignale dann ignorierte und weiter auf der Burgess Road fuhr, bevor er in das Buschland abbog, wo die Beamten es aus den Augen verloren.', 'Police say the rider then failed to stop and continued on to Burgess Road before turning into bushland, causing the officers to lose sight of it.'), ('Das Motorrad sowie eine Person, die der Beschreibung des Fahrers entsprach wurden später bei einem Haus im Walcott Way in Bulgarra gesehen.', 'The motorcycle and a person matching the description of the rider was then spotted at a house on Walcott Way in Bulgarra.')]\n"
     ]
    }
   ],
   "source": [
    "df_val = pd.DataFrame(data_val)\n",
    "val_data = []\n",
    "for i in df_val['translation']:\n",
    "    de = i['de']\n",
    "    en = i['en']\n",
    "    val_data.append((de,en))\n",
    "print(val_data[:10])"
   ]
  },
  {
   "cell_type": "code",
   "execution_count": 8,
   "id": "d027b115-8375-476c-9066-565e3a36608e",
   "metadata": {},
   "outputs": [],
   "source": [
    "data_test = load_dataset(\"wmt16\",\"de-en\", split=\"test\")"
   ]
  },
  {
   "cell_type": "code",
   "execution_count": 9,
   "id": "9ff005b8-1c6e-488f-86e5-7e8a3c4829a0",
   "metadata": {},
   "outputs": [
    {
     "name": "stdout",
     "output_type": "stream",
     "text": [
      "[('Obama empfängt Netanyahu', 'Obama receives Netanyahu'), ('Das Verhältnis zwischen Obama und Netanyahu ist nicht gerade freundschaftlich.', 'The relationship between Obama and Netanyahu is not exactly friendly.'), ('Die beiden wollten über die Umsetzung der internationalen Vereinbarung sowie über Teherans destabilisierende Maßnahmen im Nahen Osten sprechen.', \"The two wanted to talk about the implementation of the international agreement and about Teheran's destabilising activities in the Middle East.\"), ('Bei der Begegnung soll es aber auch um den Konflikt mit den Palästinensern und die diskutierte Zwei-Staaten-Lösung gehen.', 'The meeting was also planned to cover the conflict with the Palestinians and the disputed two state solution.'), ('Das Verhältnis zwischen Obama und Netanyahu ist seit Jahren gespannt.', 'Relations between Obama and Netanyahu have been strained for years.'), ('Washington kritisiert den andauernden Siedlungsbau Israels und wirft Netanyahu mangelnden Willen beim Friedensprozess vor.', 'Washington criticises the continuous building of settlements in Israel and accuses Netanyahu of a lack of initiative in the peace process.'), ('Durch den von Obama beworbenen Deal um das iranische Atomprogramm hat sich die Beziehung der beiden weiter verschlechtert.', \"The relationship between the two has further deteriorated because of the deal that Obama negotiated on Iran's atomic programme, .\"), ('Im März hatte Netanyahu auf Einladung der Republikaner vor dem US-Kongress eine umstrittene Rede gehalten, die teils als Affront gegen Obama gewertet wurde.', 'In March, at the invitation of the Republicans, Netanyahu made a controversial speech to the US Congress, which was partly seen as an affront to Obama.'), ('Die Rede war mit Obama nicht abgesprochen, ein Treffen hatte dieser mit Hinweis auf die seinerzeit bevorstehende Wahl in Israel abgelehnt.', 'The speech had not been agreed with Obama, who had rejected a meeting with reference to the election that was at that time impending in Israel.'), ('In einem Notruf gesteht Professor, seine Freundin erschossen zu haben', 'In 911 Call, Professor Admits to Shooting Girlfriend')]\n"
     ]
    }
   ],
   "source": [
    "df_test = pd.DataFrame(data_test)\n",
    "test_data = []\n",
    "for i in df_test['translation']:\n",
    "    de = i['de']\n",
    "    en = i['en']\n",
    "    test_data.append((de,en))\n",
    "print(test_data[:10])"
   ]
  },
  {
   "cell_type": "code",
   "execution_count": 10,
   "id": "4a46b70e-ebd1-4ec9-a88e-0cd0c42fa7c3",
   "metadata": {},
   "outputs": [
    {
     "name": "stdout",
     "output_type": "stream",
     "text": [
      "Defaulting to user installation because normal site-packages is not writeable\n",
      "Requirement already satisfied: sentencepiece in /home/deb/.local/lib/python3.10/site-packages (0.2.0)\n",
      "Defaulting to user installation because normal site-packages is not writeable\n",
      "Requirement already satisfied: transformers in /home/deb/.local/lib/python3.10/site-packages (4.39.2)\n",
      "Requirement already satisfied: filelock in /home/tools/anaconda3/lib/python3.10/site-packages (from transformers) (3.9.0)\n",
      "Requirement already satisfied: huggingface-hub<1.0,>=0.19.3 in /home/deb/.local/lib/python3.10/site-packages (from transformers) (0.22.1)\n",
      "Requirement already satisfied: numpy>=1.17 in /home/deb/.local/lib/python3.10/site-packages (from transformers) (1.26.4)\n",
      "Requirement already satisfied: packaging>=20.0 in /home/tools/anaconda3/lib/python3.10/site-packages (from transformers) (22.0)\n",
      "Requirement already satisfied: pyyaml>=5.1 in /home/tools/anaconda3/lib/python3.10/site-packages (from transformers) (6.0)\n",
      "Requirement already satisfied: regex!=2019.12.17 in /home/tools/anaconda3/lib/python3.10/site-packages (from transformers) (2022.7.9)\n",
      "Requirement already satisfied: requests in /home/tools/anaconda3/lib/python3.10/site-packages (from transformers) (2.31.0)\n",
      "Requirement already satisfied: tokenizers<0.19,>=0.14 in /home/deb/.local/lib/python3.10/site-packages (from transformers) (0.15.2)\n",
      "Requirement already satisfied: safetensors>=0.4.1 in /home/deb/.local/lib/python3.10/site-packages (from transformers) (0.4.2)\n",
      "Requirement already satisfied: tqdm>=4.27 in /home/tools/anaconda3/lib/python3.10/site-packages (from transformers) (4.64.1)\n",
      "Requirement already satisfied: fsspec>=2023.5.0 in /home/deb/.local/lib/python3.10/site-packages (from huggingface-hub<1.0,>=0.19.3->transformers) (2024.2.0)\n",
      "Requirement already satisfied: typing-extensions>=3.7.4.3 in /home/deb/.local/lib/python3.10/site-packages (from huggingface-hub<1.0,>=0.19.3->transformers) (4.10.0)\n",
      "Requirement already satisfied: charset-normalizer<4,>=2 in /home/tools/anaconda3/lib/python3.10/site-packages (from requests->transformers) (2.0.4)\n",
      "Requirement already satisfied: idna<4,>=2.5 in /home/tools/anaconda3/lib/python3.10/site-packages (from requests->transformers) (3.4)\n",
      "Requirement already satisfied: urllib3<3,>=1.21.1 in /home/tools/anaconda3/lib/python3.10/site-packages (from requests->transformers) (1.26.14)\n",
      "Requirement already satisfied: certifi>=2017.4.17 in /home/tools/anaconda3/lib/python3.10/site-packages (from requests->transformers) (2022.12.7)\n",
      "Defaulting to user installation because normal site-packages is not writeable\n",
      "Requirement already satisfied: transformers in /home/deb/.local/lib/python3.10/site-packages (4.39.2)\n",
      "Requirement already satisfied: filelock in /home/tools/anaconda3/lib/python3.10/site-packages (from transformers) (3.9.0)\n",
      "Requirement already satisfied: huggingface-hub<1.0,>=0.19.3 in /home/deb/.local/lib/python3.10/site-packages (from transformers) (0.22.1)\n",
      "Requirement already satisfied: numpy>=1.17 in /home/deb/.local/lib/python3.10/site-packages (from transformers) (1.26.4)\n",
      "Requirement already satisfied: packaging>=20.0 in /home/tools/anaconda3/lib/python3.10/site-packages (from transformers) (22.0)\n",
      "Requirement already satisfied: pyyaml>=5.1 in /home/tools/anaconda3/lib/python3.10/site-packages (from transformers) (6.0)\n",
      "Requirement already satisfied: regex!=2019.12.17 in /home/tools/anaconda3/lib/python3.10/site-packages (from transformers) (2022.7.9)\n",
      "Requirement already satisfied: requests in /home/tools/anaconda3/lib/python3.10/site-packages (from transformers) (2.31.0)\n",
      "Requirement already satisfied: tokenizers<0.19,>=0.14 in /home/deb/.local/lib/python3.10/site-packages (from transformers) (0.15.2)\n",
      "Requirement already satisfied: safetensors>=0.4.1 in /home/deb/.local/lib/python3.10/site-packages (from transformers) (0.4.2)\n",
      "Requirement already satisfied: tqdm>=4.27 in /home/tools/anaconda3/lib/python3.10/site-packages (from transformers) (4.64.1)\n",
      "Requirement already satisfied: fsspec>=2023.5.0 in /home/deb/.local/lib/python3.10/site-packages (from huggingface-hub<1.0,>=0.19.3->transformers) (2024.2.0)\n",
      "Requirement already satisfied: typing-extensions>=3.7.4.3 in /home/deb/.local/lib/python3.10/site-packages (from huggingface-hub<1.0,>=0.19.3->transformers) (4.10.0)\n",
      "Requirement already satisfied: charset-normalizer<4,>=2 in /home/tools/anaconda3/lib/python3.10/site-packages (from requests->transformers) (2.0.4)\n",
      "Requirement already satisfied: idna<4,>=2.5 in /home/tools/anaconda3/lib/python3.10/site-packages (from requests->transformers) (3.4)\n",
      "Requirement already satisfied: urllib3<3,>=1.21.1 in /home/tools/anaconda3/lib/python3.10/site-packages (from requests->transformers) (1.26.14)\n",
      "Requirement already satisfied: certifi>=2017.4.17 in /home/tools/anaconda3/lib/python3.10/site-packages (from requests->transformers) (2022.12.7)\n"
     ]
    }
   ],
   "source": [
    "!pip install sentencepiece\n",
    "!pip install transformers\n",
    "!pip install --upgrade transformers"
   ]
  },
  {
   "cell_type": "code",
   "execution_count": 20,
   "id": "c29ebdfa-5ad1-44ad-a8a6-3dfcfe291add",
   "metadata": {},
   "outputs": [
    {
     "name": "stderr",
     "output_type": "stream",
     "text": [
      "Special tokens have been added in the vocabulary, make sure the associated word embeddings are fine-tuned or trained.\n"
     ]
    }
   ],
   "source": [
    "from transformers import T5Tokenizer, T5ForConditionalGeneration\n",
    "tokenizer = T5Tokenizer.from_pretrained(\"google-t5/t5-small\")\n",
    "model = T5ForConditionalGeneration.from_pretrained(\"google-t5/t5-small\")"
   ]
  },
  {
   "cell_type": "code",
   "execution_count": 27,
   "id": "76c2cecd-da22-4e55-8c3d-890375be4f63",
   "metadata": {},
   "outputs": [
    {
     "name": "stderr",
     "output_type": "stream",
     "text": [
      "/home/deb/.local/lib/python3.10/site-packages/transformers/generation/utils.py:1132: UserWarning: Using the model-agnostic default `max_length` (=20) to control the generation length. We recommend setting `max_new_tokens` to control the maximum length of the generation.\n",
      "  warnings.warn(\n"
     ]
    },
    {
     "name": "stdout",
     "output_type": "stream",
     "text": [
      "2169\n"
     ]
    }
   ],
   "source": [
    "prefix = \"translate English to German: \"\n",
    "sentences_val_eng = [prefix + i[1] for i in val_data]\n",
    "sentences_test_eng = [prefix + i[1] for i in test_data]\n",
    "\n",
    "inputs = tokenizer(sentences_val_eng, return_tensors=\"pt\", padding=True, truncation=True)\n",
    "output_sequences = model.generate(input_ids=inputs['input_ids'], attention_mask=inputs['attention_mask'], do_sample=False)\n",
    "output_sequences_val = tokenizer.batch_decode(output_sequences, skip_special_tokens=True)\n",
    "print(len(output_sequences_val))"
   ]
  },
  {
   "cell_type": "code",
   "execution_count": 42,
   "id": "121db328-c91c-4d77-bf68-47cc98225355",
   "metadata": {},
   "outputs": [
    {
     "name": "stdout",
     "output_type": "stream",
     "text": [
      "['In Tokio treffen sich die Premierminister Indiens und Japans', 'Der neue indische Premierminister Narendra Modi trifft sein japanisches Am', 'Herr Modi ist auf einer fünftägigen Reise nach Japan, um die wirtschaftliche', 'Auf der Tagesordnung stehen Pläne für eine verstärkte nukleare Zusammenarbeit.', 'Indien hofft ebenfalls auf eine Vereinbarung über die Zusammenarbeit im Verteidigungs']\n"
     ]
    }
   ],
   "source": [
    "print(output_sequences_val[:5])"
   ]
  },
  {
   "cell_type": "code",
   "execution_count": 45,
   "id": "ae023bc0-3a38-4333-88dc-c772abeb9246",
   "metadata": {},
   "outputs": [
    {
     "name": "stderr",
     "output_type": "stream",
     "text": [
      "/home/deb/.local/lib/python3.10/site-packages/transformers/generation/utils.py:1132: UserWarning: Using the model-agnostic default `max_length` (=20) to control the generation length. We recommend setting `max_new_tokens` to control the maximum length of the generation.\n",
      "  warnings.warn(\n"
     ]
    }
   ],
   "source": [
    "inputs = tokenizer(sentences_test_eng, return_tensors=\"pt\", padding=True, truncation=True)\n",
    "output_sequences = model.generate(input_ids=inputs['input_ids'], attention_mask=inputs['attention_mask'], do_sample=False)\n",
    "output_sequences_test = tokenizer.batch_decode(output_sequences, skip_special_tokens=True)"
   ]
  },
  {
   "cell_type": "code",
   "execution_count": 47,
   "id": "b63ac49a-4065-4a51-8bc2-556ee6d421a0",
   "metadata": {},
   "outputs": [
    {
     "name": "stdout",
     "output_type": "stream",
     "text": [
      "Validation BLEU-1 Score: {'bleu': 0.2661676664462372, 'precisions': [0.5953264548754129], 'brevity_penalty': 0.4470953109280848, 'length_ratio': 0.5540216900135563, 'translation_length': 24521, 'reference_length': 44260}\n",
      "Validation BLEU-2 Score: {'bleu': 0.20111319933833893, 'precisions': [0.5953264548754129, 0.3398801002147459], 'brevity_penalty': 0.4470953109280848, 'length_ratio': 0.5540216900135563, 'translation_length': 24521, 'reference_length': 44260}\n",
      "Validation BLEU-3 Score: {'bleu': 0.15829949742184973, 'precisions': [0.5953264548754129, 0.3398801002147459, 0.21935995244228673], 'brevity_penalty': 0.4470953109280848, 'length_ratio': 0.5540216900135563, 'translation_length': 24521, 'reference_length': 44260}\n",
      "Validation BLEU-4 Score: {'bleu': 0.1275631721885134, 'precisions': [0.5953264548754129, 0.3398801002147459, 0.21935995244228673, 0.14930093209054593], 'brevity_penalty': 0.4470953109280848, 'length_ratio': 0.5540216900135563, 'translation_length': 24521, 'reference_length': 44260}\n",
      "Test BLEU-1 Score: {'bleu': 0.27167469339738115, 'precisions': [0.6159426598183454], 'brevity_penalty': 0.44107140342820844, 'length_ratio': 0.5498890998739409, 'translation_length': 34461, 'reference_length': 62669}\n",
      "Test BLEU-2 Score: {'bleu': 0.2112397095608373, 'precisions': [0.6159426598183454, 0.37238573517258916], 'brevity_penalty': 0.44107140342820844, 'length_ratio': 0.5498890998739409, 'translation_length': 34461, 'reference_length': 62669}\n",
      "Test BLEU-3 Score: {'bleu': 0.16942337277959213, 'precisions': [0.6159426598183454, 0.37238573517258916, 0.24709271686048553], 'brevity_penalty': 0.44107140342820844, 'length_ratio': 0.5498890998739409, 'translation_length': 34461, 'reference_length': 62669}\n",
      "Test BLEU-4 Score: {'bleu': 0.13841273518987154, 'precisions': [0.6159426598183454, 0.37238573517258916, 0.24709271686048553, 0.1711099768345832], 'brevity_penalty': 0.44107140342820844, 'length_ratio': 0.5498890998739409, 'translation_length': 34461, 'reference_length': 62669}\n"
     ]
    }
   ],
   "source": [
    "import evaluate\n",
    "bleu = evaluate.load('bleu')\n",
    "\n",
    "sentences_val_ger_bleu = [[i[0]] for i in val_data]\n",
    "sentences_test_ger_bleu = [[i[0]] for i in test_data]\n",
    "\n",
    "bleu_score = bleu.compute(predictions=output_sequences_val, references=sentences_val_ger_bleu, max_order=1)\n",
    "print(\"Validation BLEU-1 Score:\", bleu_score)\n",
    "bleu_score = bleu.compute(predictions=output_sequences_val, references=sentences_val_ger_bleu, max_order=2)\n",
    "print(\"Validation BLEU-2 Score:\", bleu_score)\n",
    "bleu_score = bleu.compute(predictions=output_sequences_val, references=sentences_val_ger_bleu, max_order=3)\n",
    "print(\"Validation BLEU-3 Score:\", bleu_score)\n",
    "bleu_score = bleu.compute(predictions=output_sequences_val, references=sentences_val_ger_bleu, max_order=4)\n",
    "print(\"Validation BLEU-4 Score:\", bleu_score)\n",
    "\n",
    "bleu_score = bleu.compute(predictions=output_sequences_test, references=sentences_test_ger_bleu, max_order = 1)\n",
    "print(\"Test BLEU-1 Score:\", bleu_score)\n",
    "bleu_score = bleu.compute(predictions=output_sequences_test, references=sentences_test_ger_bleu, max_order = 2)\n",
    "print(\"Test BLEU-2 Score:\", bleu_score)\n",
    "bleu_score = bleu.compute(predictions=output_sequences_test, references=sentences_test_ger_bleu, max_order = 3)\n",
    "print(\"Test BLEU-3 Score:\", bleu_score)\n",
    "bleu_score = bleu.compute(predictions=output_sequences_test, references=sentences_test_ger_bleu, max_order = 4)\n",
    "print(\"Test BLEU-4 Score:\", bleu_score)"
   ]
  },
  {
   "cell_type": "code",
   "execution_count": 53,
   "id": "fb9e0342-e461-40e9-9db2-d8d203a82813",
   "metadata": {},
   "outputs": [
    {
     "name": "stderr",
     "output_type": "stream",
     "text": [
      "/home/deb/.local/lib/python3.10/site-packages/datasets/load.py:756: FutureWarning: The repository for meteor contains custom code which must be executed to correctly load the metric. You can inspect the repository content at https://raw.githubusercontent.com/huggingface/datasets/2.18.0/metrics/meteor/meteor.py\n",
      "You can avoid this message in future by passing the argument `trust_remote_code=True`.\n",
      "Passing `trust_remote_code=True` will be mandatory to load this metric from the next major release of `datasets`.\n",
      "  warnings.warn(\n",
      "[nltk_data] Downloading package wordnet to /home/deb/nltk_data...\n",
      "[nltk_data]   Package wordnet is already up-to-date!\n",
      "[nltk_data] Downloading package punkt to /home/deb/nltk_data...\n",
      "[nltk_data]   Package punkt is already up-to-date!\n",
      "[nltk_data] Downloading package omw-1.4 to /home/deb/nltk_data...\n",
      "[nltk_data]   Package omw-1.4 is already up-to-date!\n"
     ]
    },
    {
     "name": "stdout",
     "output_type": "stream",
     "text": [
      "Validation Meteor Score: {'meteor': 0.3697782590377392}\n"
     ]
    }
   ],
   "source": [
    "sentences_val_ger = [i[0] for i in val_data]\n",
    "from datasets import load_metric\n",
    "metric = load_metric(\"meteor\")\n",
    "x=metric.compute(predictions=output_sequences_val, references=sentences_val_ger)\n",
    "print(\"Validation Meteor Score:\",x )"
   ]
  },
  {
   "cell_type": "code",
   "execution_count": 49,
   "id": "b5f06b55-1ff4-4238-bdd9-b36da26d2dcb",
   "metadata": {},
   "outputs": [
    {
     "name": "stderr",
     "output_type": "stream",
     "text": [
      "/home/deb/.local/lib/python3.10/site-packages/transformers/generation/utils.py:1132: UserWarning: Using the model-agnostic default `max_length` (=20) to control the generation length. We recommend setting `max_new_tokens` to control the maximum length of the generation.\n",
      "  warnings.warn(\n"
     ]
    },
    {
     "name": "stdout",
     "output_type": "stream",
     "text": [
      "2999\n"
     ]
    }
   ],
   "source": [
    "inputs = tokenizer(sentences_test_eng, return_tensors=\"pt\", padding=True, truncation=True)\n",
    "output_sequences = model.generate(input_ids=inputs['input_ids'], attention_mask=inputs['attention_mask'], do_sample=False)\n",
    "output_sequences_test = tokenizer.batch_decode(output_sequences, skip_special_tokens=True)\n",
    "print(len(output_sequences_test))"
   ]
  },
  {
   "cell_type": "code",
   "execution_count": 54,
   "id": "5a4f4c98-e9c0-4871-8fa3-4d61abc6bb48",
   "metadata": {},
   "outputs": [
    {
     "name": "stderr",
     "output_type": "stream",
     "text": [
      "/home/deb/.local/lib/python3.10/site-packages/datasets/load.py:756: FutureWarning: The repository for meteor contains custom code which must be executed to correctly load the metric. You can inspect the repository content at https://raw.githubusercontent.com/huggingface/datasets/2.18.0/metrics/meteor/meteor.py\n",
      "You can avoid this message in future by passing the argument `trust_remote_code=True`.\n",
      "Passing `trust_remote_code=True` will be mandatory to load this metric from the next major release of `datasets`.\n",
      "  warnings.warn(\n",
      "[nltk_data] Downloading package wordnet to /home/deb/nltk_data...\n",
      "[nltk_data]   Package wordnet is already up-to-date!\n",
      "[nltk_data] Downloading package punkt to /home/deb/nltk_data...\n",
      "[nltk_data]   Package punkt is already up-to-date!\n",
      "[nltk_data] Downloading package omw-1.4 to /home/deb/nltk_data...\n",
      "[nltk_data]   Package omw-1.4 is already up-to-date!\n"
     ]
    },
    {
     "name": "stdout",
     "output_type": "stream",
     "text": [
      "Test Meteor Score: {'meteor': 0.3889479564070394}\n"
     ]
    }
   ],
   "source": [
    "sentences_test_ger = [i[0] for i in test_data]\n",
    "from datasets import load_metric\n",
    "metric = load_metric(\"meteor\")\n",
    "x = metric.compute(predictions=output_sequences_test, references=sentences_test_ger)\n",
    "print(\"Test Meteor Score:\", x)"
   ]
  },
  {
   "cell_type": "code",
   "execution_count": 51,
   "id": "666accbc-65f4-4846-8054-37c2093eb2ca",
   "metadata": {},
   "outputs": [
    {
     "name": "stderr",
     "output_type": "stream",
     "text": [
      "/home/deb/.local/lib/python3.10/site-packages/datasets/load.py:756: FutureWarning: The repository for bertscore contains custom code which must be executed to correctly load the metric. You can inspect the repository content at https://raw.githubusercontent.com/huggingface/datasets/2.18.0/metrics/bertscore/bertscore.py\n",
      "You can avoid this message in future by passing the argument `trust_remote_code=True`.\n",
      "Passing `trust_remote_code=True` will be mandatory to load this metric from the next major release of `datasets`.\n",
      "  warnings.warn(\n"
     ]
    },
    {
     "name": "stdout",
     "output_type": "stream",
     "text": [
      "Average Validation BERTScore Precision: 0.8268642122704843\n"
     ]
    }
   ],
   "source": [
    "from datasets import load_metric\n",
    "metric = load_metric(\"bertscore\")\n",
    "bertscore_score_val = metric.compute(predictions=output_sequences_val, references=sentences_val_ger, lang=\"de\")\n",
    "val_precision = bertscore_score_val[\"precision\"]\n",
    "avg_val_precision = sum(val_precision) / len(val_precision)\n",
    "print(\"Average Validation BERTScore Precision:\", avg_val_precision)"
   ]
  },
  {
   "cell_type": "code",
   "execution_count": 52,
   "id": "0c2064e2-0542-42df-b3d4-d60b04ccb898",
   "metadata": {},
   "outputs": [
    {
     "name": "stdout",
     "output_type": "stream",
     "text": [
      "Average Test BERTScore Precision: 0.8345420370900102\n"
     ]
    }
   ],
   "source": [
    "bertscore_score_test = metric.compute(predictions=output_sequences_test, references=sentences_test_ger, lang=\"de\")\n",
    "test_precision = bertscore_score_test[\"precision\"]\n",
    "avg_test_precision = sum(test_precision) / len(test_precision)\n",
    "print(\"Average Test BERTScore Precision:\", avg_test_precision)"
   ]
  },
  {
   "cell_type": "code",
   "execution_count": 55,
   "id": "f58d9475-cea6-4ee8-bedd-61863a921323",
   "metadata": {},
   "outputs": [
    {
     "name": "stderr",
     "output_type": "stream",
     "text": [
      "/home/deb/.local/lib/python3.10/site-packages/transformers/generation/utils.py:1132: UserWarning: Using the model-agnostic default `max_length` (=20) to control the generation length. We recommend setting `max_new_tokens` to control the maximum length of the generation.\n",
      "  warnings.warn(\n"
     ]
    }
   ],
   "source": [
    "import pandas as pd\n",
    "df = pd.read_csv('input_2B.csv')\n",
    "prefix = \"translate English to German: \"\n",
    "temp_df = [prefix + i for i in df['en']]\n",
    "inputs = tokenizer(temp_df, return_tensors=\"pt\", padding=True, truncation=True)\n",
    "output_sequences = model.generate(input_ids=inputs['input_ids'], attention_mask=inputs['attention_mask'], do_sample=False)\n",
    "output_sequences = tokenizer.batch_decode(output_sequences, skip_special_tokens=True)\n",
    "df['de'] = output_sequences\n",
    "df.to_csv('output2B.csv', index=False)"
   ]
  },
  {
   "cell_type": "code",
   "execution_count": null,
   "id": "622c3959-4b6f-42cd-a1da-65c1cfe312ea",
   "metadata": {},
   "outputs": [],
   "source": []
  }
 ],
 "metadata": {
  "kernelspec": {
   "display_name": "Python 3 (ipykernel)",
   "language": "python",
   "name": "python3"
  },
  "language_info": {
   "codemirror_mode": {
    "name": "ipython",
    "version": 3
   },
   "file_extension": ".py",
   "mimetype": "text/x-python",
   "name": "python",
   "nbconvert_exporter": "python",
   "pygments_lexer": "ipython3",
   "version": "3.10.9"
  }
 },
 "nbformat": 4,
 "nbformat_minor": 5
}
