{
 "cells": [
  {
   "cell_type": "code",
   "execution_count": 45,
   "id": "74be5a39-4c5b-44eb-9afd-fec4a6d4ffe0",
   "metadata": {},
   "outputs": [],
   "source": [
    "import torch\n",
    "from transformers import T5ForConditionalGeneration, T5Tokenizer, T5Config\n",
    "from datasets import load_dataset\n",
    "from torch.utils.data import Dataset, DataLoader\n",
    "import torch.nn.functional as F\n",
    "import matplotlib.pyplot as plt"
   ]
  },
  {
   "cell_type": "code",
   "execution_count": 46,
   "id": "6b891d29-0765-4fd6-a018-f30994cea4ed",
   "metadata": {},
   "outputs": [],
   "source": [
    "data_train = load_dataset(\"wmt16\", \"de-en\", split=\"train[:50000]\")\n",
    "data_val = load_dataset(\"wmt16\", \"de-en\", split=\"validation\")"
   ]
  },
  {
   "cell_type": "code",
   "execution_count": 47,
   "id": "472e0397-79a1-43dd-83a2-07c2d90bde07",
   "metadata": {},
   "outputs": [
    {
     "name": "stderr",
     "output_type": "stream",
     "text": [
      "Special tokens have been added in the vocabulary, make sure the associated word embeddings are fine-tuned or trained.\n",
      "Special tokens have been added in the vocabulary, make sure the associated word embeddings are fine-tuned or trained.\n"
     ]
    }
   ],
   "source": [
    "class TranslationDataset(Dataset):\n",
    "    def __init__(self, data):\n",
    "        self.data = data\n",
    "        self.tokenizer = T5Tokenizer.from_pretrained(\"google-t5/t5-small\")\n",
    "\n",
    "    def __len__(self):\n",
    "        return len(self.data)\n",
    "\n",
    "    def __getitem__(self, idx):\n",
    "        item = self.data[idx]\n",
    "        input_text = item[\"translation\"][\"en\"]\n",
    "        target_text = item[\"translation\"][\"de\"]\n",
    "\n",
    "        input_ids = self.tokenizer.encode(input_text, padding='max_length', max_length=128, return_tensors='pt', truncation=True)\n",
    "        target_ids = self.tokenizer.encode(target_text, padding='max_length', max_length=128, return_tensors='pt', truncation=True)\n",
    "\n",
    "        return {\"input_ids\": input_ids, \"labels\": target_ids}\n",
    "    \n",
    "    def evaluate(self, model, dataloader):\n",
    "        model.eval()\n",
    "        references = []\n",
    "        translations = []\n",
    "        for batch in dataloader:\n",
    "            input_ids = batch[\"input_ids\"].squeeze(1).to(device)\n",
    "            labels = batch[\"labels\"].squeeze(1).to(device)\n",
    "            outputs = model.generate(input_ids=input_ids, max_length=128, num_beams=4, early_stopping=True)\n",
    "            translated_sentences = [self.tokenizer.decode(output, skip_special_tokens=True) for output in outputs]\n",
    "            references.extend([self.tokenizer.decode(label, skip_special_tokens=True) for label in labels])\n",
    "            translations.extend(translated_sentences)\n",
    "        return references, translations\n",
    "\n",
    "train_dataset = TranslationDataset(data_train)\n",
    "val_dataset = TranslationDataset(data_val)\n"
   ]
  },
  {
   "cell_type": "code",
   "execution_count": 48,
   "id": "475f99c4-4f39-4e4d-b10e-50a853ff2c96",
   "metadata": {},
   "outputs": [],
   "source": [
    "train_loader = DataLoader(train_dataset, batch_size=8, shuffle=True)\n",
    "val_loader = DataLoader(val_dataset, batch_size=8, shuffle=False)"
   ]
  },
  {
   "cell_type": "code",
   "execution_count": 49,
   "id": "12ee038b-b624-422f-9232-bd3e6684f6af",
   "metadata": {},
   "outputs": [],
   "source": [
    "config = T5Config.from_pretrained(\"google-t5/t5-small\")\n",
    "model = T5ForConditionalGeneration.from_pretrained(\"google-t5/t5-small\", config=config)"
   ]
  },
  {
   "cell_type": "code",
   "execution_count": 50,
   "id": "cbc62e56-7556-468b-8896-751e702f5a12",
   "metadata": {},
   "outputs": [
    {
     "data": {
      "text/plain": [
       "T5ForConditionalGeneration(\n",
       "  (shared): Embedding(32128, 512)\n",
       "  (encoder): T5Stack(\n",
       "    (embed_tokens): Embedding(32128, 512)\n",
       "    (block): ModuleList(\n",
       "      (0): T5Block(\n",
       "        (layer): ModuleList(\n",
       "          (0): T5LayerSelfAttention(\n",
       "            (SelfAttention): T5Attention(\n",
       "              (q): Linear(in_features=512, out_features=512, bias=False)\n",
       "              (k): Linear(in_features=512, out_features=512, bias=False)\n",
       "              (v): Linear(in_features=512, out_features=512, bias=False)\n",
       "              (o): Linear(in_features=512, out_features=512, bias=False)\n",
       "              (relative_attention_bias): Embedding(32, 8)\n",
       "            )\n",
       "            (layer_norm): T5LayerNorm()\n",
       "            (dropout): Dropout(p=0.1, inplace=False)\n",
       "          )\n",
       "          (1): T5LayerFF(\n",
       "            (DenseReluDense): T5DenseActDense(\n",
       "              (wi): Linear(in_features=512, out_features=2048, bias=False)\n",
       "              (wo): Linear(in_features=2048, out_features=512, bias=False)\n",
       "              (dropout): Dropout(p=0.1, inplace=False)\n",
       "              (act): ReLU()\n",
       "            )\n",
       "            (layer_norm): T5LayerNorm()\n",
       "            (dropout): Dropout(p=0.1, inplace=False)\n",
       "          )\n",
       "        )\n",
       "      )\n",
       "      (1-5): 5 x T5Block(\n",
       "        (layer): ModuleList(\n",
       "          (0): T5LayerSelfAttention(\n",
       "            (SelfAttention): T5Attention(\n",
       "              (q): Linear(in_features=512, out_features=512, bias=False)\n",
       "              (k): Linear(in_features=512, out_features=512, bias=False)\n",
       "              (v): Linear(in_features=512, out_features=512, bias=False)\n",
       "              (o): Linear(in_features=512, out_features=512, bias=False)\n",
       "            )\n",
       "            (layer_norm): T5LayerNorm()\n",
       "            (dropout): Dropout(p=0.1, inplace=False)\n",
       "          )\n",
       "          (1): T5LayerFF(\n",
       "            (DenseReluDense): T5DenseActDense(\n",
       "              (wi): Linear(in_features=512, out_features=2048, bias=False)\n",
       "              (wo): Linear(in_features=2048, out_features=512, bias=False)\n",
       "              (dropout): Dropout(p=0.1, inplace=False)\n",
       "              (act): ReLU()\n",
       "            )\n",
       "            (layer_norm): T5LayerNorm()\n",
       "            (dropout): Dropout(p=0.1, inplace=False)\n",
       "          )\n",
       "        )\n",
       "      )\n",
       "    )\n",
       "    (final_layer_norm): T5LayerNorm()\n",
       "    (dropout): Dropout(p=0.1, inplace=False)\n",
       "  )\n",
       "  (decoder): T5Stack(\n",
       "    (embed_tokens): Embedding(32128, 512)\n",
       "    (block): ModuleList(\n",
       "      (0): T5Block(\n",
       "        (layer): ModuleList(\n",
       "          (0): T5LayerSelfAttention(\n",
       "            (SelfAttention): T5Attention(\n",
       "              (q): Linear(in_features=512, out_features=512, bias=False)\n",
       "              (k): Linear(in_features=512, out_features=512, bias=False)\n",
       "              (v): Linear(in_features=512, out_features=512, bias=False)\n",
       "              (o): Linear(in_features=512, out_features=512, bias=False)\n",
       "              (relative_attention_bias): Embedding(32, 8)\n",
       "            )\n",
       "            (layer_norm): T5LayerNorm()\n",
       "            (dropout): Dropout(p=0.1, inplace=False)\n",
       "          )\n",
       "          (1): T5LayerCrossAttention(\n",
       "            (EncDecAttention): T5Attention(\n",
       "              (q): Linear(in_features=512, out_features=512, bias=False)\n",
       "              (k): Linear(in_features=512, out_features=512, bias=False)\n",
       "              (v): Linear(in_features=512, out_features=512, bias=False)\n",
       "              (o): Linear(in_features=512, out_features=512, bias=False)\n",
       "            )\n",
       "            (layer_norm): T5LayerNorm()\n",
       "            (dropout): Dropout(p=0.1, inplace=False)\n",
       "          )\n",
       "          (2): T5LayerFF(\n",
       "            (DenseReluDense): T5DenseActDense(\n",
       "              (wi): Linear(in_features=512, out_features=2048, bias=False)\n",
       "              (wo): Linear(in_features=2048, out_features=512, bias=False)\n",
       "              (dropout): Dropout(p=0.1, inplace=False)\n",
       "              (act): ReLU()\n",
       "            )\n",
       "            (layer_norm): T5LayerNorm()\n",
       "            (dropout): Dropout(p=0.1, inplace=False)\n",
       "          )\n",
       "        )\n",
       "      )\n",
       "      (1-5): 5 x T5Block(\n",
       "        (layer): ModuleList(\n",
       "          (0): T5LayerSelfAttention(\n",
       "            (SelfAttention): T5Attention(\n",
       "              (q): Linear(in_features=512, out_features=512, bias=False)\n",
       "              (k): Linear(in_features=512, out_features=512, bias=False)\n",
       "              (v): Linear(in_features=512, out_features=512, bias=False)\n",
       "              (o): Linear(in_features=512, out_features=512, bias=False)\n",
       "            )\n",
       "            (layer_norm): T5LayerNorm()\n",
       "            (dropout): Dropout(p=0.1, inplace=False)\n",
       "          )\n",
       "          (1): T5LayerCrossAttention(\n",
       "            (EncDecAttention): T5Attention(\n",
       "              (q): Linear(in_features=512, out_features=512, bias=False)\n",
       "              (k): Linear(in_features=512, out_features=512, bias=False)\n",
       "              (v): Linear(in_features=512, out_features=512, bias=False)\n",
       "              (o): Linear(in_features=512, out_features=512, bias=False)\n",
       "            )\n",
       "            (layer_norm): T5LayerNorm()\n",
       "            (dropout): Dropout(p=0.1, inplace=False)\n",
       "          )\n",
       "          (2): T5LayerFF(\n",
       "            (DenseReluDense): T5DenseActDense(\n",
       "              (wi): Linear(in_features=512, out_features=2048, bias=False)\n",
       "              (wo): Linear(in_features=2048, out_features=512, bias=False)\n",
       "              (dropout): Dropout(p=0.1, inplace=False)\n",
       "              (act): ReLU()\n",
       "            )\n",
       "            (layer_norm): T5LayerNorm()\n",
       "            (dropout): Dropout(p=0.1, inplace=False)\n",
       "          )\n",
       "        )\n",
       "      )\n",
       "    )\n",
       "    (final_layer_norm): T5LayerNorm()\n",
       "    (dropout): Dropout(p=0.1, inplace=False)\n",
       "  )\n",
       "  (lm_head): Linear(in_features=512, out_features=32128, bias=False)\n",
       ")"
      ]
     },
     "execution_count": 50,
     "metadata": {},
     "output_type": "execute_result"
    }
   ],
   "source": [
    "device = torch.device(\"cuda\" if torch.cuda.is_available() else \"cpu\")\n",
    "model.to(device)"
   ]
  },
  {
   "cell_type": "code",
   "execution_count": 51,
   "id": "4c002ade-dc3d-4457-93ff-2c4707961c36",
   "metadata": {},
   "outputs": [],
   "source": [
    "def train(model, optimizer, train_loader, val_loader, num_epochs=2):\n",
    "    train_losses = []\n",
    "    val_losses = []\n",
    "\n",
    "    for epoch in range(num_epochs):\n",
    "        model.train()\n",
    "        train_loss = 0.0\n",
    "        for batch in train_loader:\n",
    "            input_ids = batch[\"input_ids\"].squeeze(1).to(device)\n",
    "            labels = batch[\"labels\"].squeeze(1).to(device)\n",
    "\n",
    "            optimizer.zero_grad()\n",
    "            outputs = model(input_ids=input_ids, labels=labels)\n",
    "            loss = outputs.loss\n",
    "            loss.backward()\n",
    "            optimizer.step()\n",
    "\n",
    "            train_loss += loss.item()\n",
    "\n",
    "        train_loss /= len(train_loader)\n",
    "        train_losses.append(train_loss)\n",
    "\n",
    "        # Validation\n",
    "        model.eval()\n",
    "        val_loss = 0.0\n",
    "        with torch.no_grad():\n",
    "            for batch in val_loader:\n",
    "                input_ids = batch[\"input_ids\"].squeeze(1).to(device)\n",
    "                labels = batch[\"labels\"].squeeze(1).to(device)\n",
    "\n",
    "                outputs = model(input_ids=input_ids, labels=labels)\n",
    "                loss = outputs.loss\n",
    "\n",
    "                val_loss += loss.item()\n",
    "\n",
    "            val_loss /= len(val_loader)\n",
    "            val_losses.append(val_loss)\n",
    "\n",
    "        print(f\"Epoch {epoch+1}/{num_epochs}, Train Loss: {train_loss}, Val Loss: {val_loss}\")\n",
    "\n",
    "    return train_losses, val_losses\n"
   ]
  },
  {
   "cell_type": "code",
   "execution_count": 52,
   "id": "81eb1061-fb12-4155-ae1c-e26dab859721",
   "metadata": {},
   "outputs": [],
   "source": [
    "optimizer = torch.optim.Adam(filter(lambda p: p.requires_grad, model.parameters()), lr=0.001)"
   ]
  },
  {
   "cell_type": "code",
   "execution_count": 53,
   "id": "0266f174-be0c-409e-964e-07d694b04218",
   "metadata": {},
   "outputs": [
    {
     "name": "stdout",
     "output_type": "stream",
     "text": [
      "Epoch 1/10, Train Loss: 0.4960833856797218, Val Loss: 0.4189342671238324\n",
      "Epoch 2/10, Train Loss: 0.4619686749815941, Val Loss: 0.43694400507956743\n",
      "Epoch 3/10, Train Loss: 0.4352102448308468, Val Loss: 0.448358174687361\n",
      "Epoch 4/10, Train Loss: 0.4152843062949181, Val Loss: 0.4618224330958636\n",
      "Epoch 5/10, Train Loss: 0.39780739733338355, Val Loss: 0.46556915704380064\n",
      "Epoch 6/10, Train Loss: 0.3829976811170578, Val Loss: 0.4798998889129828\n",
      "Epoch 7/10, Train Loss: 0.36959838216781615, Val Loss: 0.49015881091027574\n",
      "Epoch 8/10, Train Loss: 0.35707499348044397, Val Loss: 0.5030501488157931\n",
      "Epoch 9/10, Train Loss: 0.34593883629202843, Val Loss: 0.5082125968902427\n",
      "Epoch 10/10, Train Loss: 0.3361421949696541, Val Loss: 0.5183319751830662\n"
     ]
    }
   ],
   "source": [
    "train_losses, val_losses = train(model, optimizer, train_loader, val_loader, num_epochs=10)"
   ]
  },
  {
   "cell_type": "code",
   "execution_count": 54,
   "id": "5efbc37f-a98a-42f9-8b8c-bd6a765df508",
   "metadata": {},
   "outputs": [
    {
     "data": {
      "image/png": "[encoded data removed]",
      "text/plain": [
       "<Figure size 640x480 with 1 Axes>"
      ]
     },
     "metadata": {},
     "output_type": "display_data"
    }
   ],
   "source": [
    "plt.plot(train_losses, label='Train Loss')\n",
    "plt.plot(val_losses, label='Val Loss')\n",
    "plt.xlabel('Epochs')\n",
    "plt.ylabel('Loss')\n",
    "plt.title('Training and Validation Loss')\n",
    "plt.legend()\n",
    "plt.show()"
   ]
  },
  {
   "cell_type": "code",
   "execution_count": 55,
   "id": "11ba9b76-a8e0-4b13-88fc-c7b33a567977",
   "metadata": {},
   "outputs": [],
   "source": [
    "# Save the trained model\n",
    "torch.save(model.state_dict(), 'task2C.pt')"
   ]
  },
  {
   "cell_type": "code",
   "execution_count": 56,
   "id": "63f3239b-6fff-438c-8b7c-1d05b88c7f26",
   "metadata": {},
   "outputs": [
    {
     "data": {
      "text/plain": [
       "T5ForConditionalGeneration(\n",
       "  (shared): Embedding(32128, 512)\n",
       "  (encoder): T5Stack(\n",
       "    (embed_tokens): Embedding(32128, 512)\n",
       "    (block): ModuleList(\n",
       "      (0): T5Block(\n",
       "        (layer): ModuleList(\n",
       "          (0): T5LayerSelfAttention(\n",
       "            (SelfAttention): T5Attention(\n",
       "              (q): Linear(in_features=512, out_features=512, bias=False)\n",
       "              (k): Linear(in_features=512, out_features=512, bias=False)\n",
       "              (v): Linear(in_features=512, out_features=512, bias=False)\n",
       "              (o): Linear(in_features=512, out_features=512, bias=False)\n",
       "              (relative_attention_bias): Embedding(32, 8)\n",
       "            )\n",
       "            (layer_norm): T5LayerNorm()\n",
       "            (dropout): Dropout(p=0.1, inplace=False)\n",
       "          )\n",
       "          (1): T5LayerFF(\n",
       "            (DenseReluDense): T5DenseActDense(\n",
       "              (wi): Linear(in_features=512, out_features=2048, bias=False)\n",
       "              (wo): Linear(in_features=2048, out_features=512, bias=False)\n",
       "              (dropout): Dropout(p=0.1, inplace=False)\n",
       "              (act): ReLU()\n",
       "            )\n",
       "            (layer_norm): T5LayerNorm()\n",
       "            (dropout): Dropout(p=0.1, inplace=False)\n",
       "          )\n",
       "        )\n",
       "      )\n",
       "      (1-5): 5 x T5Block(\n",
       "        (layer): ModuleList(\n",
       "          (0): T5LayerSelfAttention(\n",
       "            (SelfAttention): T5Attention(\n",
       "              (q): Linear(in_features=512, out_features=512, bias=False)\n",
       "              (k): Linear(in_features=512, out_features=512, bias=False)\n",
       "              (v): Linear(in_features=512, out_features=512, bias=False)\n",
       "              (o): Linear(in_features=512, out_features=512, bias=False)\n",
       "            )\n",
       "            (layer_norm): T5LayerNorm()\n",
       "            (dropout): Dropout(p=0.1, inplace=False)\n",
       "          )\n",
       "          (1): T5LayerFF(\n",
       "            (DenseReluDense): T5DenseActDense(\n",
       "              (wi): Linear(in_features=512, out_features=2048, bias=False)\n",
       "              (wo): Linear(in_features=2048, out_features=512, bias=False)\n",
       "              (dropout): Dropout(p=0.1, inplace=False)\n",
       "              (act): ReLU()\n",
       "            )\n",
       "            (layer_norm): T5LayerNorm()\n",
       "            (dropout): Dropout(p=0.1, inplace=False)\n",
       "          )\n",
       "        )\n",
       "      )\n",
       "    )\n",
       "    (final_layer_norm): T5LayerNorm()\n",
       "    (dropout): Dropout(p=0.1, inplace=False)\n",
       "  )\n",
       "  (decoder): T5Stack(\n",
       "    (embed_tokens): Embedding(32128, 512)\n",
       "    (block): ModuleList(\n",
       "      (0): T5Block(\n",
       "        (layer): ModuleList(\n",
       "          (0): T5LayerSelfAttention(\n",
       "            (SelfAttention): T5Attention(\n",
       "              (q): Linear(in_features=512, out_features=512, bias=False)\n",
       "              (k): Linear(in_features=512, out_features=512, bias=False)\n",
       "              (v): Linear(in_features=512, out_features=512, bias=False)\n",
       "              (o): Linear(in_features=512, out_features=512, bias=False)\n",
       "              (relative_attention_bias): Embedding(32, 8)\n",
       "            )\n",
       "            (layer_norm): T5LayerNorm()\n",
       "            (dropout): Dropout(p=0.1, inplace=False)\n",
       "          )\n",
       "          (1): T5LayerCrossAttention(\n",
       "            (EncDecAttention): T5Attention(\n",
       "              (q): Linear(in_features=512, out_features=512, bias=False)\n",
       "              (k): Linear(in_features=512, out_features=512, bias=False)\n",
       "              (v): Linear(in_features=512, out_features=512, bias=False)\n",
       "              (o): Linear(in_features=512, out_features=512, bias=False)\n",
       "            )\n",
       "            (layer_norm): T5LayerNorm()\n",
       "            (dropout): Dropout(p=0.1, inplace=False)\n",
       "          )\n",
       "          (2): T5LayerFF(\n",
       "            (DenseReluDense): T5DenseActDense(\n",
       "              (wi): Linear(in_features=512, out_features=2048, bias=False)\n",
       "              (wo): Linear(in_features=2048, out_features=512, bias=False)\n",
       "              (dropout): Dropout(p=0.1, inplace=False)\n",
       "              (act): ReLU()\n",
       "            )\n",
       "            (layer_norm): T5LayerNorm()\n",
       "            (dropout): Dropout(p=0.1, inplace=False)\n",
       "          )\n",
       "        )\n",
       "      )\n",
       "      (1-5): 5 x T5Block(\n",
       "        (layer): ModuleList(\n",
       "          (0): T5LayerSelfAttention(\n",
       "            (SelfAttention): T5Attention(\n",
       "              (q): Linear(in_features=512, out_features=512, bias=False)\n",
       "              (k): Linear(in_features=512, out_features=512, bias=False)\n",
       "              (v): Linear(in_features=512, out_features=512, bias=False)\n",
       "              (o): Linear(in_features=512, out_features=512, bias=False)\n",
       "            )\n",
       "            (layer_norm): T5LayerNorm()\n",
       "            (dropout): Dropout(p=0.1, inplace=False)\n",
       "          )\n",
       "          (1): T5LayerCrossAttention(\n",
       "            (EncDecAttention): T5Attention(\n",
       "              (q): Linear(in_features=512, out_features=512, bias=False)\n",
       "              (k): Linear(in_features=512, out_features=512, bias=False)\n",
       "              (v): Linear(in_features=512, out_features=512, bias=False)\n",
       "              (o): Linear(in_features=512, out_features=512, bias=False)\n",
       "            )\n",
       "            (layer_norm): T5LayerNorm()\n",
       "            (dropout): Dropout(p=0.1, inplace=False)\n",
       "          )\n",
       "          (2): T5LayerFF(\n",
       "            (DenseReluDense): T5DenseActDense(\n",
       "              (wi): Linear(in_features=512, out_features=2048, bias=False)\n",
       "              (wo): Linear(in_features=2048, out_features=512, bias=False)\n",
       "              (dropout): Dropout(p=0.1, inplace=False)\n",
       "              (act): ReLU()\n",
       "            )\n",
       "            (layer_norm): T5LayerNorm()\n",
       "            (dropout): Dropout(p=0.1, inplace=False)\n",
       "          )\n",
       "        )\n",
       "      )\n",
       "    )\n",
       "    (final_layer_norm): T5LayerNorm()\n",
       "    (dropout): Dropout(p=0.1, inplace=False)\n",
       "  )\n",
       "  (lm_head): Linear(in_features=512, out_features=32128, bias=False)\n",
       ")"
      ]
     },
     "execution_count": 56,
     "metadata": {},
     "output_type": "execute_result"
    }
   ],
   "source": [
    "# Load the saved model\n",
    "loaded_model = T5ForConditionalGeneration.from_pretrained(\"google-t5/t5-small\")\n",
    "loaded_model.load_state_dict(torch.load('task2C.pt'))\n",
    "loaded_model.to(device)"
   ]
  },
  {
   "cell_type": "code",
   "execution_count": 65,
   "id": "39a80c7a-ab1e-49c0-bdb3-9e20f395a370",
   "metadata": {},
   "outputs": [
    {
     "name": "stderr",
     "output_type": "stream",
     "text": [
      "/home/deb/.local/lib/python3.10/site-packages/datasets/load.py:756: FutureWarning: The repository for sacrebleu contains custom code which must be executed to correctly load the metric. You can inspect the repository content at https://raw.githubusercontent.com/huggingface/datasets/2.18.0/metrics/sacrebleu/sacrebleu.py\n",
      "You can avoid this message in future by passing the argument `trust_remote_code=True`.\n",
      "Passing `trust_remote_code=True` will be mandatory to load this metric from the next major release of `datasets`.\n",
      "  warnings.warn(\n",
      "/home/deb/.local/lib/python3.10/site-packages/datasets/load.py:756: FutureWarning: The repository for meteor contains custom code which must be executed to correctly load the metric. You can inspect the repository content at https://raw.githubusercontent.com/huggingface/datasets/2.18.0/metrics/meteor/meteor.py\n",
      "You can avoid this message in future by passing the argument `trust_remote_code=True`.\n",
      "Passing `trust_remote_code=True` will be mandatory to load this metric from the next major release of `datasets`.\n",
      "  warnings.warn(\n",
      "[nltk_data] Downloading package wordnet to /home/deb/nltk_data...\n",
      "[nltk_data]   Package wordnet is already up-to-date!\n",
      "[nltk_data] Downloading package punkt to /home/deb/nltk_data...\n",
      "[nltk_data]   Package punkt is already up-to-date!\n",
      "[nltk_data] Downloading package omw-1.4 to /home/deb/nltk_data...\n",
      "[nltk_data]   Package omw-1.4 is already up-to-date!\n",
      "/home/deb/.local/lib/python3.10/site-packages/datasets/load.py:756: FutureWarning: The repository for bertscore contains custom code which must be executed to correctly load the metric. You can inspect the repository content at https://raw.githubusercontent.com/huggingface/datasets/2.18.0/metrics/bertscore/bertscore.py\n",
      "You can avoid this message in future by passing the argument `trust_remote_code=True`.\n",
      "Passing `trust_remote_code=True` will be mandatory to load this metric from the next major release of `datasets`.\n",
      "  warnings.warn(\n"
     ]
    }
   ],
   "source": [
    "from datasets import load_metric\n",
    "\n",
    "# Load evaluation metrics\n",
    "bleu_metric = load_metric(\"sacrebleu\")\n",
    "meteor_metric = load_metric(\"meteor\")\n",
    "bert_metric = load_metric(\"bertscore\")\n",
    "\n",
    "# Define a function to compute evaluation metrics\n",
    "def compute_metrics(references, translations):\n",
    "    #bleu_score = bleu_metric.compute(predictions=translations, references=references)\n",
    "    meteor_score = meteor_metric.compute(predictions=translations, references=references)\n",
    "    bert_score = bert_metric.compute(predictions=translations, references=references, lang=\"de\" )\n",
    "    precision = bert_score[\"f1\"]\n",
    "    avg = sum(precision) / len(precision)\n",
    "    \n",
    "    #bert_score_mean = sum(score['f1'] for score in bert_score) / len(bert_score)\n",
    "    \n",
    "    return {\"meteor\": meteor_score['meteor'], \"bert_score\": avg}"
   ]
  },
  {
   "cell_type": "code",
   "execution_count": 58,
   "id": "f821b02e-5d4d-437e-a36f-aecebadbd489",
   "metadata": {},
   "outputs": [
    {
     "name": "stderr",
     "output_type": "stream",
     "text": [
      "Special tokens have been added in the vocabulary, make sure the associated word embeddings are fine-tuned or trained.\n"
     ]
    }
   ],
   "source": [
    "val_references, val_translations = val_dataset.evaluate(loaded_model, val_loader)\n",
    "data_test = load_dataset(\"wmt16\",\"de-en\", split=\"test\")\n",
    "test_dataset = TranslationDataset(data_test)\n",
    "test_loader = DataLoader(test_dataset, batch_size=8, shuffle=False)\n",
    "test_references, test_translations = test_dataset.evaluate(loaded_model, test_loader)"
   ]
  },
  {
   "cell_type": "code",
   "execution_count": 59,
   "id": "7f37d8a0-6c48-46ab-b66f-e1c5ac775cc2",
   "metadata": {},
   "outputs": [
    {
     "name": "stdout",
     "output_type": "stream",
     "text": [
      "['In Tokio treffen die indischen und die japanischen Ministerpräsidenten in Indien und Japan bei den Regierungschefs in Indien und Japan.', 'Der neue indische Ministerpräsident Narendra Modi tagt mit seinem japanischen Kollegen Shinzo Abe in Tokio, um die wirtschaftlichen und Sicherheitsbeziehungen zu diskutieren, während seine erste große Außenreise seit den Wahlen im Mai in Tokio stattfindet.', 'Herr Modi ist auf einer fünftägigen Fünftagereise nach Japan, um die Wirtschaftsbeziehungen mit der drittgrößten Wirtschaft der Welt zu stärken.', 'Hoch auf der Tagesordnung stehen Pläne für eine verstärkte nukleare Zusammenarbeit.', 'Indien hofft ebenfalls auf ein Abkommen über die Verteidigungszusammenarbeit zwischen den beiden Nationen. Indien hofft außerdem auf ein Abkommen über die Verteidigungszusammenarbeit zwischen den beiden Ländern.']\n",
      "['Die Premierminister Indiens und Japans trafen sich in Tokio.', 'Indiens neuer Premierminister Narendra Modi trifft bei seinem ersten wichtigen Auslandsbesuch seit seinem Wahlsieg im Mai seinen japanischen Amtskollegen Shinzo Abe in Toko, um wirtschaftliche und sicherheitspolitische Beziehungen zu besprechen.', 'Herr Modi befindet sich auf einer fünftägigen Reise nach Japan, um die wirtschaftlichen Beziehungen mit der drittgrößten Wirtschaftsnation der Welt zu festigen.', 'Pläne für eine stärkere kerntechnische Zusammenarbeit stehen ganz oben auf der Tagesordnung.', 'Berichten zufolge hofft Indien darüber hinaus auf einen Vertrag zur Verteidigungszusammenarbeit zwischen den beiden Nationen.']\n"
     ]
    }
   ],
   "source": [
    "print(val_translations[:5])\n",
    "print(val_references[:5])"
   ]
  },
  {
   "cell_type": "code",
   "execution_count": 66,
   "id": "de9631a2-5042-45df-b64e-de182f770c9c",
   "metadata": {},
   "outputs": [],
   "source": [
    "val_metrics = compute_metrics(val_references, val_translations)\n",
    "test_metrics = compute_metrics(test_references, test_translations)"
   ]
  },
  {
   "cell_type": "code",
   "execution_count": 67,
   "id": "d678a34d-e9bf-4f59-b66f-615ee2d97a05",
   "metadata": {},
   "outputs": [
    {
     "name": "stdout",
     "output_type": "stream",
     "text": [
      "Validation METEOR Score: 0.4458422493541329\n",
      "Validation BERT Score: 0.8247643621520767\n",
      "Test METEOR Score: 0.46949164327482223\n",
      "Test BERT Score: 0.83179149509629\n"
     ]
    }
   ],
   "source": [
    "#print(\"Validation BLEU Score:\", val_metrics['bleu'])\n",
    "print(\"Validation METEOR Score:\", val_metrics['meteor'])\n",
    "print(\"Validation BERT Score:\", val_metrics['bert_score'])\n",
    "\n",
    "#print(\"Test BLEU Score:\", test_metrics['bleu'])\n",
    "print(\"Test METEOR Score:\", test_metrics['meteor'])\n",
    "print(\"Test BERT Score:\", test_metrics['bert_score'])"
   ]
  },
  {
   "cell_type": "code",
   "execution_count": 69,
   "id": "aad1e5ce-7dfc-4773-8635-2b23adc07694",
   "metadata": {},
   "outputs": [],
   "source": [
    "bleu_val_ref = [[x] for x in val_references]\n",
    "bleu_test_ref = [[x] for x in test_references]"
   ]
  },
  {
   "cell_type": "code",
   "execution_count": 70,
   "id": "90f98b9a-c86b-449c-a2fa-13e97e36847a",
   "metadata": {},
   "outputs": [
    {
     "name": "stderr",
     "output_type": "stream",
     "text": [
      "2024-03-31 00:49:05.730550: I tensorflow/core/platform/cpu_feature_guard.cc:193] This TensorFlow binary is optimized with oneAPI Deep Neural Network Library (oneDNN) to use the following CPU instructions in performance-critical operations:  AVX2 AVX512F AVX512_VNNI FMA\n",
      "To enable them in other operations, rebuild TensorFlow with the appropriate compiler flags.\n",
      "2024-03-31 00:49:05.842994: I tensorflow/core/util/port.cc:104] oneDNN custom operations are on. You may see slightly different numerical results due to floating-point round-off errors from different computation orders. To turn them off, set the environment variable `TF_ENABLE_ONEDNN_OPTS=0`.\n"
     ]
    }
   ],
   "source": [
    "import evaluate\n",
    "bleu = evaluate.load('bleu')"
   ]
  },
  {
   "cell_type": "code",
   "execution_count": 72,
   "id": "e8364e5f-131d-4cf1-8023-2039bae89511",
   "metadata": {},
   "outputs": [
    {
     "name": "stdout",
     "output_type": "stream",
     "text": [
      "Validation BLEU-1 Score: {'bleu': 0.4691296554471221, 'precisions': [0.4691296554471221], 'brevity_penalty': 1.0, 'length_ratio': 1.1352023513452407, 'translation_length': 50210, 'reference_length': 44230}\n",
      "Validation BLEU-2 Score: {'bleu': 0.3178839743620898, 'precisions': [0.4691296554471221, 0.2153993463916238], 'brevity_penalty': 1.0, 'length_ratio': 1.1352023513452407, 'translation_length': 50210, 'reference_length': 44230}\n",
      "Validation BLEU-3 Score: {'bleu': 0.2271528290207232, 'precisions': [0.4691296554471221, 0.2153993463916238, 0.1159891008174387], 'brevity_penalty': 1.0, 'length_ratio': 1.1352023513452407, 'translation_length': 50210, 'reference_length': 44230}\n",
      "Validation BLEU-4 Score: {'bleu': 0.16645287328251132, 'precisions': [0.4691296554471221, 0.2153993463916238, 0.1159891008174387, 0.06549539038729897], 'brevity_penalty': 1.0, 'length_ratio': 1.1352023513452407, 'translation_length': 50210, 'reference_length': 44230}\n",
      "\n",
      "\n",
      "Test BLEU-1 Score: {'bleu': 0.4914096696465489, 'precisions': [0.4914096696465489], 'brevity_penalty': 1.0, 'length_ratio': 1.1192907982509335, 'translation_length': 70137, 'reference_length': 62662}\n",
      "Test BLEU-2 Score: {'bleu': 0.34346283638142994, 'precisions': [0.4914096696465489, 0.24005779141469807], 'brevity_penalty': 1.0, 'length_ratio': 1.1192907982509335, 'translation_length': 70137, 'reference_length': 62662}\n",
      "Test BLEU-3 Score: {'bleu': 0.25176902943667806, 'precisions': [0.4914096696465489, 0.24005779141469807, 0.13528430440137826], 'brevity_penalty': 1.0, 'length_ratio': 1.1192907982509335, 'translation_length': 70137, 'reference_length': 62662}\n",
      "Test BLEU-4 Score: {'bleu': 0.18896414624572944, 'precisions': [0.4914096696465489, 0.24005779141469807, 0.13528430440137826, 0.07989336647913123], 'brevity_penalty': 1.0, 'length_ratio': 1.1192907982509335, 'translation_length': 70137, 'reference_length': 62662}\n"
     ]
    }
   ],
   "source": [
    "bleu_score = bleu.compute(predictions=val_translations, references=bleu_val_ref, max_order=1)\n",
    "print(\"Validation BLEU-1 Score:\", bleu_score)\n",
    "bleu_score = bleu.compute(predictions=val_translations, references=bleu_val_ref, max_order=2)\n",
    "print(\"Validation BLEU-2 Score:\", bleu_score)\n",
    "bleu_score = bleu.compute(predictions=val_translations, references=bleu_val_ref, max_order=3)\n",
    "print(\"Validation BLEU-3 Score:\", bleu_score)\n",
    "bleu_score = bleu.compute(predictions=val_translations, references=bleu_val_ref, max_order=4)\n",
    "print(\"Validation BLEU-4 Score:\", bleu_score)\n",
    "print(\"\\n\")\n",
    "bleu_score = bleu.compute(predictions=test_translations, references=bleu_test_ref, max_order = 1)\n",
    "print(\"Test BLEU-1 Score:\", bleu_score)\n",
    "bleu_score = bleu.compute(predictions=test_translations, references=bleu_test_ref, max_order = 2)\n",
    "print(\"Test BLEU-2 Score:\", bleu_score)\n",
    "bleu_score = bleu.compute(predictions=test_translations, references=bleu_test_ref, max_order = 3)\n",
    "print(\"Test BLEU-3 Score:\", bleu_score)\n",
    "bleu_score = bleu.compute(predictions=test_translations, references=bleu_test_ref, max_order = 4)\n",
    "print(\"Test BLEU-4 Score:\", bleu_score)"
   ]
  },
  {
   "cell_type": "code",
   "execution_count": 78,
   "id": "3173b428-dd03-4299-ac29-72308d351e4e",
   "metadata": {},
   "outputs": [
    {
     "name": "stderr",
     "output_type": "stream",
     "text": [
      "Special tokens have been added in the vocabulary, make sure the associated word embeddings are fine-tuned or trained.\n"
     ]
    }
   ],
   "source": [
    "tokenizer = T5Tokenizer.from_pretrained(\"google-t5/t5-small\")\n",
    "import pandas as pd\n",
    "sentences = pd.read_csv(\"input_2B.csv\")\n",
    "sentences['de'] = \"\"\n",
    "for i in range(len(sentences)):\n",
    "    input_text = \"translate English to German: \" + sentences['en'][i]\n",
    "    input_ids = tokenizer.encode(input_text, return_tensors=\"pt\").to(device)\n",
    "    outputs = model.generate(input_ids, max_length=128, num_beams=4, early_stopping=True)\n",
    "    translated = tokenizer.decode(outputs[0], skip_special_tokens=True)\n",
    "    sentences['de'][i] = translated\n",
    "sentences.to_csv(\"task2C.csv\", index=False)"
   ]
  }
 ],
 "metadata": {
  "kernelspec": {
   "display_name": "Python 3 (ipykernel)",
   "language": "python",
   "name": "python3"
  },
  "language_info": {
   "codemirror_mode": {
    "name": "ipython",
    "version": 3
   },
   "file_extension": ".py",
   "mimetype": "text/x-python",
   "name": "python",
   "nbconvert_exporter": "python",
   "pygments_lexer": "ipython3",
   "version": "3.10.9"
  }
 },
 "nbformat": 4,
 "nbformat_minor": 5
}
